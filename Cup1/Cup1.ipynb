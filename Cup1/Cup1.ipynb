{
 "cells": [
  {
   "cell_type": "code",
   "execution_count": 2,
   "metadata": {},
   "outputs": [],
   "source": [
    "import pandas as pd\n",
    "import numpy as np\n",
    "import _pickle as pkl\n",
    "from sklearn.model_selection import train_test_split\n",
    "import re\n",
    "from bs4 import BeautifulSoup\n",
    "from collections import Counter\n",
    "from string import punctuation\n",
    "from scipy.sparse import hstack\n",
    "import nltk\n",
    "from nltk.corpus import stopwords\n",
    "from nltk.stem.porter import PorterStemmer"
   ]
  },
  {
   "cell_type": "markdown",
   "metadata": {},
   "source": [
    "# Test and Train"
   ]
  },
  {
   "cell_type": "code",
   "execution_count": 3,
   "metadata": {},
   "outputs": [],
   "source": [
    "df = pd.read_csv('./datasets/train.csv')\n",
    "X = df.loc[:, 'Page content'].to_numpy()\n",
    "y = df.loc[:,'Popularity'].to_numpy()"
   ]
  },
  {
   "cell_type": "code",
   "execution_count": 4,
   "metadata": {},
   "outputs": [],
   "source": [
    "# from collections import Counter\n",
    "# from string import punctuation\n",
    "\n",
    "# soup = BeautifulSoup(X[70], 'html.parser')\n",
    "# print(soup.prettify())\n",
    "\n",
    "# # Title\n",
    "# print(\"Title: \", soup.find(\"h1\", {\"class\": \"title\"}).text)\n",
    "\n",
    "# # Channel\n",
    "# print(\"Data Channel: \", soup.find(\"article\").get(\"data-channel\"))\n",
    "\n",
    "# # Author\n",
    "# author_re = r'(By\\s|^)(.*?)(?=\\d{4}-\\d{2}-\\d{2}|$)'\n",
    "# if soup.head.find(\"span\") == None:\n",
    "#     print(\"Author: None\")\n",
    "# else:\n",
    "#     print(\"Author: \", re.search(author_re, soup.head.find(\"span\").text).group(1))\n",
    "\n",
    "# # Related Topics\n",
    "# print(\"Topics: \", soup.find(\"footer\", {\"class\": 'article-topics'}).text.replace(\" Topics: \", \"\").split(\",\"))\n",
    "\n",
    "# # Time\n",
    "# print(\"Time: \", re.search(r'(\\d+:\\d+:\\d+)', soup.time.text).group(1)[:5])\n",
    "\n",
    "# # Weekend\n",
    "# print(\"Weekend: \", int(soup.time.get(\"datetime\")[:3] in [\"Sat\", \"Sun\"]))\n",
    "\n",
    "# # Word Count\n",
    "# text_p = (''.join(s.findAll(string=True))for s in soup.findAll('p'))\n",
    "# c_p = Counter((x.rstrip(punctuation).lower() for y in text_p for x in y.split()))\n",
    "# text_div = (''.join(s.findAll(string=True))for s in soup.findAll('div'))\n",
    "# c_div = Counter((x.rstrip(punctuation).lower() for y in text_div for x in y.split()))\n",
    "# total = c_div + c_p\n",
    "# print(\"Total words: \", len(list(total.elements())))\n",
    "\n",
    "\n",
    "# section = soup.find(\"section\", {\"class\": \"article-content\"})\n",
    "\n",
    "# # Video + Image count\n",
    "# img_count = len(section.find_all(\"img\")) + len(section.find_all(\"picture\")) + len(section.find_all(\"figure\"))\n",
    "# video_count = len(section.find_all(\"video\")) + len(section.find_all(\"iframe\"))\n",
    "# media_count = img_count + video_count\n",
    "# print(\"Media count: \", media_count)\n",
    "\n",
    "# # Appealing count\n",
    "# link_count = len(section.find_all(\"a\"))\n",
    "# strong_count = len(section.find_all(\"strong\"))\n",
    "# appealing_count = link_count + strong_count\n",
    "# print(\"Link count: \", appealing_count)\n"
   ]
  },
  {
   "cell_type": "markdown",
   "metadata": {},
   "source": [
    "### Single Features Extractions "
   ]
  },
  {
   "cell_type": "code",
   "execution_count": 5,
   "metadata": {},
   "outputs": [],
   "source": [
    "def feature_selection_author(text):\n",
    "    feature_str = \"\"\n",
    "    soup = BeautifulSoup(text, 'html.parser')\n",
    "    # Author formate may various from news website\n",
    "    author = soup.find(\"span\", {\"class\": \"author_name\"}) # default format\n",
    "    if(author != None): \n",
    "        feature_str += author.text.replace(\"By \", \"\") + \" \"\n",
    "    elif(soup.find(\"span\") != None): \n",
    "        feature_str += soup.find(\"span\").text + \" \"\n",
    "    elif(soup.find(\"a\") != None): \n",
    "        feature_str += soup.find(\"a\").text + \" \"\n",
    "    feature_str = re.sub(r'[\\W]+', ' ', feature_str.lower())\n",
    "    return feature_str\n",
    "\n",
    "def feature_selection_titles(text):\n",
    "    feature_str = \"\"\n",
    "    soup = BeautifulSoup(text, 'html.parser')\n",
    "    feature_str += soup.find(\"h1\", {\"class\": \"title\"}).text + \" \"\n",
    "    feature_str = re.sub(r'[\\W]+', ' ', feature_str.lower())\n",
    "    return feature_str\n",
    "\n",
    "def feature_selection_channels(text):\n",
    "    feature_str = \"\"\n",
    "    soup = BeautifulSoup(text, 'html.parser')\n",
    "    feature_str += soup.find(\"article\").get(\"data-channel\") + \" \"\n",
    "    feature_str = re.sub(r'[\\W]+', ' ', feature_str.lower())\n",
    "    return feature_str\n",
    "\n",
    "def feature_selection_topic(text):\n",
    "    feature_str = \"\"\n",
    "    soup = BeautifulSoup(text, 'html.parser')\n",
    "    feature_str += soup.find(\"footer\", {\"class\": 'article-topics'}).text.replace(\" Topics: \", \"\").replace(\",\", \"\")\n",
    "    feature_str = re.sub(r'[\\W]+', ' ', feature_str.lower())\n",
    "    return feature_str\n",
    "\n",
    "def extract_weekend(text):\n",
    "    soup = BeautifulSoup(text, 'html.parser')\n",
    "    ret = 0\n",
    "    if soup.time.text == None or soup.time.text == \"\":\n",
    "        ret = 0\n",
    "    else:\n",
    "        if soup.time.get(\"datetime\")[:3] in [\"Sat\", \"Sun\"]:\n",
    "            ret = 1 \n",
    "        else:\n",
    "            ret = 0\n",
    "    return ret\n",
    "\n",
    "def extract_word_count(text):\n",
    "    soup = BeautifulSoup(text, 'html.parser')\n",
    "    # Word Count\n",
    "    text_p = (''.join(s.findAll(string=True))for s in soup.findAll('p'))\n",
    "    c_p = Counter((x.rstrip(punctuation).lower() for y in text_p for x in y.split()))\n",
    "    text_div = (''.join(s.findAll(string=True))for s in soup.findAll('div'))\n",
    "    c_div = Counter((x.rstrip(punctuation).lower() for y in text_div for x in y.split()))\n",
    "    total = c_div + c_p\n",
    "    return len(list(total.elements()))\n",
    "\n",
    "def extract_media_count(text):\n",
    "    soup = BeautifulSoup(text, 'html.parser')\n",
    "    section = soup.find(\"section\", {\"class\": \"article-content\"})\n",
    "    img_count = len(section.find_all(\"img\")) + len(section.find_all(\"picture\")) + len(section.find_all(\"figure\"))\n",
    "    video_count = len(section.find_all(\"video\")) + len(section.find_all(\"iframe\"))\n",
    "    media_count = img_count + video_count\n",
    "    return media_count\n",
    "\n",
    "def extract_appealing_count(text):\n",
    "    soup = BeautifulSoup(text, 'html.parser')\n",
    "    section = soup.find(\"section\", {\"class\": \"article-content\"})\n",
    "    link_count = len(section.find_all(\"a\"))\n",
    "    strong_count = len(section.find_all(\"strong\"))\n",
    "    appealing_count = link_count + strong_count\n",
    "    return appealing_count\n",
    "\n"
   ]
  },
  {
   "cell_type": "code",
   "execution_count": 6,
   "metadata": {},
   "outputs": [],
   "source": [
    "# nltk.download('stopwords')\n",
    "stop = stopwords.words('english')\n",
    "\n",
    "def tokenizer_stem_nostop(text):\n",
    "    porter = PorterStemmer()\n",
    "    return [porter.stem(w) for w in re.split(r'\\s+', text.strip()) \\\n",
    "            if w not in stop and re.match('[a-zA-Z]+', w)]"
   ]
  },
  {
   "cell_type": "markdown",
   "metadata": {},
   "source": [
    "### Out of mem "
   ]
  },
  {
   "cell_type": "code",
   "execution_count": 7,
   "metadata": {},
   "outputs": [],
   "source": [
    "def get_stream(path, size):\n",
    "    for chunk in pd.read_csv(path, chunksize=size):\n",
    "        yield chunk\n",
    "batch_size = 1024\n",
    "iters = int((27643+batch_size-1)/(batch_size*2))"
   ]
  },
  {
   "cell_type": "code",
   "execution_count": 8,
   "metadata": {},
   "outputs": [],
   "source": [
    "stream = get_stream(path='./datasets/train.csv', size=batch_size)\n",
    "idx = 0\n",
    "X_train, y_train = None, None\n",
    "batch_X, batch_y = None, None\n",
    "for z in range(iters):\n",
    "    batch = next(stream)\n",
    "    if(idx==0):\n",
    "        X_train= batch['Page content']\n",
    "        y_train = batch['Popularity']\n",
    "        idx+=1\n",
    "    else:\n",
    "        X_train = np.concatenate((X_train, batch['Page content']))\n",
    "        y_train = np.concatenate((y_train, batch['Popularity']))\n",
    "    batch = next(stream)"
   ]
  },
  {
   "cell_type": "markdown",
   "metadata": {},
   "source": [
    "# Tfidf"
   ]
  },
  {
   "cell_type": "code",
   "execution_count": 9,
   "metadata": {},
   "outputs": [
    {
     "name": "stderr",
     "output_type": "stream",
     "text": [
      "c:\\Users\\johnson\\.conda\\envs\\DL2\\Lib\\site-packages\\sklearn\\feature_extraction\\text.py:525: UserWarning: The parameter 'token_pattern' will not be used since 'tokenizer' is not None'\n",
      "  warnings.warn(\n"
     ]
    },
    {
     "data": {
      "text/html": [
       "<style>#sk-container-id-1 {color: black;}#sk-container-id-1 pre{padding: 0;}#sk-container-id-1 div.sk-toggleable {background-color: white;}#sk-container-id-1 label.sk-toggleable__label {cursor: pointer;display: block;width: 100%;margin-bottom: 0;padding: 0.3em;box-sizing: border-box;text-align: center;}#sk-container-id-1 label.sk-toggleable__label-arrow:before {content: \"▸\";float: left;margin-right: 0.25em;color: #696969;}#sk-container-id-1 label.sk-toggleable__label-arrow:hover:before {color: black;}#sk-container-id-1 div.sk-estimator:hover label.sk-toggleable__label-arrow:before {color: black;}#sk-container-id-1 div.sk-toggleable__content {max-height: 0;max-width: 0;overflow: hidden;text-align: left;background-color: #f0f8ff;}#sk-container-id-1 div.sk-toggleable__content pre {margin: 0.2em;color: black;border-radius: 0.25em;background-color: #f0f8ff;}#sk-container-id-1 input.sk-toggleable__control:checked~div.sk-toggleable__content {max-height: 200px;max-width: 100%;overflow: auto;}#sk-container-id-1 input.sk-toggleable__control:checked~label.sk-toggleable__label-arrow:before {content: \"▾\";}#sk-container-id-1 div.sk-estimator input.sk-toggleable__control:checked~label.sk-toggleable__label {background-color: #d4ebff;}#sk-container-id-1 div.sk-label input.sk-toggleable__control:checked~label.sk-toggleable__label {background-color: #d4ebff;}#sk-container-id-1 input.sk-hidden--visually {border: 0;clip: rect(1px 1px 1px 1px);clip: rect(1px, 1px, 1px, 1px);height: 1px;margin: -1px;overflow: hidden;padding: 0;position: absolute;width: 1px;}#sk-container-id-1 div.sk-estimator {font-family: monospace;background-color: #f0f8ff;border: 1px dotted black;border-radius: 0.25em;box-sizing: border-box;margin-bottom: 0.5em;}#sk-container-id-1 div.sk-estimator:hover {background-color: #d4ebff;}#sk-container-id-1 div.sk-parallel-item::after {content: \"\";width: 100%;border-bottom: 1px solid gray;flex-grow: 1;}#sk-container-id-1 div.sk-label:hover label.sk-toggleable__label {background-color: #d4ebff;}#sk-container-id-1 div.sk-serial::before {content: \"\";position: absolute;border-left: 1px solid gray;box-sizing: border-box;top: 0;bottom: 0;left: 50%;z-index: 0;}#sk-container-id-1 div.sk-serial {display: flex;flex-direction: column;align-items: center;background-color: white;padding-right: 0.2em;padding-left: 0.2em;position: relative;}#sk-container-id-1 div.sk-item {position: relative;z-index: 1;}#sk-container-id-1 div.sk-parallel {display: flex;align-items: stretch;justify-content: center;background-color: white;position: relative;}#sk-container-id-1 div.sk-item::before, #sk-container-id-1 div.sk-parallel-item::before {content: \"\";position: absolute;border-left: 1px solid gray;box-sizing: border-box;top: 0;bottom: 0;left: 50%;z-index: -1;}#sk-container-id-1 div.sk-parallel-item {display: flex;flex-direction: column;z-index: 1;position: relative;background-color: white;}#sk-container-id-1 div.sk-parallel-item:first-child::after {align-self: flex-end;width: 50%;}#sk-container-id-1 div.sk-parallel-item:last-child::after {align-self: flex-start;width: 50%;}#sk-container-id-1 div.sk-parallel-item:only-child::after {width: 0;}#sk-container-id-1 div.sk-dashed-wrapped {border: 1px dashed gray;margin: 0 0.4em 0.5em 0.4em;box-sizing: border-box;padding-bottom: 0.4em;background-color: white;}#sk-container-id-1 div.sk-label label {font-family: monospace;font-weight: bold;display: inline-block;line-height: 1.2em;}#sk-container-id-1 div.sk-label-container {text-align: center;}#sk-container-id-1 div.sk-container {/* jupyter's `normalize.less` sets `[hidden] { display: none; }` but bootstrap.min.css set `[hidden] { display: none !important; }` so we also need the `!important` here to be able to override the default hidden behavior on the sphinx rendered scikit-learn.org. See: https://github.com/scikit-learn/scikit-learn/issues/21755 */display: inline-block !important;position: relative;}#sk-container-id-1 div.sk-text-repr-fallback {display: none;}</style><div id=\"sk-container-id-1\" class=\"sk-top-container\"><div class=\"sk-text-repr-fallback\"><pre>TfidfVectorizer(ngram_range=(1, 2),\n",
       "                preprocessor=&lt;function feature_selection_topic at 0x000001FE6827DE40&gt;,\n",
       "                tokenizer=&lt;function tokenizer_stem_nostop at 0x000001FE6827D8A0&gt;)</pre><b>In a Jupyter environment, please rerun this cell to show the HTML representation or trust the notebook. <br />On GitHub, the HTML representation is unable to render, please try loading this page with nbviewer.org.</b></div><div class=\"sk-container\" hidden><div class=\"sk-item\"><div class=\"sk-estimator sk-toggleable\"><input class=\"sk-toggleable__control sk-hidden--visually\" id=\"sk-estimator-id-1\" type=\"checkbox\" checked><label for=\"sk-estimator-id-1\" class=\"sk-toggleable__label sk-toggleable__label-arrow\">TfidfVectorizer</label><div class=\"sk-toggleable__content\"><pre>TfidfVectorizer(ngram_range=(1, 2),\n",
       "                preprocessor=&lt;function feature_selection_topic at 0x000001FE6827DE40&gt;,\n",
       "                tokenizer=&lt;function tokenizer_stem_nostop at 0x000001FE6827D8A0&gt;)</pre></div></div></div></div></div>"
      ],
      "text/plain": [
       "TfidfVectorizer(ngram_range=(1, 2),\n",
       "                preprocessor=<function feature_selection_topic at 0x000001FE6827DE40>,\n",
       "                tokenizer=<function tokenizer_stem_nostop at 0x000001FE6827D8A0>)"
      ]
     },
     "execution_count": 9,
     "metadata": {},
     "output_type": "execute_result"
    }
   ],
   "source": [
    "from sklearn.feature_extraction.text import TfidfVectorizer\n",
    "\n",
    "tfidf_author = TfidfVectorizer(ngram_range=(1,2),\n",
    "                        preprocessor=feature_selection_author,\n",
    "                        tokenizer=tokenizer_stem_nostop)\n",
    "\n",
    "tfidf_channel = TfidfVectorizer(ngram_range=(1,2),\n",
    "                        preprocessor=feature_selection_channels,\n",
    "                        tokenizer=tokenizer_stem_nostop)\n",
    "\n",
    "tfidf_title = TfidfVectorizer(ngram_range=(1,2),\n",
    "                        preprocessor=feature_selection_titles,\n",
    "                        tokenizer=tokenizer_stem_nostop)\n",
    "\n",
    "tfidf_topic = TfidfVectorizer(ngram_range=(1,2),\n",
    "                        preprocessor=feature_selection_topic,\n",
    "                        tokenizer=tokenizer_stem_nostop)\n",
    "tfidf_author.fit(X_train)\n",
    "#tfidf_channel.fit(X_train)\n",
    "tfidf_title.fit(X_train)\n",
    "tfidf_topic.fit(X_train)"
   ]
  },
  {
   "cell_type": "markdown",
   "metadata": {},
   "source": [
    "# hash"
   ]
  },
  {
   "cell_type": "code",
   "execution_count": 10,
   "metadata": {},
   "outputs": [],
   "source": [
    "from sklearn.feature_extraction.text import HashingVectorizer\n",
    "\n",
    "# hash words to 1024 buckets\n",
    "hashvec_author = HashingVectorizer(n_features=2**10,\n",
    "                            preprocessor=feature_selection_author,\n",
    "                            tokenizer=tokenizer_stem_nostop)\n",
    "\n",
    "hashvec_channel = HashingVectorizer(n_features=2**10,\n",
    "                            preprocessor=feature_selection_channels,\n",
    "                            tokenizer=tokenizer_stem_nostop)\n",
    "\n",
    "hashvec_title = HashingVectorizer(n_features=2**10,\n",
    "                            preprocessor=feature_selection_titles,\n",
    "                            tokenizer=tokenizer_stem_nostop)\n",
    "\n",
    "hashvec_topic = HashingVectorizer(n_features=2**10,\n",
    "                            preprocessor=feature_selection_topic,\n",
    "                            tokenizer=tokenizer_stem_nostop)"
   ]
  },
  {
   "cell_type": "markdown",
   "metadata": {},
   "source": [
    "### Combine Feature Function\n"
   ]
  },
  {
   "cell_type": "code",
   "execution_count": 11,
   "metadata": {},
   "outputs": [],
   "source": [
    "def combine(x_batch):\n",
    "    x_batch_channel = \"\"\n",
    "    x_batch_title = tfidf_title.transform(x_batch).toarray()\n",
    "    #print(x_batch_title.shape)\n",
    "    x_batch_author = tfidf_author.transform(x_batch).toarray()\n",
    "    #print(x_batch_author.shape)\n",
    "    x_batch_topic = tfidf_topic.transform(x_batch).toarray()\n",
    "    #print(x_batch_topic.shape)\n",
    "    # x_batch_channel = tfidf_channel.transform(x_batch).toarray()\n",
    "    #print(x_batch_channel.shape)\n",
    "    weekend_vectorized = np.vectorize(extract_weekend)\n",
    "    x_batch_weekend = weekend_vectorized(x_batch).reshape(len(x_batch),1)\n",
    "    #print(x_batch_weekend.shape)\n",
    "    media_vectorized = np.vectorize(extract_media_count)\n",
    "    x_batch_media = media_vectorized(x_batch).reshape(len(x_batch),1)\n",
    "    #print(x_batch_media.shape)\n",
    "    appealing_count_vectorized = np.vectorize(extract_appealing_count)\n",
    "    x_batch_appealing = appealing_count_vectorized(x_batch).reshape(len(x_batch),1)\n",
    "    #print(x_batch_appealing.shape)\n",
    "    word_vectorized = np.vectorize(extract_word_count)\n",
    "    x_batch_word = word_vectorized(x_batch).reshape(len(x_batch),1)\n",
    "    #print(x_batch_word.shape)\n",
    "    # combined_x_batch = np.concatenate((x_batch_title, x_batch_author, x_batch_channel, x_batch_topic),axis=1)\n",
    "    # , x_batch_weekend\n",
    "    #                            , x_batch_media, x_batch_appealing, x_batch_word\n",
    "    #print(combined_x_batch.shape)\n",
    "    return x_batch_title, x_batch_author, x_batch_channel, x_batch_topic, x_batch_weekend, x_batch_media, x_batch_appealing, x_batch_word"
   ]
  },
  {
   "cell_type": "code",
   "execution_count": 12,
   "metadata": {},
   "outputs": [],
   "source": [
    "from sklearn.linear_model import SGDClassifier\n",
    "from xgboost import XGBClassifier\n",
    "from sklearn.metrics import roc_auc_score\n",
    "from sklearn.preprocessing import LabelEncoder\n",
    "from sklearn.ensemble import RandomForestClassifier"
   ]
  },
  {
   "cell_type": "markdown",
   "metadata": {},
   "source": [
    "## Hybrid"
   ]
  },
  {
   "cell_type": "code",
   "execution_count": 13,
   "metadata": {},
   "outputs": [
    {
     "name": "stdout",
     "output_type": "stream",
     "text": [
      "0/13 iterations\n",
      "Train score: 0.8262301655496362\n",
      "Valid score: 0.5079019780706275\n",
      "1/13 iterations\n",
      "Train score: 0.8213694354998704\n",
      "Valid score: 0.557888734534238\n",
      "2/13 iterations\n"
     ]
    }
   ],
   "source": [
    "clf1 = RandomForestClassifier(n_estimators=50, max_depth=5)\n",
    "clf2 = RandomForestClassifier(n_estimators=50, max_depth=5)\n",
    "clf3 = SGDClassifier(loss='log_loss', alpha=0.01, max_iter=100, tol=1e-3)\n",
    "clf4 = RandomForestClassifier(n_estimators=50, max_depth=5)\n",
    "clf5 = RandomForestClassifier(n_estimators=50, max_depth=5)\n",
    "clf6 = SGDClassifier(loss='log_loss', alpha=0.01, max_iter=100, tol=1e-3)\n",
    "clf7 = SGDClassifier(loss='log_loss', alpha=0.01, max_iter=100, tol=1e-3)\n",
    "clf8 = SGDClassifier(loss='log_loss', alpha=0.01, max_iter=100, tol=1e-3)\n",
    "\n",
    "stream = get_stream(path='./datasets/train.csv', size=batch_size)\n",
    "train_auc, val_auc = [], []\n",
    "classes = np.array([-1, 1])\n",
    "idx=0\n",
    "for i in range(iters):\n",
    "    print(f'{i}/{iters} iterations')\n",
    "    batch = next(stream)\n",
    "    X_train, y_train = batch['Page content'], batch['Popularity']\n",
    "    x_train_title, x_train_author, x_train_channel, x_train_topic, x_train_weekend, x_train_media, x_train_appealing, x_train_word = combine(X_train)\n",
    "    \n",
    "    batch = next(stream)\n",
    "    X_valid, y_valid = batch['Page content'], batch['Popularity']\n",
    "    x_valid_title, x_valid_author, x_valid_channel, x_valid_topic, x_valid_weekend, x_valid_media, x_valid_appealing, x_valid_word = combine(X_valid)\n",
    "    if(idx!=0):\n",
    "        clf1 = pkl.load(open('output/clf1.pkl', 'rb'))\n",
    "        clf2 = pkl.load(open('output/clf2.pkl', 'rb'))\n",
    "        clf4 = pkl.load(open('output/clf4.pkl', 'rb'))\n",
    "        clf5 = pkl.load(open('output/clf5.pkl', 'rb'))\n",
    "\n",
    "    clf1.fit(x_train_title, y_train)\n",
    "    clf2.fit(x_train_author, y_train)\n",
    "    #clf3.partial_fit(x_train_channel, y_train, classes)\n",
    "    clf4.fit(x_train_topic, y_train)\n",
    "    clf5.fit(x_train_weekend, y_train)\n",
    "    idx+=1\n",
    "    # clf6.partial_fit(x_train_media, y_train, classes)\n",
    "    # clf7.partial_fit(x_train_appealing, y_train, classes)\n",
    "    # clf8.partial_fit(x_train_word, y_train, classes)\n",
    "    pkl.dump(clf1, open('output/clf1.pkl', 'wb'))\n",
    "    pkl.dump(clf2, open('output/clf2.pkl', 'wb'))\n",
    "    pkl.dump(clf4, open('output/clf4.pkl', 'wb'))\n",
    "    pkl.dump(clf5, open('output/clf5.pkl', 'wb'))\n",
    "    train_score = roc_auc_score(y_train, (clf1.predict_proba(x_train_title)[:,1]+clf2.predict_proba(x_train_author)[:,1]\n",
    "                                +clf4.predict_proba(x_train_topic)[:,1]\n",
    "                                +clf5.predict_proba(x_train_weekend)[:,1])/4)\n",
    "    \n",
    "    valid_score = roc_auc_score(y_valid, (clf1.predict_proba(x_valid_title)[:,1]+clf2.predict_proba(x_valid_author)[:,1]\n",
    "                                +clf4.predict_proba(x_valid_topic)[:,1]\n",
    "                                +clf5.predict_proba(x_valid_weekend)[:,1])/4)\n",
    "    print(f'Train score: {train_score}')\n",
    "    print(f'Valid score: {valid_score}')\n",
    "    train_auc.append(train_score)\n",
    "    val_auc.append(valid_score)\n",
    "# pkl.dump(clf1, open('output/clf1.pkl', 'wb'))\n",
    "# pkl.dump(clf2, open('output/clf2.pkl', 'wb'))\n",
    "# pkl.dump(clf3, open('output/clf3.pkl', 'wb'))\n",
    "# pkl.dump(clf4, open('output/clf4.pkl', 'wb'))"
   ]
  },
  {
   "cell_type": "markdown",
   "metadata": {},
   "source": [
    "### Average weight error eurve"
   ]
  },
  {
   "cell_type": "code",
   "execution_count": null,
   "metadata": {},
   "outputs": [
    {
     "data": {
      "image/png": "[encoded data removed]",
      "text/plain": [
       "<Figure size 640x480 with 1 Axes>"
      ]
     },
     "metadata": {},
     "output_type": "display_data"
    }
   ],
   "source": [
    "import os\n",
    "if not os.path.exists('output'):\n",
    "    os.mkdir('output')\n",
    "\n",
    "import matplotlib.pyplot as plt\n",
    "\n",
    "plt.plot(range(1, len(train_auc)+1), train_auc, color='blue', label='Train auc')\n",
    "plt.plot(range(1, len(train_auc)+1), val_auc, color='red', label='Val auc')\n",
    "plt.legend(loc=\"best\")\n",
    "plt.xlabel('#Batches')\n",
    "plt.ylabel('Auc')\n",
    "plt.tight_layout()\n",
    "plt.show()"
   ]
  },
  {
   "cell_type": "markdown",
   "metadata": {},
   "source": [
    "### Find best parameters"
   ]
  },
  {
   "cell_type": "code",
   "execution_count": null,
   "metadata": {},
   "outputs": [],
   "source": [
    "best_coef = []\n",
    "best = 0\n",
    "stream = get_stream(path='./datasets/train.csv', size=batch_size)\n",
    "idx = 0\n",
    "X_valid, y_valid = None, None\n",
    "batch_X, batch_y = None, None\n",
    "for z in range(iters):\n",
    "    batch = next(stream)\n",
    "    batch = next(stream)\n",
    "    if(idx==0):\n",
    "        X_valid= batch['Page content']\n",
    "        y_valid = batch['Popularity']\n",
    "        idx+=1\n",
    "    else:\n",
    "        X_valid = np.concatenate((X_valid, batch['Page content']))\n",
    "        y_valid = np.concatenate((y_valid, batch['Popularity']))\n",
    "        \n",
    "x_valid_title, x_valid_author, x_valid_channel, x_valid_topic, x_valid_weekend, x_valid_media, x_valid_appealing, x_valid_word = combine(X_valid)"
   ]
  },
  {
   "cell_type": "code",
   "execution_count": null,
   "metadata": {},
   "outputs": [
    {
     "name": "stdout",
     "output_type": "stream",
     "text": [
      "Valid score: 0.5291750938676167, i: 0.0, j: 0.0, k:0.0, n: 1.0\n",
      "Valid score: 0.5385980479148181, i: 0.0, j: 0.0, k:0.25, n: 0.75\n"
     ]
    },
    {
     "ename": "KeyboardInterrupt",
     "evalue": "",
     "output_type": "error",
     "traceback": [
      "\u001b[1;31m---------------------------------------------------------------------------\u001b[0m",
      "\u001b[1;31mKeyboardInterrupt\u001b[0m                         Traceback (most recent call last)",
      "\u001b[1;32mc:\\Users\\johnson\\Documents\\CODE\\DeepLearningCups\\Cup1\\Cup1.ipynb Cell 24\u001b[0m line \u001b[0;36m8\n\u001b[0;32m      <a href='vscode-notebook-cell:/c%3A/Users/johnson/Documents/CODE/DeepLearningCups/Cup1/Cup1.ipynb#X33sZmlsZQ%3D%3D?line=2'>3</a>\u001b[0m \u001b[39mfor\u001b[39;00m k \u001b[39min\u001b[39;00m np\u001b[39m.\u001b[39mlinspace(\u001b[39m0\u001b[39m,\u001b[39m1\u001b[39m\u001b[39m-\u001b[39mi\u001b[39m-\u001b[39mj,\u001b[39m5\u001b[39m):\n\u001b[0;32m      <a href='vscode-notebook-cell:/c%3A/Users/johnson/Documents/CODE/DeepLearningCups/Cup1/Cup1.ipynb#X33sZmlsZQ%3D%3D?line=3'>4</a>\u001b[0m     \u001b[39m# for h in np.linspace(0,1-i-j-k,5):\u001b[39;00m\n\u001b[0;32m      <a href='vscode-notebook-cell:/c%3A/Users/johnson/Documents/CODE/DeepLearningCups/Cup1/Cup1.ipynb#X33sZmlsZQ%3D%3D?line=4'>5</a>\u001b[0m     \u001b[39m#     for g in np.linspace(0,1-i-j-k-h,5):\u001b[39;00m\n\u001b[0;32m      <a href='vscode-notebook-cell:/c%3A/Users/johnson/Documents/CODE/DeepLearningCups/Cup1/Cup1.ipynb#X33sZmlsZQ%3D%3D?line=5'>6</a>\u001b[0m     \u001b[39m#         for m in np.linspace(0,1-i-j-k-h-g,5):\u001b[39;00m\n\u001b[0;32m      <a href='vscode-notebook-cell:/c%3A/Users/johnson/Documents/CODE/DeepLearningCups/Cup1/Cup1.ipynb#X33sZmlsZQ%3D%3D?line=6'>7</a>\u001b[0m     n\u001b[39m=\u001b[39m\u001b[39m1\u001b[39m\u001b[39m-\u001b[39mi\u001b[39m-\u001b[39mj\u001b[39m-\u001b[39mk\n\u001b[1;32m----> <a href='vscode-notebook-cell:/c%3A/Users/johnson/Documents/CODE/DeepLearningCups/Cup1/Cup1.ipynb#X33sZmlsZQ%3D%3D?line=7'>8</a>\u001b[0m     valid_score \u001b[39m=\u001b[39m roc_auc_score(y_valid, (clf1\u001b[39m.\u001b[39;49mpredict_proba(x_valid_title)[:,\u001b[39m1\u001b[39m]\u001b[39m*\u001b[39mi\u001b[39m+\u001b[39mclf2\u001b[39m.\u001b[39mpredict_proba(x_valid_author)[:,\u001b[39m1\u001b[39m]\u001b[39m*\u001b[39mj\n\u001b[0;32m      <a href='vscode-notebook-cell:/c%3A/Users/johnson/Documents/CODE/DeepLearningCups/Cup1/Cup1.ipynb#X33sZmlsZQ%3D%3D?line=8'>9</a>\u001b[0m                                 \u001b[39m+\u001b[39mclf4\u001b[39m.\u001b[39mpredict_proba(x_valid_topic)[:,\u001b[39m1\u001b[39m]\u001b[39m*\u001b[39mk\n\u001b[0;32m     <a href='vscode-notebook-cell:/c%3A/Users/johnson/Documents/CODE/DeepLearningCups/Cup1/Cup1.ipynb#X33sZmlsZQ%3D%3D?line=9'>10</a>\u001b[0m                                 \u001b[39m+\u001b[39mclf5\u001b[39m.\u001b[39mpredict_proba(x_valid_weekend)[:,\u001b[39m1\u001b[39m]\u001b[39m*\u001b[39mn))\n\u001b[0;32m     <a href='vscode-notebook-cell:/c%3A/Users/johnson/Documents/CODE/DeepLearningCups/Cup1/Cup1.ipynb#X33sZmlsZQ%3D%3D?line=10'>11</a>\u001b[0m     \u001b[39m# valid_score = roc_auc_score(y_valid, (clf1.predict_proba(x_valid_title)[:,1]*i+clf2.predict_proba(x_valid_author)[:,1]*j\u001b[39;00m\n\u001b[0;32m     <a href='vscode-notebook-cell:/c%3A/Users/johnson/Documents/CODE/DeepLearningCups/Cup1/Cup1.ipynb#X33sZmlsZQ%3D%3D?line=11'>12</a>\u001b[0m     \u001b[39m#                             +clf4.predict_proba(x_valid_topic)[:,1]*k\u001b[39;00m\n\u001b[0;32m     <a href='vscode-notebook-cell:/c%3A/Users/johnson/Documents/CODE/DeepLearningCups/Cup1/Cup1.ipynb#X33sZmlsZQ%3D%3D?line=12'>13</a>\u001b[0m     \u001b[39m#                             +clf5.predict_proba(x_valid_weekend)[:,1]*h+clf6.predict_proba(x_valid_media)[:,1]*g\u001b[39;00m\n\u001b[0;32m     <a href='vscode-notebook-cell:/c%3A/Users/johnson/Documents/CODE/DeepLearningCups/Cup1/Cup1.ipynb#X33sZmlsZQ%3D%3D?line=13'>14</a>\u001b[0m     \u001b[39m#                             +clf7.predict_proba(x_valid_appealing)[:,1]*m+clf8.predict_proba(x_valid_word)[:,1]*n))\u001b[39;00m\n\u001b[0;32m     <a href='vscode-notebook-cell:/c%3A/Users/johnson/Documents/CODE/DeepLearningCups/Cup1/Cup1.ipynb#X33sZmlsZQ%3D%3D?line=14'>15</a>\u001b[0m     \u001b[39mif\u001b[39;00m valid_score\u001b[39m>\u001b[39mbest:\n",
      "File \u001b[1;32mc:\\Users\\johnson\\.conda\\envs\\DL2\\Lib\\site-packages\\sklearn\\ensemble\\_forest.py:865\u001b[0m, in \u001b[0;36mForestClassifier.predict_proba\u001b[1;34m(self, X)\u001b[0m\n\u001b[0;32m    863\u001b[0m check_is_fitted(\u001b[39mself\u001b[39m)\n\u001b[0;32m    864\u001b[0m \u001b[39m# Check data\u001b[39;00m\n\u001b[1;32m--> 865\u001b[0m X \u001b[39m=\u001b[39m \u001b[39mself\u001b[39;49m\u001b[39m.\u001b[39;49m_validate_X_predict(X)\n\u001b[0;32m    867\u001b[0m \u001b[39m# Assign chunk of trees to jobs\u001b[39;00m\n\u001b[0;32m    868\u001b[0m n_jobs, _, _ \u001b[39m=\u001b[39m _partition_estimators(\u001b[39mself\u001b[39m\u001b[39m.\u001b[39mn_estimators, \u001b[39mself\u001b[39m\u001b[39m.\u001b[39mn_jobs)\n",
      "File \u001b[1;32mc:\\Users\\johnson\\.conda\\envs\\DL2\\Lib\\site-packages\\sklearn\\ensemble\\_forest.py:599\u001b[0m, in \u001b[0;36mBaseForest._validate_X_predict\u001b[1;34m(self, X)\u001b[0m\n\u001b[0;32m    596\u001b[0m \u001b[39m\"\"\"\u001b[39;00m\n\u001b[0;32m    597\u001b[0m \u001b[39mValidate X whenever one tries to predict, apply, predict_proba.\"\"\"\u001b[39;00m\n\u001b[0;32m    598\u001b[0m check_is_fitted(\u001b[39mself\u001b[39m)\n\u001b[1;32m--> 599\u001b[0m X \u001b[39m=\u001b[39m \u001b[39mself\u001b[39;49m\u001b[39m.\u001b[39;49m_validate_data(X, dtype\u001b[39m=\u001b[39;49mDTYPE, accept_sparse\u001b[39m=\u001b[39;49m\u001b[39m\"\u001b[39;49m\u001b[39mcsr\u001b[39;49m\u001b[39m\"\u001b[39;49m, reset\u001b[39m=\u001b[39;49m\u001b[39mFalse\u001b[39;49;00m)\n\u001b[0;32m    600\u001b[0m \u001b[39mif\u001b[39;00m issparse(X) \u001b[39mand\u001b[39;00m (X\u001b[39m.\u001b[39mindices\u001b[39m.\u001b[39mdtype \u001b[39m!=\u001b[39m np\u001b[39m.\u001b[39mintc \u001b[39mor\u001b[39;00m X\u001b[39m.\u001b[39mindptr\u001b[39m.\u001b[39mdtype \u001b[39m!=\u001b[39m np\u001b[39m.\u001b[39mintc):\n\u001b[0;32m    601\u001b[0m     \u001b[39mraise\u001b[39;00m \u001b[39mValueError\u001b[39;00m(\u001b[39m\"\u001b[39m\u001b[39mNo support for np.int64 index based sparse matrices\u001b[39m\u001b[39m\"\u001b[39m)\n",
      "File \u001b[1;32mc:\\Users\\johnson\\.conda\\envs\\DL2\\Lib\\site-packages\\sklearn\\base.py:605\u001b[0m, in \u001b[0;36mBaseEstimator._validate_data\u001b[1;34m(self, X, y, reset, validate_separately, cast_to_ndarray, **check_params)\u001b[0m\n\u001b[0;32m    603\u001b[0m         out \u001b[39m=\u001b[39m X, y\n\u001b[0;32m    604\u001b[0m \u001b[39melif\u001b[39;00m \u001b[39mnot\u001b[39;00m no_val_X \u001b[39mand\u001b[39;00m no_val_y:\n\u001b[1;32m--> 605\u001b[0m     out \u001b[39m=\u001b[39m check_array(X, input_name\u001b[39m=\u001b[39;49m\u001b[39m\"\u001b[39;49m\u001b[39mX\u001b[39;49m\u001b[39m\"\u001b[39;49m, \u001b[39m*\u001b[39;49m\u001b[39m*\u001b[39;49mcheck_params)\n\u001b[0;32m    606\u001b[0m \u001b[39melif\u001b[39;00m no_val_X \u001b[39mand\u001b[39;00m \u001b[39mnot\u001b[39;00m no_val_y:\n\u001b[0;32m    607\u001b[0m     out \u001b[39m=\u001b[39m _check_y(y, \u001b[39m*\u001b[39m\u001b[39m*\u001b[39mcheck_params)\n",
      "File \u001b[1;32mc:\\Users\\johnson\\.conda\\envs\\DL2\\Lib\\site-packages\\sklearn\\utils\\validation.py:915\u001b[0m, in \u001b[0;36mcheck_array\u001b[1;34m(array, accept_sparse, accept_large_sparse, dtype, order, copy, force_all_finite, ensure_2d, allow_nd, ensure_min_samples, ensure_min_features, estimator, input_name)\u001b[0m\n\u001b[0;32m    913\u001b[0m         array \u001b[39m=\u001b[39m xp\u001b[39m.\u001b[39mastype(array, dtype, copy\u001b[39m=\u001b[39m\u001b[39mFalse\u001b[39;00m)\n\u001b[0;32m    914\u001b[0m     \u001b[39melse\u001b[39;00m:\n\u001b[1;32m--> 915\u001b[0m         array \u001b[39m=\u001b[39m _asarray_with_order(array, order\u001b[39m=\u001b[39;49morder, dtype\u001b[39m=\u001b[39;49mdtype, xp\u001b[39m=\u001b[39;49mxp)\n\u001b[0;32m    916\u001b[0m \u001b[39mexcept\u001b[39;00m ComplexWarning \u001b[39mas\u001b[39;00m complex_warning:\n\u001b[0;32m    917\u001b[0m     \u001b[39mraise\u001b[39;00m \u001b[39mValueError\u001b[39;00m(\n\u001b[0;32m    918\u001b[0m         \u001b[39m\"\u001b[39m\u001b[39mComplex data not supported\u001b[39m\u001b[39m\\n\u001b[39;00m\u001b[39m{}\u001b[39;00m\u001b[39m\\n\u001b[39;00m\u001b[39m\"\u001b[39m\u001b[39m.\u001b[39mformat(array)\n\u001b[0;32m    919\u001b[0m     ) \u001b[39mfrom\u001b[39;00m \u001b[39mcomplex_warning\u001b[39;00m\n",
      "File \u001b[1;32mc:\\Users\\johnson\\.conda\\envs\\DL2\\Lib\\site-packages\\sklearn\\utils\\_array_api.py:380\u001b[0m, in \u001b[0;36m_asarray_with_order\u001b[1;34m(array, dtype, order, copy, xp)\u001b[0m\n\u001b[0;32m    378\u001b[0m     array \u001b[39m=\u001b[39m numpy\u001b[39m.\u001b[39marray(array, order\u001b[39m=\u001b[39morder, dtype\u001b[39m=\u001b[39mdtype)\n\u001b[0;32m    379\u001b[0m \u001b[39melse\u001b[39;00m:\n\u001b[1;32m--> 380\u001b[0m     array \u001b[39m=\u001b[39m numpy\u001b[39m.\u001b[39masarray(array, order\u001b[39m=\u001b[39morder, dtype\u001b[39m=\u001b[39mdtype)\n\u001b[0;32m    382\u001b[0m \u001b[39m# At this point array is a NumPy ndarray. We convert it to an array\u001b[39;00m\n\u001b[0;32m    383\u001b[0m \u001b[39m# container that is consistent with the input's namespace.\u001b[39;00m\n\u001b[0;32m    384\u001b[0m \u001b[39mreturn\u001b[39;00m xp\u001b[39m.\u001b[39masarray(array)\n",
      "\u001b[1;31mKeyboardInterrupt\u001b[0m: "
     ]
    }
   ],
   "source": [
    "for i in np.linspace(0,1,5):\n",
    "    for j in np.linspace(0,1-i,5):\n",
    "        for k in np.linspace(0,1-i-j,5):\n",
    "            # for h in np.linspace(0,1-i-j-k,5):\n",
    "            #     for g in np.linspace(0,1-i-j-k-h,5):\n",
    "            #         for m in np.linspace(0,1-i-j-k-h-g,5):\n",
    "            n=1-i-j-k\n",
    "            valid_score = roc_auc_score(y_valid, (clf1.predict_proba(x_valid_title)[:,1]*i+clf2.predict_proba(x_valid_author)[:,1]*j\n",
    "                                        +clf4.predict_proba(x_valid_topic)[:,1]*k\n",
    "                                        +clf5.predict_proba(x_valid_weekend)[:,1]*n))\n",
    "            # valid_score = roc_auc_score(y_valid, (clf1.predict_proba(x_valid_title)[:,1]*i+clf2.predict_proba(x_valid_author)[:,1]*j\n",
    "            #                             +clf4.predict_proba(x_valid_topic)[:,1]*k\n",
    "            #                             +clf5.predict_proba(x_valid_weekend)[:,1]*h+clf6.predict_proba(x_valid_media)[:,1]*g\n",
    "            #                             +clf7.predict_proba(x_valid_appealing)[:,1]*m+clf8.predict_proba(x_valid_word)[:,1]*n))\n",
    "            if valid_score>best:\n",
    "                best = valid_score\n",
    "                best_coef = [i,j,k,n]\n",
    "                print(f'Valid score: {valid_score}, i: {i}, j: {j}, k:{k}, n: {n}')\n",
    "print(f'best: {best}, coef: {best_coef}')"
   ]
  },
  {
   "cell_type": "markdown",
   "metadata": {},
   "source": [
    "### Prediction"
   ]
  },
  {
   "cell_type": "code",
   "execution_count": null,
   "metadata": {},
   "outputs": [
    {
     "name": "stdout",
     "output_type": "stream",
     "text": [
      "Content:\n",
      " Id                                                          27643\n",
      "Page content    <html><head><div class=\"article-info\"><span cl...\n",
      "Name: 0, dtype: object\n",
      "(11847,)\n",
      "\n",
      "Id:\n",
      " 27643\n",
      "Content:\n",
      " <html><head><div class=\"article-info\"><span class=\"byline \"><a href=\"/author/sam-laird/\"><img alt=\"2016%2f09%2f15%2f63%2fhttpsd2mhye01h4nj2n.cloudfront.netmediazgkymde1lza2.9814b\" class=\"author_image\" src=\"http://i.amz.mshcdn.com/-qaMPB8aiQeIaoBhqlU0OLjA07A=/90x90/2016%2F09%2F15%2F63%2Fhttpsd2mhye01h4nj2n.cloudfront.netmediaZgkyMDE1LzA2.9814b.jpg\"/></a><span class=\"author_name\">By <a href=\"/author/sam-laird/\">Sam Laird</a></span><time datetime=\"Mon, 09 Sep 2013 19:47:02 +0000\">2013-09-09 19:47:02 UTC</time></span></div></head><body><h1 class=\"title\">Soccer Star Gets Twitter Death Threats After Tackling One Direction Member</h1><figure class=\"article-image\"></figure><article data-channel=\"entertainment\"><section class=\"article-content\"> <div class=\"shift-to-hero\"> <p><iframe allowfullscreen=\"\" frameborder=\"0\" height=\"360\" src=\"https://www.youtube.com/embed/8L0lUoJ2BCY?enablejsapi=1&amp;\" width=\"640\"></iframe></p> <script src=\"http://a.amz.mshcdn.com/assets/lib/aab-7ce243b38b9cc2caec816aff811d3153.js\" type=\"text/javascript\"></script> </div> <p>Note to humanity: One Direction fandom ain't nothin' to mess with. </p> <p>A British <a href=\"http://mashable.com/category/soccer/\">soccer</a> star learned this hard way over the weekend when the pop band's fanboys and fangirls brought a ruckus to his <a href=\"http://mashable.com/category/twitter/\">Twitter</a> feed, tweeting him a fusillade of death threats following an incidental run-in Sunday during a charity soccer match.</p> <div class=\"see-also\"><p>See also: <a href=\"http://mashable.com/2013/07/30/gq-one-direction-death-threats/\">GQ Gets Twitter Death Threats for One Direction Magazine Covers</a></p></div> <p>Gabriel Agbonlahor is the all-time leading goal-scorer for English Premier League side Aston Villa. He participated in a charity match honoring a former player now battling leukemia. Also playing: Louis Tomlinson, one-fifth of the British-Irish boy band <a href=\"http://mashable.com/category/one-direction/\">One Direction</a>. </p> <p>Tomlinson was dribbling the ball about midway through Sunday's match when the pro striker Agbonlahor swooped in to knock it away from the tiny amateur. A clean play, to be sure, but there was some incidental contact as well, causing Tomlinson to collapse on the grass like a wounded deer. Then he limped off and promptly vomited into his hand, <a href=\"http://www.youtube.com/watch?v=19AADH8tcBM\" target=\"_blank\">as shown here</a>. </p> <p>Tomlinson and Agbonlahor shared a moment as he left the field and all seemed fine on the pitch. On Twitter, however, things were just getting started: One Direction's fan base exploded in a fit of mass rage, threatening to end Agbonlahor in all sorts of unpleasant ways. To whit, here are just a few examples, with some mildly NSFW language:</p> <blockquote class=\"twitter-tweet\"> <p>WHOEVER PUSHED LOUIS DOWN I WILL FIND YOU AND PUSH YOU OFF THE GODDAMN EMPIRE STATE BUILDING!</p> <p>— J a m R e y e s™ (@ItsJamReyes) <a href=\"https://twitter.com/ItsJamReyes/statuses/376714629201674241\" target=\"_blank\">September 8, 2013</a></p> </blockquote> <blockquote class=\"twitter-tweet\"> <p>this is how Louis hurt his knee, I will find that guy, and kill him. <a href=\"https://t.co/3tbsGCT1bq\" target=\"_blank\">https://t.co/3tbsGCT1bq</a></p> <p>— PROUD OF LOUIS (@LatestOf1D) <a href=\"https://twitter.com/LatestOf1D/statuses/376715533560733696\" target=\"_blank\">September 8, 2013</a></p> </blockquote> <blockquote class=\"twitter-tweet\"> <p><a href=\"https://twitter.com/gabby_10\" target=\"_blank\">@gabby_10</a> You obviously need Jesus. WE WILL FUCKING FIND YOU AND KILL YOU.</p> <p>— morgan (@NiallUrBasicUgh) <a href=\"https://twitter.com/NiallUrBasicUgh/statuses/376756036389982208\" target=\"_blank\">September 8, 2013</a></p> </blockquote> <blockquote class=\"twitter-tweet\"> <p>fuck off you <a href=\"https://twitter.com/gabby_10\" target=\"_blank\">@gabby_10</a>, how could u touch my precious LOUIS? I WILL KILL U MUTHERFUCKER</p> <p>— Lucho García #51 (@Lois7x) <a href=\"https://twitter.com/Lois7x/statuses/376781833716760576\" target=\"_blank\">September 8, 2013</a></p> </blockquote> <p>At least one person even took things a step further, threatening indiscriminate mass murder:</p> <blockquote class=\"twitter-tweet\"> <p>If i ever see louis cry bc he's hurt or sad i will kill the entire human race by myself</p> <p>— karol(arry) (@nuttelarry) <a href=\"https://twitter.com/nuttelarry/statuses/377046130682761216\" target=\"_blank\">September 9, 2013</a></p> </blockquote> <p>This is actually just the latest incident of rabid teenyboppers attacking <a href=\"http://mashable.com/sports/\">sports</a> stars online over perceived slights against their demigod idols of auto-tuned worship, however. </p> <p>If you're scoring at home, for example, you'll recall the time not so long ago that Justin Bieber fans <a href=\"http://mashable.com/2013/05/30/justin-bieber-fans-twitter-eric-dickerson/\">unleashed a digital fury</a> upon an NFL Hall of Famer following criticism of Bieber's alleged reckless driving. But the beef goes both ways, too. Hockey fans on Twitter <a href=\"http://mashable.com/2013/07/09/justin-bieber-stabley-cup/\">flew into a collective rage</a> in July after photos surfaced of Bieber posing in quintessentially Bieber-like fashion with the Stanley Cup. </p> <p><strong><div class=\"bonus-content\">BONUS: <a href=\"http://mashable.com/2013/08/04/one-direction-bullying-office-depot-school-supplies/\">One Direction and Directioners Fuse Online Powers to Battle Bullying</a> </div></strong></p> <section class=\"gallery\" data-display-mode=\"gallery\" data-id=\"11859\" data-slide-title-pos=\"\" data-slug=\"one-directions-anti-bullying-campaign-with-office-depot\"> <header> <h1>One Direction's Anti-Bullying Campaign With Office Depot</h1> </header> <ol class=\"slides\"> <li class=\"slide\" data-content-source=\"Gallery - Video - Youtube\" data-id=\"522e25c6b589e40ced00048d\" data-skip-rerender=\"false\" data-thumb=\"http://i.amz.mshcdn.com/Un3ZihG1VmZWnvs-VprxzwDgFOI=/180x140/http%3A%2F%2Fmashable.com%2Fwp-content%2Fgallery%2Fone-directions-anti-bullying-campaign-with-office-depot%2F0Fr6eIUoB6I.jpg\"> <figure> <div class=\"aspect-16x9\"><iframe allowfullscreen=\"\" class=\"dnr\" frameborder=\"0\" src=\"http://www.youtube.com/embed/0Fr6eIUoB6I\"></iframe></div> </figure> <div class=\"meta\"> <h2 class=\"title\">1. 1D + OD Together Against Bullying </h2> <div class=\"caption\"></div> <div class=\"credit\"> Video: YouTube, <a href=\"http://www.youtube.com/channel/UCt8Iul9mAsdowXx_xrVNVbA\" target=\"_blank\">OfficialOfficeDepot</a> </div> </div> </li> <li class=\"slide\" data-content-source=\"Gallery - Video - Youtube\" data-id=\"522e25c6b589e40ced00048e\" data-skip-rerender=\"false\" data-thumb=\"http://i.amz.mshcdn.com/oOrgEGOY7kCyASO2sJEuiJmcH4Y=/180x140/http%3A%2F%2Fmashable.com%2Fwp-content%2Fgallery%2Fone-directions-anti-bullying-campaign-with-office-depot%2F2RuwAne1GRk.jpg\"> <figure> <div class=\"aspect-16x9\"><iframe allowfullscreen=\"\" class=\"dnr\" frameborder=\"0\" src=\"http://www.youtube.com/embed/2RuwAne1GRk\"></iframe></div> </figure> <div class=\"meta\"> <h2 class=\"title\">2. Harry Against Bullying </h2> <div class=\"caption\"></div> <div class=\"credit\"> Video: YouTube, <a href=\"http://www.youtube.com/channel/UCt8Iul9mAsdowXx_xrVNVbA\" target=\"_blank\">OfficialOfficeDepot</a> </div> </div> </li> <li class=\"slide\" data-content-source=\"Gallery - Video - Youtube\" data-id=\"522e25c6b589e40ced00048f\" data-skip-rerender=\"false\" data-thumb=\"http://i.amz.mshcdn.com/slMRLhuwNWBmi2WUWOsoChIkbT4=/180x140/http%3A%2F%2Fmashable.com%2Fwp-content%2Fgallery%2Fone-directions-anti-bullying-campaign-with-office-depot%2FIVQeItw5NHQ.jpg\"> <figure> <div class=\"aspect-16x9\"><iframe allowfullscreen=\"\" class=\"dnr\" frameborder=\"0\" src=\"http://www.youtube.com/embed/IVQeItw5NHQ\"></iframe></div> </figure> <div class=\"meta\"> <h2 class=\"title\">3. Zayn Against Bullying </h2> <div class=\"caption\"></div> <div class=\"credit\"> Video: YouTube, <a href=\"http://www.youtube.com/channel/UCt8Iul9mAsdowXx_xrVNVbA\" target=\"_blank\">OfficialOfficeDepot</a> </div> </div> </li> <li class=\"slide\" data-content-source=\"Gallery - Video - Youtube\" data-id=\"522e25c6b589e40ced000490\" data-skip-rerender=\"false\" data-thumb=\"http://i.amz.mshcdn.com/eVdXXGFMQcb8Dd0CZ95pp3etjs4=/180x140/http%3A%2F%2Fmashable.com%2Fwp-content%2Fgallery%2Fone-directions-anti-bullying-campaign-with-office-depot%2FL6Wdbq6frxY.jpg\"> <figure> <div class=\"aspect-16x9\"><iframe allowfullscreen=\"\" class=\"dnr\" frameborder=\"0\" src=\"http://www.youtube.com/embed/L6Wdbq6frxY\"></iframe></div> </figure> <div class=\"meta\"> <h2 class=\"title\">4. Niall Against Bullying </h2> <div class=\"caption\"></div> <div class=\"credit\"> Video: YouTube, <a href=\"http://www.youtube.com/channel/UCt8Iul9mAsdowXx_xrVNVbA\" target=\"_blank\">OfficialOfficeDepot</a> </div> </div> </li> <li class=\"slide\" data-content-source=\"Gallery - Video - Youtube\" data-id=\"522e25c6b589e40ced000491\" data-skip-rerender=\"false\" data-thumb=\"http://i.amz.mshcdn.com/-IEKxbwTTehrbTiUHsXA4gv3L4c=/180x140/http%3A%2F%2Fmashable.com%2Fwp-content%2Fgallery%2Fone-directions-anti-bullying-campaign-with-office-depot%2F6mvTafur08w.jpg\"> <figure> <div class=\"aspect-16x9\"><iframe allowfullscreen=\"\" class=\"dnr\" frameborder=\"0\" src=\"http://www.youtube.com/embed/6mvTafur08w\"></iframe></div> </figure> <div class=\"meta\"> <h2 class=\"title\">5. Louis Against Bullying </h2> <div class=\"caption\"></div> <div class=\"credit\"> Video: YouTube, <a href=\"http://www.youtube.com/channel/UCt8Iul9mAsdowXx_xrVNVbA\" target=\"_blank\">OfficialOfficeDepot</a> </div> </div> </li> <li class=\"slide\" data-content-source=\"Gallery - Video - Youtube\" data-id=\"522e25c6b589e40ced000492\" data-skip-rerender=\"false\" data-thumb=\"http://i.amz.mshcdn.com/U0yZuGwxU2fTisly0txtcIBENkg=/180x140/http%3A%2F%2Fmashable.com%2Fwp-content%2Fgallery%2Fone-directions-anti-bullying-campaign-with-office-depot%2FUlg966fRbJQ.jpg\"> <figure> <div class=\"aspect-16x9\"><iframe allowfullscreen=\"\" class=\"dnr\" frameborder=\"0\" src=\"http://www.youtube.com/embed/Ulg966fRbJQ\"></iframe></div> </figure> <div class=\"meta\"> <h2 class=\"title\">6. Liam Against Bullying </h2> <div class=\"caption\"></div> <div class=\"credit\"> Video: YouTube, <a href=\"http://www.youtube.com/channel/UCt8Iul9mAsdowXx_xrVNVbA\" target=\"_blank\">OfficialOfficeDepot</a> </div> </div> </li> </ol> </section> <p><em>Image: Ian Gavan/Getty Images for Sony Pictures</em></p> <script>      window._msla=window.loadScriptAsync||function(src,id){if(document.getElementById(id))return;var js=document.createElement('script');js.id=id;js.src=src;document.getElementsByTagName('script')[0].parentNode.insertBefore(js,fjs);}; _msla(\"//platform.twitter.com/widgets.js\",\"twitter_jssdk\");</script> </section></article><footer class=\"article-topics\"> Topics: <a href=\"/category/entertainment/\">Entertainment</a>, <a href=\"/category/music/\">Music</a>, <a href=\"/category/one-direction/\">One Direction</a>, <a href=\"/category/soccer/\">soccer</a>, <a href=\"/category/sports/\">Sports</a> </footer></body></html>\n"
     ]
    }
   ],
   "source": [
    "df = pd.read_csv('./datasets/test.csv')\n",
    "print(\"Content:\\n\",df.loc[0])\n",
    "\n",
    "Id = df.loc[:, 'Id'].to_numpy()\n",
    "X_test = df.loc[:, 'Page content'].to_numpy()\n",
    "print(X_test.shape)\n",
    "print(\"\\nId:\\n\", Id[0])\n",
    "print(\"Content:\\n\", X_test[0])"
   ]
  },
  {
   "cell_type": "code",
   "execution_count": null,
   "metadata": {},
   "outputs": [],
   "source": [
    "x_test_title, x_test_author, x_test_channel, x_test_topic, x_test_weekend, x_test_media, x_test_appealing, x_test_word = combine(X_test)\n",
    "y_pred = np.around((clf1.predict_proba(x_test_title)[:,1]*best_coef[0]+clf2.predict_proba(x_test_author)[:,1]*best_coef[1]\n",
    "                                        +clf4.predict_proba(x_test_topic)[:,1]*best_coef[2]+clf5.predict_proba(x_test_weekend)[:,1]*best_coef[3]\n",
    "                                        ), decimals=1)"
   ]
  },
  {
   "cell_type": "code",
   "execution_count": null,
   "metadata": {},
   "outputs": [
    {
     "name": "stdout",
     "output_type": "stream",
     "text": [
      "          Id  Popularity\n",
      "0      27643         0.5\n",
      "1      27644         0.5\n",
      "2      27645         0.5\n",
      "3      27646         0.5\n",
      "4      27647         0.5\n",
      "...      ...         ...\n",
      "11842  39485         0.5\n",
      "11843  39486         0.5\n",
      "11844  39487         0.5\n",
      "11845  39488         0.5\n",
      "11846  39489         0.5\n",
      "\n",
      "[11847 rows x 2 columns]\n"
     ]
    }
   ],
   "source": [
    "output_data = {'Id': Id, 'Popularity': y_pred}\n",
    "output_dataframe = pd.DataFrame(output_data)\n",
    "print(output_dataframe)\n",
    "\n",
    "output_dataframe.to_csv(\"./datasets/y_pred.csv\", index=None)"
   ]
  }
 ],
 "metadata": {
  "kernelspec": {
   "display_name": "DeepLearning",
   "language": "python",
   "name": "python3"
  },
  "language_info": {
   "codemirror_mode": {
    "name": "ipython",
    "version": 3
   },
   "file_extension": ".py",
   "mimetype": "text/x-python",
   "name": "python",
   "nbconvert_exporter": "python",
   "pygments_lexer": "ipython3",
   "version": "3.11.5"
  }
 },
 "nbformat": 4,
 "nbformat_minor": 2
}

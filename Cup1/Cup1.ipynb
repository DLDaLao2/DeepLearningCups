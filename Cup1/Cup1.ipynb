{
 "cells": [
  {
   "cell_type": "markdown",
   "metadata": {},
   "source": [
    "# Competition 1. Predicting News Popularity"
   ]
  },
  {
   "cell_type": "markdown",
   "metadata": {},
   "source": [
    "## Code"
   ]
  },
  {
   "cell_type": "markdown",
   "metadata": {},
   "source": [
    "### Dependencies & Load Data"
   ]
  },
  {
   "cell_type": "code",
   "execution_count": 16,
   "metadata": {},
   "outputs": [
    {
     "name": "stdout",
     "output_type": "stream",
     "text": [
      "   Id  Popularity                                       Page content\n",
      "0   0          -1  <html><head><div class=\"article-info\"> <span c...\n",
      "1   1           1  <html><head><div class=\"article-info\"><span cl...\n",
      "2   2           1  <html><head><div class=\"article-info\"><span cl...\n",
      "3   3          -1  <html><head><div class=\"article-info\"><span cl...\n",
      "4   4          -1  <html><head><div class=\"article-info\"><span cl...\n"
     ]
    }
   ],
   "source": [
    "import pandas as pd\n",
    "import numpy as np\n",
    "from sklearn.model_selection import train_test_split\n",
    "import math\n",
    "from collections import Counter\n",
    "from string import punctuation\n",
    "import re\n",
    "from bs4 import BeautifulSoup\n",
    "from nltk.sentiment.vader import SentimentIntensityAnalyzer\n",
    "\n",
    "df = pd.read_csv('./datasets/train.csv')\n",
    "print(df.head(5))"
   ]
  },
  {
   "cell_type": "markdown",
   "metadata": {},
   "source": [
    "### Read and Split Data"
   ]
  },
  {
   "cell_type": "code",
   "execution_count": 2,
   "metadata": {},
   "outputs": [
    {
     "name": "stdout",
     "output_type": "stream",
     "text": [
      "Label:\n",
      " -1\n",
      "Content:\n",
      " <html><head><div class=\"article-info\"> <span class=\"byline basic\">Clara Moskowitz</span> for <a href=\"/publishers/space-com/\">Space.com</a> <time datetime=\"Wed, 19 Jun 2013 15:04:30 +0000\">2013-06-19 15:04:30 UTC</time> </div></head><body><h1 class=\"title\">NASA's Grand Challenge: Stop Asteroids From Destroying Earth</h1><figure class=\"article-image\"><img class=\"microcontent\" data-fragment=\"lead-image\" data-image=\"http://i.amz.mshcdn.com/I7b9cUsPSztew7r1WT6_iBLjflo=/950x534/2013%2F06%2F19%2Ffe%2FDactyl.44419.jpg\" data-micro=\"1\" data-url=\"http://mashable.com/2013/06/19/nasa-grand-challenge-asteroid/\" src=\"http://i.amz.mshcdn.com/I7b9cUsPSztew7r1WT6_iBLjflo=/950x534/2013%2F06%2F19%2Ffe%2FDactyl.44419.jpg\"/></figure><article data-channel=\"world\"><section class=\"article-content\"> <p>There may be killer asteroids headed for Earth, and NASA has decided to do something about it. The space agency announced a new \"Grand Challenge\" on June 18 to find all dangerous space rocks and figure out how to stop them from destroying our planet.</p> <p>The new mission builds on projects already underway at NASA, including a plan to <a href=\"http://www.space.com/20591-nasa-asteroid-capture-mission-feasibility.html\" target=\"_blank\">capture an asteroid</a>, pull it in toward the moon and send astronauts to visit it. As part of the Grand Challenge, the agency issued a \"request for information\" today — aiming to solicit ideas from industry, academia and the public on how to improve the asteroid mission plan.</p> <p>\"We're asking for you to think about concepts and different approaches for what we've described here,\" William Gerstenmaier, NASA's associate administrator for human explorations and operations, said yesterday during a NASA event announcing the initiative. \"We want you to think about other ways of enhancing this to get the most out of it.\"</p> <p><divclass><strong>SEE ALSO: <a href=\"http://www.space.com/20606-nasa-asteroid-capture-mission-images.html\" target=\"_blank\">How It Works: NASA Asteroid-Capture</a></strong><br><br>Responses to the request for information, which also seeks ideas for detecting and mitigating asteroid threats, are due July 18.<br><br>The asteroid-retrieval mission, designed to provide the first deep-space mission for astronauts flying on NASA's Space Launch System rocket and Orion space capsule under development, has come under fire from lawmakers who would prefer that NASA return to the moon.<br><br>A <a href=\"http://www.space.com/21609-nasa-asteroid-capture-mission-congress.html\" target=\"_blank\">draft NASA authorization bill</a> from the House space subcommittee, which is currently in debate, would cancel the mission and steer the agency toward other projects. That bill will be discussed during a hearing Wednesday, June 19 at 10 a.m. EDT.<br><br><divclass><strong>SEE ALSO: <a href=\"http://www.space.com/20606-nasa-asteroid-capture-mission-images.html\" target=\"_blank\">How It Works: NASA Asteroid-Capture Mission in Pictures</a></strong><br><br>But NASA officials defended the asteroid mission today and said they were confident they'd win Congress' support once they explained its benefits further.<br><br>\"I think that we really, truly are going to be able to show the value of the mission,\" NASA Associate Administrator Lori Garver said today. \"To me, this is something that what we do in this country — we debate how we spend the public's money. This is the beginning of the debate.\"<br><br>Garver also maintained that sending astronauts to an asteroid would not diminish NASA's other science and exploration goals, including another lunar landing.<br><br><divclass><strong>SEE ALSO: <a href=\"http://www.space.com/20601-animation-of-proposed-asteroid-retrieval-mission-video.html\" target=\"_blank\">Animation Of Proposed Asteroid Retrieval Mission</a></strong><br><br>\"This initiative takes nothing from the other valuable work,\" she said. \"This is only a small piece of our overall strategy, but it is an integral piece. It takes nothing from the moon.\"<br><br>Part of NASA's plan to win support for the flight is to link it more closely with the larger goal of protecting Earth from asteroid threats.<br><br>If, someday, humanity discovers an asteroid headed for Earth and manages to alter its course, \"it will be one of the most important accomplishments in human history,\" said Tom Kalil, deputy director for technology and innovation at the White House Office of Science and Technology Policy.<br><br><divclass><strong>SEE ALSO: <a href=\"http://www.space.com/20006-deep-space-missions-private-companies.html\" target=\"_blank\">Wildest Private Deep-Space Mission Ideas: A Countdown</a></strong><br><br>The topic of asteroid threats is more timely than ever, after a meteor exploded over the Russian city of <a href=\"http://www.space.com/19823-russia-meteor-explosion-complete-coverage.html\" target=\"_blank\">Chelyabinsk</a> on Feb. 15 — the same day that the football field-sized <a href=\"http://www.space.com/19646-asteroid-2012-da14-earth-flyby-complete-coverage.html\" target=\"_blank\">asteroid 2012 DA14</a> passed within the moon's orbit of Earth.<br><br><em>Image courtesy of <a href=\"http://www.dvidshub.net/image/707596/ida-and-dactyl#.UcHDQvk4uSo\" target=\"_blank\">NASA</a></em></br></br></br></br></divclass></br></br></br></br></br></br></br></br></divclass></br></br></br></br></br></br></br></br></divclass></br></br></br></br></br></br></br></br></divclass></p> <ul> <li><a href=\"http://www.space.com/34406-spacexs-musk-says-sabotage-unlikely-cause-of-sept-1-explosion-but-still-a-worry.html\">SpaceX's Musk Says Sabotage Unlikely Cause of Sept. 1 Explosion, But Still a Worry</a></li> <li><a href=\"http://www.space.com/34405-proxima-centauri-starspots-stellar-cycle-habitable-planet-alien-life.html\">Proxima Centauri Is Like Our Sun... on Steroids</a></li> <li><a href=\"http://www.space.com/34404-china-launches-shenzhou-11-astronauts-to-space-lab.html\">China Launches Shenzhou-11 Astronauts to Tiangong-2 Space Lab</a></li> <li><a href=\"http://www.space.com/34403-space-station-mockup-in-houston-astronaut-guided-tour-video.html\">Space Station Mockup In Houston - Astronaut Guided Tour | Video</a></li> </ul> <p> This article originally published at Space.com <a href=\"http://www.space.com/21610-nasa-asteroid-threat-grand-challenge.html?\">here</a> </p> </section></article><footer class=\"article-topics\"> Topics: <a href=\"/category/asteroid/\">Asteroid</a>, <a href=\"/category/asteroids/\">Asteroids</a>, <a href=\"/category/challenge/\">challenge</a>, <a href=\"/category/earth/\">Earth</a>, <a href=\"/category/space/\">Space</a>, <a href=\"/category/us/\">U.S.</a>, <a href=\"/category/world/\">World</a> </footer></body></html>\n"
     ]
    }
   ],
   "source": [
    "print(\"Label:\\n\", df.loc[0, 'Popularity'])\n",
    "print(\"Content:\\n\",df.loc[0,'Page content'])"
   ]
  },
  {
   "cell_type": "code",
   "execution_count": 3,
   "metadata": {},
   "outputs": [
    {
     "name": "stdout",
     "output_type": "stream",
     "text": [
      "(27643,) (27643,)\n"
     ]
    }
   ],
   "source": [
    "X = df.loc[:, 'Page content'].to_numpy()\n",
    "y = df.loc[:,'Popularity'].to_numpy()\n",
    "print(X.shape, y.shape)"
   ]
  },
  {
   "cell_type": "markdown",
   "metadata": {},
   "source": [
    "### Feature Engineering"
   ]
  },
  {
   "cell_type": "markdown",
   "metadata": {},
   "source": [
    "##### Organize Positive / Negative Words"
   ]
  },
  {
   "cell_type": "code",
   "execution_count": 5,
   "metadata": {},
   "outputs": [],
   "source": [
    "import os\n",
    "\n",
    "POSITIVE_WORDS = os.path.join(os.getcwd(), 'datasets', 'positive-words.txt')\n",
    "NEGATIVE_WORDS = os.path.join(os.getcwd(), 'datasets', 'negative-words.txt')\n",
    "pos_words = []\n",
    "neg_words = []\n",
    "\n",
    "\n",
    "for line in open(POSITIVE_WORDS, 'r').readlines()[35:]:\n",
    "    word = line.rstrip()\n",
    "    pos_words.append(word)\n",
    "\n",
    "for line in open(NEGATIVE_WORDS, 'r').readlines()[35:]:\n",
    "    word = line.rstrip()\n",
    "    neg_words.append(word)"
   ]
  },
  {
   "cell_type": "code",
   "execution_count": 6,
   "metadata": {},
   "outputs": [
    {
     "name": "stdout",
     "output_type": "stream",
     "text": [
      "2006\n",
      "4783\n"
     ]
    }
   ],
   "source": [
    "print(len(pos_words))\n",
    "print(len(neg_words))"
   ]
  },
  {
   "cell_type": "markdown",
   "metadata": {},
   "source": [
    "#### Positive / Negative Word Stemmer"
   ]
  },
  {
   "cell_type": "code",
   "execution_count": 7,
   "metadata": {},
   "outputs": [
    {
     "name": "stderr",
     "output_type": "stream",
     "text": [
      "[nltk_data] Downloading package stopwords to\n",
      "[nltk_data]     /Users/winston/nltk_data...\n",
      "[nltk_data]   Package stopwords is already up-to-date!\n"
     ]
    }
   ],
   "source": [
    "import nltk\n",
    "from nltk.corpus import stopwords\n",
    "from nltk.stem.lancaster import LancasterStemmer\n",
    "\n",
    "nltk.download('stopwords')\n",
    "stop = stopwords.words('english')\n",
    "\n",
    "def tokenizer_stem_neg(text):\n",
    "    stemmer = LancasterStemmer()\n",
    "    return [stemmer.stem(w) for w in re.split(r'\\s+', text.strip()) \\\n",
    "            if w in neg_words and re.match('[a-zA-Z]+', w)]\n",
    "\n",
    "def tokenizer_stem_pos(text):\n",
    "    stemmer = LancasterStemmer()\n",
    "    return [stemmer.stem(w) for w in re.split(r'\\s+', text.strip()) \\\n",
    "            if w in pos_words and re.match('[a-zA-Z]+', w)]"
   ]
  },
  {
   "cell_type": "markdown",
   "metadata": {},
   "source": [
    "#### Stop Words Stemming"
   ]
  },
  {
   "cell_type": "code",
   "execution_count": 27,
   "metadata": {},
   "outputs": [],
   "source": [
    "import nltk\n",
    "from nltk.corpus import stopwords\n",
    "from nltk.stem.porter import PorterStemmer\n",
    "from nltk.stem.snowball import EnglishStemmer\n",
    "from nltk.stem.lancaster import LancasterStemmer\n",
    "\n",
    "# nltk.download('stopwords')\n",
    "stop = stopwords.words('english')\n",
    "\n",
    "def tokenizer_stem_nostop(text):\n",
    "    stemmer = EnglishStemmer()\n",
    "    return [stemmer.stem(w) for w in re.split(r'\\s+', text.strip()) \\\n",
    "            if w not in stop and re.match('[a-zA-Z]+', w)]"
   ]
  },
  {
   "cell_type": "markdown",
   "metadata": {},
   "source": [
    "#### Testing Area"
   ]
  },
  {
   "cell_type": "code",
   "execution_count": 9,
   "metadata": {},
   "outputs": [
    {
     "name": "stdout",
     "output_type": "stream",
     "text": [
      "Title:  NASA's Grand Challenge: Stop Asteroids From Destroying Earth\n",
      "Data Channel:  world\n",
      "Author:  Clara Moskowitz\n",
      "Topics:  ['Asteroid', ' Asteroids', ' challenge', ' Earth', ' Space', ' U.S.', ' World ']\n",
      "Time:  15:04\n",
      "Weekend:  0\n",
      "Total words:  543\n",
      "Media count:  0\n",
      "Link count:  18\n",
      "Positive count:  14\n",
      "Positive words:  ['improv', 'pref', 'confid', 'win', 'support', 'benefit', 'valu', 'integr', 'win', 'support', 'import', 'accompl', 'innov', 'tim']\n",
      "Negative count:  3\n",
      "Negative words:  ['kil', 'dang', 'threats']\n",
      "Question count:  0\n",
      "Exclamation count:  0\n"
     ]
    }
   ],
   "source": [
    "from bs4 import BeautifulSoup\n",
    "import re\n",
    "from string import punctuation\n",
    "from collections import Counter\n",
    "\n",
    "def feature_selection(data):\n",
    "    soup = BeautifulSoup(data, 'html.parser')\n",
    "\n",
    "    # Title\n",
    "    print(\"Title: \", soup.find(\"h1\", {\"class\": \"title\"}).text)\n",
    "\n",
    "    # Channel\n",
    "    print(\"Data Channel: \", soup.find(\"article\").get(\"data-channel\"))\n",
    "\n",
    "    # Author\n",
    "    author_re = r'(?:By\\s)?([a-zA-Z]+(\\s[a-zA-Z]+)*)'\n",
    "    if soup.head.find(\"span\") == None:\n",
    "        print(\"Author: None\")\n",
    "    else:\n",
    "        print(\"Author: \", re.search(author_re, soup.head.find(\"span\").text).group(1))\n",
    "\n",
    "    # Related Topics\n",
    "    print(\"Topics: \", soup.find(\"footer\", {\"class\": 'article-topics'}).text.replace(\" Topics: \", \"\").split(\",\"))\n",
    "\n",
    "    # Time\n",
    "    print(\"Time: \", re.search(r'(\\d+:\\d+:\\d+)', soup.time.text).group(1)[:5])\n",
    "\n",
    "    # Weekend\n",
    "    print(\"Weekend: \", int(soup.time.get(\"datetime\")[:3] in [\"Sat\", \"Sun\"]))\n",
    "\n",
    "    # Word Count\n",
    "    text_p = (''.join(s.findAll(string=True))for s in soup.findAll('p'))\n",
    "    c_p = Counter((x.rstrip(punctuation).lower() for y in text_p for x in y.split()))\n",
    "    text_div = (''.join(s.findAll(string=True))for s in soup.findAll('div'))\n",
    "    c_div = Counter((x.rstrip(punctuation).lower() for y in text_div for x in y.split()))\n",
    "    total = c_div + c_p\n",
    "    print(\"Total words: \", len(list(total.elements())))\n",
    "\n",
    "\n",
    "    section = soup.find(\"section\", {\"class\": \"article-content\"})\n",
    "\n",
    "    # Video + Image count\n",
    "    img_count = len(section.find_all(\"img\")) + len(section.find_all(\"picture\")) + len(section.find_all(\"figure\"))\n",
    "    video_count = len(section.find_all(\"video\")) + len(section.find_all(\"iframe\"))\n",
    "    media_count = img_count + video_count\n",
    "    print(\"Media count: \", media_count)\n",
    "\n",
    "    # Appealing count\n",
    "    link_count = len(section.find_all(\"a\"))\n",
    "    strong_count = len(section.find_all(\"strong\"))\n",
    "    appealing_count = link_count + strong_count\n",
    "    print(\"Link count: \", appealing_count)\n",
    "\n",
    "    # POS & NEG count\n",
    "    paragraph = section.find_all(\"p\")\n",
    "    pos_count = 0\n",
    "    pos_words = []\n",
    "    for tag in paragraph:\n",
    "        pos_count += len(tokenizer_stem_pos(tag.text))\n",
    "        for word in tokenizer_stem_pos(tag.text):\n",
    "            pos_words.append(word)\n",
    "    print(\"Positive count: \", pos_count)\n",
    "    print(\"Positive words: \", pos_words)\n",
    "\n",
    "    neg_count = 0\n",
    "    neg_words = []\n",
    "    for tag in paragraph:\n",
    "        neg_count += len(tokenizer_stem_neg(tag.text))\n",
    "        for word in tokenizer_stem_neg(tag.text):\n",
    "            neg_words.append(word)\n",
    "    print(\"Negative count: \", neg_count)\n",
    "    print(\"Negative words: \", neg_words)\n",
    "\n",
    "    # Question & Exclamation count\n",
    "    q_count = 0\n",
    "    ex_count = 0\n",
    "    for tag in paragraph:\n",
    "        if tag.text.find(\"?\") != -1:\n",
    "            q_count += tag.text.find(\"?\")\n",
    "        if tag.text.find(\"!\") != -1:\n",
    "            ex_count += tag.text.find(\"!\")\n",
    "    \n",
    "    print(\"Question count: \", q_count)\n",
    "    print(\"Exclamation count: \", ex_count)\n",
    "\n",
    "\n",
    "feature_selection(X[0])"
   ]
  },
  {
   "cell_type": "markdown",
   "metadata": {},
   "source": [
    "#### All Vector Features (Word + Stats)"
   ]
  },
  {
   "cell_type": "code",
   "execution_count": 10,
   "metadata": {},
   "outputs": [
    {
     "name": "stdout",
     "output_type": "stream",
     "text": [
      "nasas grand challenge stop asteroids from destroying earth world moskowitz asteroid asteroids challenge earth space us world afternoon weekday wordmedium nomedia manyappeal somestats improv pref confid win support benefit valu integr win support import accompl innov tim kil dang threats \n"
     ]
    }
   ],
   "source": [
    "from collections import Counter\n",
    "from string import punctuation\n",
    "import re\n",
    "from bs4 import BeautifulSoup\n",
    "\n",
    "def feature_selection_all(data):\n",
    "    feature_str = \"\"\n",
    "    soup = BeautifulSoup(data, 'html.parser')\n",
    "\n",
    "    # Title\n",
    "    feature_str += soup.find(\"h1\", {\"class\": \"title\"}).text + \" \"\n",
    "\n",
    "    # Channel\n",
    "    feature_str += soup.find(\"article\").get(\"data-channel\") + \" \"\n",
    "\n",
    "    # Author\n",
    "    author_re = r'(?:By\\s|by\\s)?([a-zA-Z]+(\\s[A-Z][a-z]+)*)'\n",
    "    if soup.head.find(\"span\") == None:\n",
    "        feature_str += \" \"\n",
    "    else:\n",
    "        author = re.search(author_re, soup.head.find(\"span\").text).group(1)\n",
    "        feature_str += author.split(\" \")[-1] + \" \"\n",
    "\n",
    "    # Related Topics\n",
    "    feature_str += soup.find(\"footer\", {\"class\": 'article-topics'}).text.replace(\" Topics: \", \"\").replace(\",\", \"\")\n",
    "\n",
    "    # Time\n",
    "    if soup.time.text == None or soup.time.text == \"\":\n",
    "        feature_str += \"0\"\n",
    "    else:\n",
    "        hour = int(re.search(r'(\\d+:\\d+:\\d+)', soup.time.text).group(1)[:5].split(\":\")[0])\n",
    "        minute = int(re.search(r'(\\d+:\\d+:\\d+)', soup.time.text).group(1)[:5].split(\":\")[1])\n",
    "        if hour * 60 + minute < 540:\n",
    "            feature_str += \"morning \"\n",
    "        elif hour * 60 + minute < 720:\n",
    "            feature_str += \"noon \"\n",
    "        elif hour * 60 + minute < 1020:\n",
    "            feature_str += \"afternoon \"\n",
    "        else:\n",
    "            feature_str += \"night \"\n",
    "\n",
    "    # Weekend\n",
    "    if soup.time.text == None or soup.time.text == \"\":\n",
    "        feature_str += \"weekday \"\n",
    "    else:\n",
    "        feature_str += \"weekend \" if soup.time.get(\"datetime\")[:3] in [\"Sat\", \"Sun\"] else \"weekday \"\n",
    "\n",
    "    # Word Count\n",
    "    text_p = (''.join(s.findAll(string=True))for s in soup.findAll('p'))\n",
    "    c_p = Counter((x.rstrip(punctuation).lower() for y in text_p for x in y.split()))\n",
    "    text_div = (''.join(s.findAll(string=True))for s in soup.findAll('div'))\n",
    "    c_div = Counter((x.rstrip(punctuation).lower() for y in text_div for x in y.split()))\n",
    "    total = c_div + c_p\n",
    "    if len(list(total.elements())) < 300:\n",
    "        feature_str += 'wordshort '\n",
    "    elif len(list(total.elements())) < 600:\n",
    "        feature_str += 'wordmedium '\n",
    "    else:\n",
    "        feature_str += 'wordlong '\n",
    "\n",
    "\n",
    "    section = soup.find(\"section\", {\"class\": \"article-content\"})\n",
    "\n",
    "    # Video + Image count\n",
    "    img_count = len(section.find_all(\"img\")) + len(section.find_all(\"picture\")) + len(section.find_all(\"figure\"))\n",
    "    video_count = len(section.find_all(\"video\")) + len(section.find_all(\"iframe\"))\n",
    "    media_count = img_count + video_count\n",
    "    if media_count < 3:\n",
    "        feature_str += \"nomedia \"\n",
    "    elif media_count < 7:\n",
    "        feature_str += \"fewmedia \"\n",
    "    else:\n",
    "        feature_str += \"manymedia \"\n",
    "\n",
    "    # Appealing count\n",
    "    link_count = len(section.find_all(\"a\"))\n",
    "    strong_count = len(section.find_all(\"strong\"))\n",
    "    appealing_count = link_count + strong_count\n",
    "    if appealing_count < 3:\n",
    "        feature_str += \"noappeal \"\n",
    "    elif appealing_count < 10:\n",
    "        feature_str += \"fewappeal \"\n",
    "    else:\n",
    "        feature_str += \"manyappeal \"\n",
    "\n",
    "    paragraph = section.find_all(\"p\")\n",
    "    # Statistics count\n",
    "    stat_count = 0\n",
    "    for tag in paragraph:\n",
    "        number = r'\\d+'\n",
    "        matches = re.findall(number, tag.text)\n",
    "        stat_count += len(matches)\n",
    "    if stat_count < 5:\n",
    "        feature_str += \"fewstats \"\n",
    "    elif stat_count < 10:\n",
    "        feature_str += \"somestats \"\n",
    "    elif stat_count < 20:\n",
    "        feature_str += \"manystats \"\n",
    "    else:\n",
    "        feature_str += \"lotstats \"\n",
    "\n",
    "    # POS & NEG words\n",
    "    pos_count = 0\n",
    "    for tag in paragraph:\n",
    "        pos_count += len(tokenizer_stem_pos(tag.text))\n",
    "        for word in tokenizer_stem_pos(tag.text):\n",
    "            feature_str += word + \" \"\n",
    "\n",
    "\n",
    "    neg_count = 0\n",
    "    for tag in paragraph:\n",
    "        neg_count += len(tokenizer_stem_neg(tag.text))\n",
    "        for word in tokenizer_stem_neg(tag.text):\n",
    "            feature_str += word + \" \"\n",
    "    \n",
    "\n",
    "    feature_str = re.sub(r'[,-.:\\']+', '', feature_str.lower())\n",
    "    return feature_str\n",
    "\n",
    "print(feature_selection_all(X[0]))"
   ]
  },
  {
   "cell_type": "markdown",
   "metadata": {},
   "source": [
    "#### Feature Selection Part 1 (Only Word)"
   ]
  },
  {
   "cell_type": "code",
   "execution_count": 13,
   "metadata": {},
   "outputs": [
    {
     "name": "stdout",
     "output_type": "stream",
     "text": [
      "nasas grand challenge stop asteroids from destroying earth world moskowitz improv pref confid win support benefit valu integr win support import accompl innov tim kil dang threats asteroid asteroids challenge earth space us world \n"
     ]
    }
   ],
   "source": [
    "def feature_selection_part1(data):\n",
    "    feature_str = \"\"\n",
    "    soup = BeautifulSoup(data, 'html.parser')\n",
    "\n",
    "    # Title\n",
    "    feature_str += soup.find(\"h1\", {\"class\": \"title\"}).text + \" \"\n",
    "\n",
    "    # Channel\n",
    "    feature_str += soup.find(\"article\").get(\"data-channel\") + \" \"\n",
    "\n",
    "    # Author\n",
    "    author_re = r'(?:By\\s|by\\s)?([a-zA-Z]+(\\s[A-Z][a-z]+)*)'\n",
    "    if soup.head.find(\"span\") == None:\n",
    "        feature_str += \" \"\n",
    "    else:\n",
    "        author = re.search(author_re, soup.head.find(\"span\").text).group(1)\n",
    "        feature_str += author.split(\" \")[-1] + \" \"\n",
    "\n",
    "    section = soup.find(\"section\", {\"class\": \"article-content\"})\n",
    "    paragraph = section.find_all(\"p\")\n",
    "    pos_count = 0\n",
    "    for tag in paragraph:\n",
    "        pos_count += len(tokenizer_stem_pos(tag.text))\n",
    "        for word in tokenizer_stem_pos(tag.text):\n",
    "            feature_str += word + \" \"\n",
    "\n",
    "    neg_count = 0\n",
    "    for tag in paragraph:\n",
    "        neg_count += len(tokenizer_stem_neg(tag.text))\n",
    "        for word in tokenizer_stem_neg(tag.text):\n",
    "            feature_str += word + \" \"\n",
    "\n",
    "    # Related Topics\n",
    "    feature_str += soup.find(\"footer\", {\"class\": 'article-topics'}).text.replace(\" Topics: \", \"\").replace(\",\", \"\")\n",
    "\n",
    "    feature_str = re.sub(r'[.:\\']', '', feature_str.lower())\n",
    "    return feature_str\n",
    "\n",
    "print(feature_selection_part1(X[0]))"
   ]
  },
  {
   "cell_type": "markdown",
   "metadata": {},
   "source": [
    "#### Feature Selection Part 2 (Basic stats)"
   ]
  },
  {
   "cell_type": "code",
   "execution_count": 14,
   "metadata": {},
   "outputs": [
    {
     "name": "stdout",
     "output_type": "stream",
     "text": [
      "[[6.00000000e+00 9.04000000e+02 0.00000000e+00 5.43000000e+02\n",
      "  0.00000000e+00 0.00000000e+00 1.80000000e+01 7.00000000e+00\n",
      "  1.40000000e+01 3.00000000e+00 0.00000000e+00 0.00000000e+00\n",
      "  6.00000000e+01 4.89731438e-01 4.81042654e+00]\n",
      " [3.00000000e+00 1.06000000e+03 0.00000000e+00 3.21000000e+02\n",
      "  0.00000000e+00 0.00000000e+00 9.00000000e+00 2.00000000e+00\n",
      "  5.00000000e+00 3.00000000e+00 0.00000000e+00 0.00000000e+00\n",
      "  7.40000000e+01 4.74719101e-01 4.65449438e+00]]\n"
     ]
    }
   ],
   "source": [
    "from collections import Counter\n",
    "from string import punctuation\n",
    "import re\n",
    "from bs4 import BeautifulSoup\n",
    "\n",
    "def feature_selection_part2(data):\n",
    "    X = []\n",
    "    for html in data:\n",
    "        soup = BeautifulSoup(html, 'html.parser')\n",
    "        feature_list = []\n",
    "        # Time\n",
    "        if soup.time.text == None or soup.time.text == \"\":\n",
    "            feature_list.append(0)\n",
    "            feature_list.append(0)\n",
    "        else:\n",
    "            month = int(re.search(r'(\\d+-\\d+-\\d+)', soup.time.text).group(1).split(\"-\")[1])\n",
    "            feature_list.append(month)\n",
    "            hour = int(re.search(r'(\\d+:\\d+:\\d+)', soup.time.text).group(1)[:5].split(\":\")[0])\n",
    "            minute = int(re.search(r'(\\d+:\\d+:\\d+)', soup.time.text).group(1)[:5].split(\":\")[1])\n",
    "            feature_list.append(hour * 60 + minute)\n",
    "\n",
    "        # Weekend\n",
    "        if soup.time.text == None or soup.time.text == \"\":\n",
    "            feature_list.append(0)\n",
    "        else:\n",
    "            feature_list.append(1 if soup.time.get(\"datetime\")[:3] in [\"Sat\", \"Sun\"] else 0)\n",
    "\n",
    "        # Word Count\n",
    "        text_p = (''.join(s.findAll(string=True))for s in soup.findAll('p'))\n",
    "        c_p = Counter((x.rstrip(punctuation).lower() for y in text_p for x in y.split()))\n",
    "        text_div = (''.join(s.findAll(string=True))for s in soup.findAll('div'))\n",
    "        c_div = Counter((x.rstrip(punctuation).lower() for y in text_div for x in y.split()))\n",
    "        total = c_div + c_p\n",
    "        feature_list.append(len(list(total.elements())))\n",
    "\n",
    "        # Script count\n",
    "        script = soup.find_all(\"script\")\n",
    "        feature_list.append(len(script))\n",
    "\n",
    "        section = soup.find(\"section\", {\"class\": \"article-content\"})\n",
    "\n",
    "        # Video + Image count\n",
    "        img_count = len(section.find_all(\"img\")) + len(section.find_all(\"picture\")) + len(section.find_all(\"figure\"))\n",
    "        video_count = len(section.find_all(\"video\")) + len(section.find_all(\"iframe\"))\n",
    "        media_count = img_count + video_count\n",
    "        feature_list.append(media_count)\n",
    "\n",
    "        # Appealing count\n",
    "        link_count = len(section.find_all(\"a\"))\n",
    "        strong_count = len(section.find_all(\"strong\"))\n",
    "        h1_h2_count = len(section.find_all(\"h1\")) + len(section.find_all(\"h2\"))\n",
    "        table_count = len(section.find_all(\"table\")) + len(section.find_all(\"tr\")) + len(section.find_all(\"td\"))\n",
    "        appealing_count = link_count + strong_count + h1_h2_count + table_count\n",
    "        feature_list.append(appealing_count)\n",
    "\n",
    "        paragraph = section.find_all(\"p\")\n",
    "        # Statistics count\n",
    "        stat_count = 0\n",
    "        for tag in paragraph:\n",
    "            number = r'\\d+'\n",
    "            matches = re.findall(number, tag.text)\n",
    "            stat_count += len(matches)\n",
    "        feature_list.append(stat_count)\n",
    "\n",
    "        # POS & NEG count\n",
    "        pos_count = 0\n",
    "        for tag in paragraph:\n",
    "            pos_count += len(tokenizer_stem_pos(tag.text))\n",
    "        feature_list.append(pos_count)\n",
    "\n",
    "        neg_count = 0\n",
    "        for tag in paragraph:\n",
    "            neg_count += len(tokenizer_stem_neg(tag.text))\n",
    "        feature_list.append(neg_count)\n",
    "\n",
    "        # Question & Exclamation count\n",
    "        q_count = 0\n",
    "        for tag in paragraph:\n",
    "            if tag.text.find(\"?\") != -1:\n",
    "                q_count += tag.text.find(\"?\")\n",
    "        feature_list.append(q_count)\n",
    "\n",
    "        ex_count = 0\n",
    "        for tag in paragraph:\n",
    "            if tag.text.find(\"!\") != -1:\n",
    "                ex_count += tag.text.find(\"!\")\n",
    "        feature_list.append(ex_count)\n",
    "\n",
    "        # word count of title\n",
    "        feature_list.append(len(soup.find(\"h1\", {\"class\": \"title\"}).text))\n",
    "        \n",
    "        # average word length and unique word rate\n",
    "        words = re.findall(r'\\w+', soup.get_text().lower())\n",
    "        if words:\n",
    "            total_words = len(words)\n",
    "            unique_words = set(words)\n",
    "            unique_word_count = len(unique_words)\n",
    "            total_length = sum(len(word) for word in words)\n",
    "            unique_rate = unique_word_count / total_words\n",
    "            average_length = total_length / len(words)\n",
    "            feature_list.append(unique_rate)\n",
    "            feature_list.append(average_length)\n",
    "            \n",
    "\n",
    "        X.append(feature_list)\n",
    "    \n",
    "    return np.array(X)\n",
    "\n",
    "print(feature_selection_part2(X[:2]))"
   ]
  },
  {
   "cell_type": "markdown",
   "metadata": {},
   "source": [
    "#### Feature Selection Part 3 (Johnson's Version => Advance Stats)"
   ]
  },
  {
   "cell_type": "code",
   "execution_count": 19,
   "metadata": {},
   "outputs": [
    {
     "name": "stdout",
     "output_type": "stream",
     "text": [
      "[[ 0.00000000e+00  0.00000000e+00  0.00000000e+00  6.00000000e+01\n",
      "   4.89731438e-01  4.81042654e+00  6.00000000e+00  1.00000000e+00\n",
      "   3.00000000e+00  0.00000000e+00  3.31491713e-02  2.57826888e-02\n",
      "   5.52486188e-03  0.00000000e+00  0.00000000e+00  1.08600000e+02\n",
      "  -3.61200000e-01  9.66700000e-01]\n",
      " [ 1.00000000e+00  1.00000000e+00  1.00000000e+00  7.40000000e+01\n",
      "   4.74719101e-01  4.65449438e+00  3.00000000e+00  2.00000000e+00\n",
      "   4.00000000e+00  0.00000000e+00  2.80373832e-02  1.55763240e-02\n",
      "   9.34579439e-03  0.00000000e+00  0.00000000e+00  4.01250000e+01\n",
      "   3.57000000e-01  9.89300000e-01]]\n"
     ]
    }
   ],
   "source": [
    "import math\n",
    "\n",
    "author_score =dict()\n",
    "author_num = dict()\n",
    "channel_score = dict()\n",
    "channel_num = dict()\n",
    "topic_score = dict()\n",
    "topic_num = dict()\n",
    "avg_author = 0\n",
    "avg_channel = 0\n",
    "avg_topic = 0\n",
    "\n",
    "def feature_selection_part3(data, istraining):\n",
    "    X = []\n",
    "    idx=0\n",
    "    global author_score\n",
    "    global author_num \n",
    "    global channel_score \n",
    "    global channel_num \n",
    "    global topic_score \n",
    "    global topic_num \n",
    "    global avg_author \n",
    "    global avg_channel \n",
    "    global avg_topic \n",
    "    \n",
    "    if(istraining):\n",
    "        for html in data:\n",
    "            soup = BeautifulSoup(html, 'html.parser')\n",
    "            channel = soup.find(\"article\").get(\"data-channel\")\n",
    "            if channel in channel_score:\n",
    "                channel_score[channel] += 1 if int(y[idx])==1 else  0\n",
    "                channel_num[channel] += 1\n",
    "            else : \n",
    "                channel_score[channel] = 0\n",
    "                channel_score[channel] += 1 if int(y[idx])==1 else  0\n",
    "                channel_num[channel] = 1\n",
    "            \n",
    "            topics = soup.find(\"footer\", {\"class\": 'article-topics'}).text.replace(\" Topics: \", \"\").split(\",\")\n",
    "            for topic in topics:\n",
    "                if topic in topic_score:\n",
    "                    topic_score[topic] += 1 if int(y[idx])==1 else  0\n",
    "                    topic_num[topic] += 1\n",
    "                else : \n",
    "                    topic_score[topic] = 0\n",
    "                    topic_score[topic] += 1 if int(y[idx])==1 else  0\n",
    "                    topic_num[topic] = 1\n",
    "\n",
    "\n",
    "            # Author\n",
    "            author_re = r'(?:By\\s|by\\s)?([a-zA-Z]+(\\s[A-Z][a-z]+)*)'\n",
    "            if soup.head.find(\"span\") == None:\n",
    "                continue\n",
    "            else:\n",
    "                author = re.search(author_re, soup.head.find(\"span\").text).group(1)\n",
    "                if author in author_score:\n",
    "                    author_score[author] += 1 if int(y[idx])==1 else  0\n",
    "                    author_num[author] += 1\n",
    "                else : \n",
    "                    author_score[author] = 0\n",
    "                    author_num[author] = 1\n",
    "                    author_score[author] += 1 if int(y[idx])==1 else  0\n",
    "            idx+=1\n",
    "        total_channel = 0\n",
    "        total_topic = 0\n",
    "        total_author = 0\n",
    "        for c,s in channel_score.items():\n",
    "            avg_channel+=s\n",
    "            total_channel+=channel_num[c]\n",
    "        avg_channel = avg_channel/total_channel\n",
    "\n",
    "        for c,s in topic_score.items():\n",
    "            avg_topic+=s\n",
    "            total_topic+=topic_num[c]\n",
    "        avg_topic = avg_topic/total_topic\n",
    "\n",
    "        for c,s in author_score.items():\n",
    "            avg_author+=s\n",
    "            total_author+=author_num[c]\n",
    "        avg_author = avg_author/total_author\n",
    "\n",
    "    for html in data:\n",
    "        soup = BeautifulSoup(html, 'html.parser')\n",
    "        feature_list = []\n",
    "        # Author score\n",
    "        author_re = r'(?:By\\s|by\\s)?([a-zA-Z]+(\\s[A-Z][a-z]+)*)'\n",
    "        if soup.head.find(\"span\") == None:\n",
    "            feature_list.append(0.5)\n",
    "        else:\n",
    "            author = re.search(author_re, soup.head.find(\"span\").text).group(1)\n",
    "            if author in author_score:\n",
    "                feature_list.append(author_score[author]/author_num[author])\n",
    "            else:\n",
    "                feature_list.append(0.5)\n",
    "        # Channel score\n",
    "        channel = soup.find(\"article\").get(\"data-channel\")\n",
    "        if channel in channel_score:\n",
    "            feature_list.append(channel_score[channel]/channel_num[channel])\n",
    "        else:\n",
    "            feature_list.append(0.5)\n",
    "            \n",
    "        # Topic score\n",
    "        topics = soup.find(\"footer\", {\"class\": 'article-topics'}).text.replace(\" Topics: \", \"\").split(\",\")\n",
    "        total_score = 0\n",
    "        order = 0 \n",
    "        order_denominator = 0\n",
    "        for i in range(len(topics)):\n",
    "            order_denominator += math.exp(-0.5*i)\n",
    "\n",
    "        for topic in topics:\n",
    "            order_coef = math.exp(-0.5*order)/order_denominator\n",
    "            if topic in topic_score:\n",
    "                total_score+=(topic_score[topic]/topic_num[topic])*order_coef\n",
    "            else:\n",
    "                total_score+=0.5*order_coef\n",
    "            order+=1\n",
    "        \n",
    "        feature_list.append(total_score) \n",
    "\n",
    "        # word count of title\n",
    "        title = soup.find(\"h1\", {\"class\": \"title\"}).text\n",
    "        feature_list.append(len(title))\n",
    "        # average word length and unique word rate\n",
    "        words = re.findall(r'\\w+', soup.get_text().lower())\n",
    "        if words:\n",
    "            total_words = len(words)\n",
    "            unique_words = set(words)\n",
    "            unique_word_count = len(unique_words)\n",
    "            total_length = sum(len(word) for word in words)\n",
    "            unique_rate = unique_word_count / total_words\n",
    "            average_length = total_length / len(words)\n",
    "            feature_list.append(unique_rate)\n",
    "            feature_list.append(average_length)\n",
    "        \n",
    "        # Time\n",
    "        if soup.time.text == None or soup.time.text == \"\":\n",
    "            feature_list.append(0)\n",
    "            feature_list.append(0)\n",
    "        else:\n",
    "            month = int(re.search(r'(\\d+-\\d+-\\d+)', soup.time.text).group(1).split(\"-\")[1])\n",
    "            feature_list.append(month)\n",
    "            hour = int(re.search(r'(\\d+:\\d+:\\d+)', soup.time.text).group(1)[:5].split(\":\")[0])\n",
    "            minute = int(re.search(r'(\\d+:\\d+:\\d+)', soup.time.text).group(1)[:5].split(\":\")[1])\n",
    "            time = (hour * 60 + minute-300)%1440\n",
    "            time_demarcation = 0\n",
    "            if(300<=time and time<=720):\n",
    "                time_demarcation = 1\n",
    "            elif(720<time and time<=960):\n",
    "                time_demarcation = 2\n",
    "            elif(960<time and time <=1440):\n",
    "                time_demarcation = 3\n",
    "            else:\n",
    "                time_demarcation = 4\n",
    "            feature_list.append(time_demarcation)\n",
    "\n",
    "        # Weekday\n",
    "        if soup.time.text == None or soup.time.text == \"\":\n",
    "            feature_list.append(0)\n",
    "        else:\n",
    "            weekday = soup.time.get(\"datetime\")[:3]\n",
    "            if(weekday == \"Mon\"):\n",
    "                feature_list.append(1)\n",
    "            elif(weekday == \"Tue\"):\n",
    "                feature_list.append(2)\n",
    "            elif(weekday == \"Wed\"):\n",
    "                feature_list.append(3)\n",
    "            elif(weekday == \"Thu\"):\n",
    "                feature_list.append(4)\n",
    "            elif(weekday == \"Fri\"):\n",
    "                feature_list.append(5)\n",
    "            elif(weekday==\"Sat\"):\n",
    "                feature_list.append(6)\n",
    "            elif(weekday==\"Sun\"):\n",
    "                feature_list.append(7)\n",
    "            else: feature_list.append(0)\n",
    "\n",
    "        # Word Count\n",
    "        text_p = (''.join(s.findAll(string=True))for s in soup.findAll('p'))\n",
    "        c_p = Counter((x.rstrip(punctuation).lower() for y in text_p for x in y.split()))\n",
    "        text_div = (''.join(s.findAll(string=True))for s in soup.findAll('div'))\n",
    "        c_div = Counter((x.rstrip(punctuation).lower() for y in text_div for x in y.split()))\n",
    "        total = c_div + c_p\n",
    "        word_count = len(list(total.elements()))\n",
    "\n",
    "        section = soup.find(\"section\", {\"class\": \"article-content\"})\n",
    "\n",
    "        # Video + Image count\n",
    "        img_count = len(section.find_all(\"img\")) + len(section.find_all(\"picture\")) + len(section.find_all(\"figure\"))\n",
    "        video_count = len(section.find_all(\"video\")) + len(section.find_all(\"iframe\"))\n",
    "        media_count = img_count + video_count\n",
    "        feature_list.append(media_count / word_count)\n",
    "\n",
    "        # Appealing count\n",
    "        link_count = len(section.find_all(\"a\"))\n",
    "        strong_count = len(section.find_all(\"strong\"))\n",
    "        appealing_count = link_count + strong_count\n",
    "        feature_list.append(appealing_count / word_count)\n",
    "\n",
    "        # POS & NEG count\n",
    "        paragraph = section.find_all(\"p\")\n",
    "        pos_count = 0\n",
    "        neg_count = 0\n",
    "        q_count = 0\n",
    "        ex_count = 0\n",
    "        para_count = 0\n",
    "        content=\"\"\n",
    "        for tag in paragraph:\n",
    "            content+=tag.text\n",
    "            para_count += 1\n",
    "            pos_count += len(tokenizer_stem_pos(tag.text))\n",
    "            neg_count += len(tokenizer_stem_neg(tag.text))\n",
    "            if tag.text.find(\"?\") != -1:\n",
    "                q_count += tag.text.find(\"?\")\n",
    "            if tag.text.find(\"!\") != -1:\n",
    "                ex_count += tag.text.find(\"!\")\n",
    "        word_cnt = len(list(total.elements()))\n",
    "        feature_list.append(pos_count/word_cnt)    \n",
    "        feature_list.append(neg_count/word_cnt)\n",
    "        feature_list.append(q_count/word_cnt)\n",
    "        feature_list.append(ex_count/word_cnt)\n",
    "        feature_list.append(word_cnt/para_count)\n",
    "        analyzer = SentimentIntensityAnalyzer()\n",
    "        # Title sentiment analysis\n",
    "        sentiment_title = analyzer.polarity_scores(title)\n",
    "        feature_list.append(sentiment_title['compound'])\n",
    "        # Content sentiment analysis\n",
    "        sentiment_content = analyzer.polarity_scores(content)\n",
    "        feature_list.append(sentiment_content['compound'])\n",
    "        X.append(feature_list)\n",
    "    return np.array(X)\n",
    "\n",
    "print(feature_selection_part3(X[:2], True))"
   ]
  },
  {
   "cell_type": "markdown",
   "metadata": {},
   "source": [
    "### TF-IDF"
   ]
  },
  {
   "cell_type": "code",
   "execution_count": 15,
   "metadata": {},
   "outputs": [
    {
     "name": "stderr",
     "output_type": "stream",
     "text": [
      "c:\\Users\\EmilyXia\\anaconda3\\envs\\dl\\lib\\site-packages\\sklearn\\feature_extraction\\text.py:525: UserWarning: The parameter 'token_pattern' will not be used since 'tokenizer' is not None'\n",
      "  warnings.warn(\n"
     ]
    },
    {
     "name": "stdout",
     "output_type": "stream",
     "text": [
      "[vocabularies with smallest idf scores]\n",
      "nomed: 1.58\n",
      "weekday: 1.69\n",
      "appeallong: 1.83\n",
      "nightweekday: 2.00\n",
      "wordlong: 2.00\n",
      "appealmed: 2.04\n",
      "wordshort: 2.11\n",
      "manymed: 2.14\n",
      "wordmed: 2.19\n",
      "afternoon: 2.23\n"
     ]
    }
   ],
   "source": [
    "from sklearn.feature_extraction.text import TfidfVectorizer\n",
    "\n",
    "tfidf = TfidfVectorizer(ngram_range=(1,2),\n",
    "                        preprocessor=feature_selection_all,\n",
    "                        tokenizer=tokenizer_stem_nostop)\n",
    "\n",
    "tfidf.fit(X)\n",
    "\n",
    "top = 10\n",
    "# get idf score of vocabularies\n",
    "idf = tfidf.idf_\n",
    "print('[vocabularies with smallest idf scores]')\n",
    "sorted_idx = idf.argsort()\n",
    "\n",
    "for i in range(top):\n",
    "    # When sklearn version <= 0.24.x, should use get_feature_names()\n",
    "    # When sklearn version >= 1.0.x, should use get_feature_names_out()\n",
    "    print('%s: %.2f' %(tfidf.get_feature_names_out()[sorted_idx[i]], idf[sorted_idx[i]]))\n",
    "\n",
    "# doc_tfidf = tfidf.transform(X).toarray()\n",
    "# tfidf_sum = np.sum(doc_tfidf, axis=0)\n",
    "# print(\"\\n[vocabularies with highest tf-idf scores]\")\n",
    "# for tok, v in zip(tfidf.inverse_transform(np.ones((1, tfidf_sum.shape[0])))[0][tfidf_sum.argsort()[::-1]][:top], \\\n",
    "#                         np.sort(tfidf_sum)[::-1][:top]):\n",
    "#     print('{}: {}'.format(tok, v))"
   ]
  },
  {
   "cell_type": "markdown",
   "metadata": {},
   "source": [
    "### Hashing Vectorizer"
   ]
  },
  {
   "cell_type": "code",
   "execution_count": 17,
   "metadata": {},
   "outputs": [],
   "source": [
    "import numpy as np\n",
    "import scipy as sp\n",
    "from sklearn.feature_extraction.text import HashingVectorizer\n",
    "\n",
    "# hash words to 1024 buckets\n",
    "hashvec = HashingVectorizer(n_features=2**20,\n",
    "                            preprocessor=feature_selection,\n",
    "                            tokenizer=tokenizer_stem_nostop)\n",
    "\n",
    "# no .fit needed for HashingVectorizer, since it's defined by the hash function\n",
    "\n",
    "# transform sentences to vectors of dimension 1024\n",
    "# X_hash = hashvec.transform(X)\n",
    "# print(X_hash.shape)"
   ]
  },
  {
   "cell_type": "markdown",
   "metadata": {},
   "source": [
    "### Model Training"
   ]
  },
  {
   "cell_type": "markdown",
   "metadata": {},
   "source": [
    "#### Iterate Version"
   ]
  },
  {
   "cell_type": "code",
   "execution_count": 22,
   "metadata": {},
   "outputs": [
    {
     "name": "stdout",
     "output_type": "stream",
     "text": [
      "   Id  Popularity                                       Page content\n",
      "0   0          -1  <html><head><div class=\"article-info\"> <span c...\n",
      "1   1           1  <html><head><div class=\"article-info\"><span cl...\n",
      "2   2           1  <html><head><div class=\"article-info\"><span cl...\n",
      "3   3          -1  <html><head><div class=\"article-info\"><span cl...\n",
      "4   4          -1  <html><head><div class=\"article-info\"><span cl...\n"
     ]
    }
   ],
   "source": [
    "def get_stream(path, size):\n",
    "    for chunk in pd.read_csv(path, chunksize=size):\n",
    "        yield chunk\n",
    "\n",
    "print(next(get_stream(path='./datasets/train.csv', size=5)))"
   ]
  },
  {
   "cell_type": "markdown",
   "metadata": {},
   "source": [
    "##### Approach 1. XGBClassifier"
   ]
  },
  {
   "cell_type": "code",
   "execution_count": null,
   "metadata": {},
   "outputs": [],
   "source": [
    "import xgboost as xgb\n",
    "from sklearn.preprocessing import LabelEncoder\n",
    "from sklearn.metrics import roc_auc_score\n",
    "\n",
    "model = xgb.XGBClassifier()\n",
    "batch_size = 512\n",
    "stream = get_stream(path='./datasets/train.csv', size=batch_size)\n",
    "train_auc, val_auc = [], []\n",
    "iters = int((27643+batch_size-1)/(batch_size*2))\n",
    "for i in range(iters):\n",
    "    batch = next(stream)\n",
    "    X_train, y_train = batch['Page content'], batch['Popularity']\n",
    "    if X_train is None:\n",
    "        break\n",
    "    X_train = tfidf.transform(X_train)\n",
    "    y_train = LabelEncoder().fit_transform(y_train)\n",
    "    if i == 0:\n",
    "        model.fit(X_train, y_train)\n",
    "    else:\n",
    "        model.fit(X_train, y_train, xgb_model='tmp.json')\n",
    "    train_score = roc_auc_score(y_train, model.predict_proba(X_train)[:,1])\n",
    "    train_auc.append(train_score)\n",
    "    model.save_model('tmp.json')\n",
    "\n",
    "    batch = next(stream)\n",
    "    X_valid, y_valid = batch['Page content'], batch['Popularity']\n",
    "    y_valid = LabelEncoder().fit_transform(y_valid)\n",
    "    valid_score = roc_auc_score(y_valid, model.predict_proba(tfidf.transform(X_valid))[:,1])\n",
    "    val_auc.append(valid_score)\n",
    "    print(f'[{(i+1)*batch_size}/{X_train.shape[0]}]')\n",
    "    print(f'Train score: {train_score}')\n",
    "    print(f'Valid score: {valid_score}')\n"
   ]
  },
  {
   "cell_type": "markdown",
   "metadata": {},
   "source": [
    "#### Once Version"
   ]
  },
  {
   "cell_type": "markdown",
   "metadata": {},
   "source": [
    "##### Approach 1. XGBClassifier (Part 1) + XGBClassifier (Part 2) + Propotion"
   ]
  },
  {
   "cell_type": "code",
   "execution_count": 49,
   "metadata": {},
   "outputs": [
    {
     "name": "stdout",
     "output_type": "stream",
     "text": [
      "Begin Word Training...\n",
      "Begin Stats Training...\n",
      "Begin Evaluation...\n",
      "Propotion = 0.1\n",
      "Stats train score: 0.8337489746948469\n",
      "Stats valid score: 0.5381647821363221\n",
      "Propotion = 0.2\n",
      "Stats train score: 0.8538771468400634\n",
      "Stats valid score: 0.5424207121841751\n",
      "Propotion = 0.3\n",
      "Stats train score: 0.8716052293672272\n",
      "Stats valid score: 0.546162726998858\n",
      "Propotion = 0.4\n",
      "Stats train score: 0.8852657226003768\n",
      "Stats valid score: 0.5490572462571346\n",
      "Propotion = 0.5\n",
      "Stats train score: 0.8934468680814405\n",
      "Stats valid score: 0.5502538298920947\n",
      "Propotion = 0.6\n",
      "Stats train score: 0.895002950718581\n",
      "Stats valid score: 0.5494158876364323\n",
      "Propotion = 0.7\n",
      "Stats train score: 0.8887981647937868\n",
      "Stats valid score: 0.5471412859894432\n",
      "Propotion = 0.8\n",
      "Stats train score: 0.873531289236538\n",
      "Stats valid score: 0.5440122528279733\n",
      "Propotion = 0.9\n",
      "Stats train score: 0.8483147518254196\n",
      "Stats valid score: 0.5401605713554354\n"
     ]
    }
   ],
   "source": [
    "import xgboost as xgb\n",
    "from sklearn.preprocessing import LabelEncoder\n",
    "from sklearn.metrics import roc_auc_score\n",
    "from sklearn.model_selection import train_test_split\n",
    "\n",
    "X_train, X_valid, Y_train, Y_valid = train_test_split(X, y, test_size=.2)\n",
    "\n",
    "print('Begin Word Training...')\n",
    "word_model = xgb.XGBClassifier(max_depth=10)\n",
    "x_train_word = tfidf.transform(X_train)\n",
    "y_train = LabelEncoder().fit_transform(Y_train)\n",
    "word_model.fit(x_train_word, y_train)\n",
    "\n",
    "\n",
    "print('Begin Stats Training...')\n",
    "stats_model = xgb.XGBClassifier(max_depth=10)\n",
    "x_train_stats = feature_selection_part2(X_train)\n",
    "stats_model.fit(x_train_stats, y_train)\n",
    "\n",
    "print('Begin Evaluation...')\n",
    "y_valid = LabelEncoder().fit_transform(Y_valid)\n",
    "y_pred_word_train = word_model.predict_proba(x_train_word)[:,1]\n",
    "y_pred_stats_train = stats_model.predict_proba(x_train_stats)[:,1]\n",
    "y_pred_word_valid = word_model.predict_proba(tfidf.transform(X_valid))[:,1]\n",
    "y_pred_stats_valid = stats_model.predict_proba(feature_selection_part2(X_valid))[:,1]\n",
    "\n",
    "train_score = []\n",
    "valid_score = []\n",
    "for i in [0.1, 0.2, 0.3, 0.4, 0.5, 0.6, 0.7, 0.8, 0.9]:\n",
    "    print(f'Propotion = {i}')\n",
    "    train_score = roc_auc_score(y_train, y_pred_word_train*(i) + y_pred_stats_train*(1-i))\n",
    "    valid_score = roc_auc_score(y_valid, y_pred_word_valid*(i) + y_pred_stats_valid*(1-i))\n",
    "    print(f'Stats train score: {train_score}')\n",
    "    print(f'Stats valid score: {valid_score}')"
   ]
  },
  {
   "cell_type": "markdown",
   "metadata": {},
   "source": [
    "##### Appoach 2. XGBClassifier (Part 1) + GradientBoostingClassifier (Part 2) + Propotion"
   ]
  },
  {
   "cell_type": "code",
   "execution_count": 83,
   "metadata": {},
   "outputs": [
    {
     "name": "stdout",
     "output_type": "stream",
     "text": [
      "Begin Word Training...\n",
      "Begin Stats Training...\n",
      "Begin Evaluation...\n",
      "Best coef: 0.295\n",
      "Train score: 0.8103657120014685\n",
      "Valide score: 0.5659891770926032\n"
     ]
    }
   ],
   "source": [
    "import xgboost as xgb\n",
    "from sklearn.ensemble import HistGradientBoostingClassifier\n",
    "from sklearn.preprocessing import LabelEncoder\n",
    "from sklearn.metrics import roc_auc_score\n",
    "from sklearn.model_selection import train_test_split\n",
    "\n",
    "X_train, X_valid, Y_train, Y_valid = train_test_split(X, y, test_size=.2)\n",
    "\n",
    "print('Begin Word Training...')\n",
    "word_model = xgb.XGBClassifier()\n",
    "x_train_word = tfidf.transform(X_train)\n",
    "y_train = LabelEncoder().fit_transform(Y_train)\n",
    "word_model.fit(x_train_word, y_train)\n",
    "\n",
    "\n",
    "print('Begin Stats Training...')\n",
    "stats_model = HistGradientBoostingClassifier()\n",
    "x_train_stats = feature_selection_part2(X_train)\n",
    "stats_model.fit(x_train_stats, y_train)\n",
    "\n",
    "print('Begin Evaluation...')\n",
    "y_valid = LabelEncoder().fit_transform(Y_valid)\n",
    "y_pred_word_train = word_model.predict_proba(x_train_word)[:,1]\n",
    "y_pred_stats_train = stats_model.predict_proba(x_train_stats)[:,1]\n",
    "y_pred_word_valid = word_model.predict_proba(tfidf.transform(X_valid))[:,1]\n",
    "y_pred_stats_valid = stats_model.predict_proba(feature_selection_part2(X_valid))[:,1]\n",
    "\n",
    "train_score = []\n",
    "valid_score = []\n",
    "best_coef = 0\n",
    "best_train = 0\n",
    "best_valid = 0\n",
    "coef_ = np.linspace(0,.5,101)\n",
    "for i in coef_:\n",
    "    train_score = roc_auc_score(y_train, y_pred_word_train*(i) + y_pred_stats_train*(1-i))\n",
    "    valid_score = roc_auc_score(y_valid, y_pred_word_valid*(i) + y_pred_stats_valid*(1-i))\n",
    "    if valid_score > best_valid:\n",
    "        best_valid = valid_score\n",
    "        best_train = train_score\n",
    "        best_coef = i\n",
    "\n",
    "print(f'Best coef: {best_coef}')\n",
    "print(f'Train score: {best_train}')\n",
    "print(f'Valide score: {best_valid}')"
   ]
  },
  {
   "cell_type": "markdown",
   "metadata": {},
   "source": [
    "##### Approach 3. RandomForestClassifier (Part 1) + GradientBoostingClassifier (Part 2) + Propotion"
   ]
  },
  {
   "cell_type": "code",
   "execution_count": 30,
   "metadata": {},
   "outputs": [
    {
     "name": "stdout",
     "output_type": "stream",
     "text": [
      "Begin Word Training...\n",
      "Begin Saving...\n",
      "Begin Stats Training...\n",
      "Begin Saving...\n",
      "Begin Evaluation...\n",
      "Propotion = 0.0\n",
      "Propotion = 0.025\n",
      "Propotion = 0.05\n",
      "Propotion = 0.07500000000000001\n",
      "Propotion = 0.1\n",
      "Propotion = 0.125\n",
      "Propotion = 0.15000000000000002\n",
      "Propotion = 0.17500000000000002\n",
      "Propotion = 0.2\n",
      "Propotion = 0.225\n",
      "Propotion = 0.25\n",
      "Propotion = 0.275\n",
      "Propotion = 0.30000000000000004\n",
      "Propotion = 0.325\n",
      "Propotion = 0.35000000000000003\n",
      "Propotion = 0.375\n",
      "Propotion = 0.4\n",
      "Propotion = 0.42500000000000004\n",
      "Propotion = 0.45\n",
      "Propotion = 0.47500000000000003\n",
      "Propotion = 0.5\n",
      "Train score: 0.9980189735758218\n",
      "Valide score: 0.5762409434051226\n"
     ]
    }
   ],
   "source": [
    "from sklearn.ensemble import RandomForestClassifier\n",
    "from sklearn.ensemble import GradientBoostingClassifier\n",
    "from sklearn.preprocessing import LabelEncoder\n",
    "from sklearn.metrics import roc_auc_score\n",
    "from sklearn.model_selection import train_test_split\n",
    "\n",
    "X_train, X_valid, Y_train, Y_valid = train_test_split(X, y, test_size=.2)\n",
    "\n",
    "print('Begin Word Training...')\n",
    "word_model = RandomForestClassifier()\n",
    "x_train_word = tfidf.transform(X_train)\n",
    "y_train = LabelEncoder().fit_transform(Y_train)\n",
    "word_model.fit(x_train_word, y_train)\n",
    "\n",
    "print('Begin Saving...')\n",
    "import pickle\n",
    "filename = \"backup_word.pickle\"\n",
    "# save model\n",
    "pickle.dump(word_model, open(filename, \"wb\"))\n",
    "\n",
    "print('Begin Stats Training...')\n",
    "stats_model = GradientBoostingClassifier(n_estimators=100, learning_rate=1.0, max_depth=1, random_state=0)\n",
    "x_train_stats = feature_selection_part2(X_train)\n",
    "stats_model.fit(x_train_stats, y_train)\n",
    "\n",
    "print('Begin Saving...')\n",
    "import pickle\n",
    "filename = \"backup_stats.pickle\"\n",
    "# save model\n",
    "pickle.dump(stats_model, open(filename, \"wb\"))\n",
    "\n",
    "print('Begin Evaluation...')\n",
    "y_valid = LabelEncoder().fit_transform(Y_valid)\n",
    "y_pred_word_train = word_model.predict_proba(x_train_word)[:,1]\n",
    "y_pred_stats_train = stats_model.predict_proba(x_train_stats)[:,1]\n",
    "y_pred_word_valid = word_model.predict_proba(tfidf.transform(X_valid))[:,1]\n",
    "y_pred_stats_valid = stats_model.predict_proba(feature_selection_part2(X_valid))[:,1]\n",
    "\n",
    "train_score = []\n",
    "valid_score = []\n",
    "best_coef = 0\n",
    "best_train = 0\n",
    "best_valid = 0\n",
    "coef_ = np.linspace(0,.5,21)\n",
    "for i in coef_:\n",
    "    train_score = roc_auc_score(y_train, y_pred_word_train*(i) + y_pred_stats_train*(1-i))\n",
    "    valid_score = roc_auc_score(y_valid, y_pred_word_valid*(i) + y_pred_stats_valid*(1-i))\n",
    "    if valid_score > best_valid:\n",
    "        best_valid = valid_score\n",
    "        best_train = train_score\n",
    "        best_coef = i\n",
    "\n",
    "print(f'Best coef: {best_coef}') # 0.35\n",
    "print(f'Train score: {best_train}')\n",
    "print(f'Valide score: {best_valid}')"
   ]
  },
  {
   "cell_type": "markdown",
   "metadata": {},
   "source": [
    "##### Approach 4. GradientBoostingClassifier (Part 2)"
   ]
  },
  {
   "cell_type": "code",
   "execution_count": 81,
   "metadata": {},
   "outputs": [
    {
     "name": "stdout",
     "output_type": "stream",
     "text": [
      "Begin Word Training...\n",
      "Begin Saving...\n",
      "Begin Stats Training...\n",
      "Begin Saving...\n",
      "Begin Evaluation...\n",
      "Best coef: 0.325\n",
      "Train score: 0.9942460362600725\n",
      "Valide score: 0.5714620792381162\n"
     ]
    }
   ],
   "source": [
    "from sklearn.ensemble import RandomForestClassifier\n",
    "from sklearn.ensemble import GradientBoostingClassifier\n",
    "from sklearn.preprocessing import LabelEncoder\n",
    "from sklearn.metrics import roc_auc_score\n",
    "from sklearn.model_selection import train_test_split\n",
    "\n",
    "\n",
    "\n",
    "\n",
    "print('Begin Stats Training...')\n",
    "stats_model = GradientBoostingClassifier(n_estimators=100, learning_rate=1.0, max_depth=1, random_state=0)\n",
    "x_train_stats = feature_selection_part2(X_train)\n",
    "stats_model.fit(x_train_stats, y_train)\n",
    "\n",
    "print('Begin Saving...')\n",
    "import pickle\n",
    "filename = \"backup_stats.pickle\"\n",
    "# save model\n",
    "pickle.dump(stats_model, open(filename, \"wb\"))\n",
    "\n",
    "print('Begin Evaluation...')\n",
    "y_valid = LabelEncoder().fit_transform(Y_valid)\n",
    "y_pred_word_train = word_model.predict_proba(x_train_word)[:,1]\n",
    "y_pred_stats_train = stats_model.predict_proba(x_train_stats)[:,1]\n",
    "y_pred_word_valid = word_model.predict_proba(tfidf.transform(X_valid))[:,1]\n",
    "y_pred_stats_valid = stats_model.predict_proba(feature_selection_part2(X_valid))[:,1]\n",
    "\n",
    "train_score = []\n",
    "valid_score = []\n",
    "best_coef = 0\n",
    "best_train = 0\n",
    "best_valid = 0\n",
    "coef_ = np.linspace(0,.5,21)\n",
    "for i in coef_:\n",
    "    train_score = roc_auc_score(y_train, y_pred_word_train*(i) + y_pred_stats_train*(1-i))\n",
    "    valid_score = roc_auc_score(y_valid, y_pred_word_valid*(i) + y_pred_stats_valid*(1-i))\n",
    "    if valid_score > best_valid:\n",
    "        best_valid = valid_score\n",
    "        best_train = train_score\n",
    "        best_coef = i\n",
    "\n",
    "print(f'Best coef: {best_coef}')\n",
    "print(f'Train score: {best_train}')\n",
    "print(f'Valide score: {best_valid}')"
   ]
  },
  {
   "cell_type": "markdown",
   "metadata": {},
   "source": [
    "##### Approach 5. Voting Classifier (All)"
   ]
  },
  {
   "cell_type": "code",
   "execution_count": 13,
   "metadata": {},
   "outputs": [
    {
     "name": "stdout",
     "output_type": "stream",
     "text": [
      "Begin Word Training...\n",
      "Begin Saving...\n",
      "Begin Evaluation...\n",
      "Stats train score: 0.9996908653201391\n",
      "Stats valid score: 0.5492559122616445\n"
     ]
    }
   ],
   "source": [
    "from sklearn.ensemble import RandomForestClassifier\n",
    "from sklearn.ensemble import VotingClassifier\n",
    "from sklearn.ensemble import GradientBoostingClassifier\n",
    "from sklearn.preprocessing import LabelEncoder\n",
    "from sklearn.metrics import roc_auc_score\n",
    "from sklearn.model_selection import train_test_split\n",
    "\n",
    "X_train, X_valid, Y_train, Y_valid = train_test_split(X, y, test_size=.2)\n",
    "word_model = RandomForestClassifier()\n",
    "stats_model = GradientBoostingClassifier(n_estimators=100, learning_rate=1.0, max_depth=1, random_state=0)\n",
    "voting = VotingClassifier(estimators=[('rf', word_model), ('gbc', stats_model)], voting='soft')\n",
    "\n",
    "print('Begin Word Training...')\n",
    "x_train = tfidf.transform(X_train)\n",
    "y_train = LabelEncoder().fit_transform(Y_train)\n",
    "y_valid = LabelEncoder().fit_transform(Y_valid)\n",
    "voting = voting.fit(x_train, y_train)\n",
    "\n",
    "print('Begin Saving...')\n",
    "import pickle\n",
    "filename = \"backup_voting.pickle\"\n",
    "# save model\n",
    "pickle.dump(voting, open(filename, \"wb\"))\n",
    "\n",
    "print('Begin Evaluation...')\n",
    "y_pred_train = voting.predict_proba(x_train)[:,1]\n",
    "y_pred_valid = voting.predict_proba(tfidf.transform(X_valid))[:,1]\n",
    "\n",
    "train_score = roc_auc_score(y_train, y_pred_train)\n",
    "valid_score = roc_auc_score(y_valid, y_pred_valid)\n",
    "print(f'Stats train score: {train_score}')\n",
    "print(f'Stats valid score: {valid_score}')"
   ]
  },
  {
   "cell_type": "markdown",
   "metadata": {},
   "source": [
    "### Final Approach VotingClassifier (Johnson's Part 3)"
   ]
  },
  {
   "cell_type": "markdown",
   "metadata": {},
   "source": [
    "#### Prepare Data"
   ]
  },
  {
   "cell_type": "code",
   "execution_count": 105,
   "metadata": {},
   "outputs": [],
   "source": [
    "from sklearn.preprocessing import LabelEncoder\n",
    "X_train, X_valid, Y_train, Y_valid = train_test_split(X, y, test_size=.2)\n",
    "x_train = feature_selection_part3(X_train, True)\n",
    "x_valid = feature_selection_part3(X_valid, False)\n",
    "y_train = LabelEncoder().fit_transform(Y_train)\n",
    "y_valid = LabelEncoder().fit_transform(Y_valid)"
   ]
  },
  {
   "cell_type": "code",
   "execution_count": 106,
   "metadata": {},
   "outputs": [],
   "source": [
    "import pickle\n",
    "file_name = 'x_train_last_dance.pickle'\n",
    "pickle.dump(x_train, open(file_name, \"wb\"))\n",
    "file_name = 'x_valid_last_dance.pickle'\n",
    "pickle.dump(x_valid, open(file_name, \"wb\"))\n",
    "file_name = 'y_train_last_dance.pickle'\n",
    "pickle.dump(y_train, open(file_name, \"wb\"))\n",
    "file_name = 'y_valid_last_dance.pickle'\n",
    "pickle.dump(y_valid, open(file_name, \"wb\"))"
   ]
  },
  {
   "cell_type": "code",
   "execution_count": 25,
   "metadata": {},
   "outputs": [],
   "source": [
    "x_train = pickle.load(open('x_train_last_dance.pickle', 'rb'))\n",
    "x_valid = pickle.load(open('x_valid_last_dance.pickle', 'rb'))\n",
    "y_train = pickle.load(open('y_train_last_dance.pickle', 'rb'))\n",
    "y_valid = pickle.load(open('y_valid_last_dance.pickle', 'rb'))"
   ]
  },
  {
   "cell_type": "markdown",
   "metadata": {},
   "source": [
    "#### Testing XGBClassifier"
   ]
  },
  {
   "cell_type": "code",
   "execution_count": 122,
   "metadata": {},
   "outputs": [
    {
     "name": "stdout",
     "output_type": "stream",
     "text": [
      "Begin Word Training...\n",
      "Begin Evaluation...\n",
      "Stats train score: 0.6601329938005939\n",
      "Stats valid score: 0.5910334167486859\n"
     ]
    }
   ],
   "source": [
    "from xgboost import XGBClassifier\n",
    "from sklearn.metrics import roc_auc_score\n",
    "\n",
    "model_v3 = XGBClassifier(n_estimators=400, learning_rate=0.0025, max_depth=6)\n",
    "\n",
    "print('Begin Word Training...')\n",
    "model_v3 = model_v3.fit(x_train, y_train)\n",
    "\n",
    "print('Begin Evaluation...')\n",
    "y_pred_train = model_v3.predict_proba(x_train)[:,1]\n",
    "y_pred_valid = model_v3.predict_proba(x_valid)[:,1]\n",
    "\n",
    "train_score = roc_auc_score(y_train, y_pred_train)\n",
    "valid_score = roc_auc_score(y_valid, y_pred_valid)\n",
    "print(f'Stats train score: {train_score}')\n",
    "print(f'Stats valid score: {valid_score}')"
   ]
  },
  {
   "cell_type": "markdown",
   "metadata": {},
   "source": [
    "#### Testing RandomForestClassifier"
   ]
  },
  {
   "cell_type": "code",
   "execution_count": 73,
   "metadata": {},
   "outputs": [
    {
     "name": "stdout",
     "output_type": "stream",
     "text": [
      "Begin Word Training...\n",
      "Begin Evaluation...\n",
      "Stats train score: 0.740397027506228\n",
      "Stats valid score: 0.5842086655466674\n"
     ]
    }
   ],
   "source": [
    "from xgboost import XGBClassifier\n",
    "from sklearn.ensemble import RandomForestClassifier\n",
    "from sklearn.linear_model import SGDClassifier\n",
    "from sklearn.ensemble import VotingClassifier\n",
    "from sklearn.ensemble import GradientBoostingClassifier\n",
    "from sklearn.preprocessing import LabelEncoder\n",
    "from sklearn.metrics import roc_auc_score\n",
    "from sklearn.model_selection import train_test_split\n",
    "\n",
    "model = RandomForestClassifier(n_estimators=350, max_depth=8, max_features=0.5)\n",
    "\n",
    "print('Begin Word Training...')\n",
    "voting = model.fit(x_train, y_train)\n",
    "\n",
    "print('Begin Evaluation...')\n",
    "y_pred_train = model.predict_proba(x_train)[:,1]\n",
    "y_pred_valid = model.predict_proba(x_valid)[:,1]\n",
    "\n",
    "train_score = roc_auc_score(y_train, y_pred_train)\n",
    "valid_score = roc_auc_score(y_valid, y_pred_valid)\n",
    "print(f'Stats train score: {train_score}')\n",
    "print(f'Stats valid score: {valid_score}')"
   ]
  },
  {
   "cell_type": "markdown",
   "metadata": {},
   "source": [
    "#### Testing GradientBoostingClassifier"
   ]
  },
  {
   "cell_type": "code",
   "execution_count": 109,
   "metadata": {},
   "outputs": [
    {
     "name": "stdout",
     "output_type": "stream",
     "text": [
      "Begin Word Training...\n",
      "Begin Evaluation...\n",
      "Stats train score: 0.5951716816776015\n",
      "Stats valid score: 0.5936696385567399\n"
     ]
    }
   ],
   "source": [
    "from sklearn.ensemble import GradientBoostingClassifier\n",
    "from sklearn.metrics import roc_auc_score\n",
    "\n",
    "model = GradientBoostingClassifier(n_estimators=200, learning_rate=0.01, max_depth=3, random_state=0)\n",
    "\n",
    "print('Begin Word Training...')\n",
    "voting = model.fit(x_train, y_train)\n",
    "\n",
    "print('Begin Evaluation...')\n",
    "y_pred_train = model.predict_proba(x_train)[:,1]\n",
    "y_pred_valid = model.predict_proba(x_valid)[:,1]\n",
    "\n",
    "train_score = roc_auc_score(y_train, y_pred_train)\n",
    "valid_score = roc_auc_score(y_valid, y_pred_valid)\n",
    "print(f'Stats train score: {train_score}')\n",
    "print(f'Stats valid score: {valid_score}')"
   ]
  },
  {
   "cell_type": "markdown",
   "metadata": {},
   "source": [
    "#### Testing VotingClassifier"
   ]
  },
  {
   "cell_type": "code",
   "execution_count": 130,
   "metadata": {},
   "outputs": [
    {
     "name": "stdout",
     "output_type": "stream",
     "text": [
      "Begin Voting Training...\n",
      "Begin Evaluation...\n",
      "Stats train score: 0.6264490999002064\n",
      "Stats valid score: 0.5958093601449124\n"
     ]
    }
   ],
   "source": [
    "from xgboost import XGBClassifier\n",
    "from sklearn.ensemble import RandomForestClassifier\n",
    "from sklearn.linear_model import SGDClassifier\n",
    "from sklearn.ensemble import VotingClassifier\n",
    "from sklearn.ensemble import GradientBoostingClassifier\n",
    "from sklearn.preprocessing import LabelEncoder\n",
    "from sklearn.metrics import roc_auc_score\n",
    "from sklearn.model_selection import train_test_split\n",
    "\n",
    "model_v1 = XGBClassifier(n_estimators=400, learning_rate=0.002, max_depth=6)\n",
    "model_v3 = GradientBoostingClassifier(n_estimators=200, learning_rate=0.01, max_depth=3, random_state=0)\n",
    "\n",
    "voting = VotingClassifier(estimators=[('v1', model_v1), ('v3', model_v3)], voting='soft')\n",
    "\n",
    "print('Begin Voting Training...')\n",
    "voting = voting.fit(x_train, y_train)\n",
    "\n",
    "print('Begin Evaluation...')\n",
    "y_pred_train = voting.predict_proba(x_train)[:,1]\n",
    "y_pred_valid = voting.predict_proba(x_valid)[:,1]\n",
    "\n",
    "train_score = roc_auc_score(y_train, y_pred_train)\n",
    "valid_score = roc_auc_score(y_valid, y_pred_valid)\n",
    "print(f'Stats train score: {train_score}')\n",
    "print(f'Stats valid score: {valid_score}')"
   ]
  },
  {
   "cell_type": "markdown",
   "metadata": {},
   "source": [
    "### Prediction"
   ]
  },
  {
   "cell_type": "code",
   "execution_count": 39,
   "metadata": {},
   "outputs": [
    {
     "name": "stdout",
     "output_type": "stream",
     "text": [
      "Content:\n",
      " Id                                                          27643\n",
      "Page content    <html><head><div class=\"article-info\"><span cl...\n",
      "Name: 0, dtype: object\n",
      "(11847,)\n",
      "\n",
      "Id:\n",
      " 27643\n",
      "Content:\n",
      " <html><head><div class=\"article-info\"><span class=\"byline \"><a href=\"/author/sam-laird/\"><img alt=\"2016%2f09%2f15%2f63%2fhttpsd2mhye01h4nj2n.cloudfront.netmediazgkymde1lza2.9814b\" class=\"author_image\" src=\"http://i.amz.mshcdn.com/-qaMPB8aiQeIaoBhqlU0OLjA07A=/90x90/2016%2F09%2F15%2F63%2Fhttpsd2mhye01h4nj2n.cloudfront.netmediaZgkyMDE1LzA2.9814b.jpg\"/></a><span class=\"author_name\">By <a href=\"/author/sam-laird/\">Sam Laird</a></span><time datetime=\"Mon, 09 Sep 2013 19:47:02 +0000\">2013-09-09 19:47:02 UTC</time></span></div></head><body><h1 class=\"title\">Soccer Star Gets Twitter Death Threats After Tackling One Direction Member</h1><figure class=\"article-image\"></figure><article data-channel=\"entertainment\"><section class=\"article-content\"> <div class=\"shift-to-hero\"> <p><iframe allowfullscreen=\"\" frameborder=\"0\" height=\"360\" src=\"https://www.youtube.com/embed/8L0lUoJ2BCY?enablejsapi=1&amp;\" width=\"640\"></iframe></p> <script src=\"http://a.amz.mshcdn.com/assets/lib/aab-7ce243b38b9cc2caec816aff811d3153.js\" type=\"text/javascript\"></script> </div> <p>Note to humanity: One Direction fandom ain't nothin' to mess with. </p> <p>A British <a href=\"http://mashable.com/category/soccer/\">soccer</a> star learned this hard way over the weekend when the pop band's fanboys and fangirls brought a ruckus to his <a href=\"http://mashable.com/category/twitter/\">Twitter</a> feed, tweeting him a fusillade of death threats following an incidental run-in Sunday during a charity soccer match.</p> <div class=\"see-also\"><p>See also: <a href=\"http://mashable.com/2013/07/30/gq-one-direction-death-threats/\">GQ Gets Twitter Death Threats for One Direction Magazine Covers</a></p></div> <p>Gabriel Agbonlahor is the all-time leading goal-scorer for English Premier League side Aston Villa. He participated in a charity match honoring a former player now battling leukemia. Also playing: Louis Tomlinson, one-fifth of the British-Irish boy band <a href=\"http://mashable.com/category/one-direction/\">One Direction</a>. </p> <p>Tomlinson was dribbling the ball about midway through Sunday's match when the pro striker Agbonlahor swooped in to knock it away from the tiny amateur. A clean play, to be sure, but there was some incidental contact as well, causing Tomlinson to collapse on the grass like a wounded deer. Then he limped off and promptly vomited into his hand, <a href=\"http://www.youtube.com/watch?v=19AADH8tcBM\" target=\"_blank\">as shown here</a>. </p> <p>Tomlinson and Agbonlahor shared a moment as he left the field and all seemed fine on the pitch. On Twitter, however, things were just getting started: One Direction's fan base exploded in a fit of mass rage, threatening to end Agbonlahor in all sorts of unpleasant ways. To whit, here are just a few examples, with some mildly NSFW language:</p> <blockquote class=\"twitter-tweet\"> <p>WHOEVER PUSHED LOUIS DOWN I WILL FIND YOU AND PUSH YOU OFF THE GODDAMN EMPIRE STATE BUILDING!</p> <p>— J a m R e y e s™ (@ItsJamReyes) <a href=\"https://twitter.com/ItsJamReyes/statuses/376714629201674241\" target=\"_blank\">September 8, 2013</a></p> </blockquote> <blockquote class=\"twitter-tweet\"> <p>this is how Louis hurt his knee, I will find that guy, and kill him. <a href=\"https://t.co/3tbsGCT1bq\" target=\"_blank\">https://t.co/3tbsGCT1bq</a></p> <p>— PROUD OF LOUIS (@LatestOf1D) <a href=\"https://twitter.com/LatestOf1D/statuses/376715533560733696\" target=\"_blank\">September 8, 2013</a></p> </blockquote> <blockquote class=\"twitter-tweet\"> <p><a href=\"https://twitter.com/gabby_10\" target=\"_blank\">@gabby_10</a> You obviously need Jesus. WE WILL FUCKING FIND YOU AND KILL YOU.</p> <p>— morgan (@NiallUrBasicUgh) <a href=\"https://twitter.com/NiallUrBasicUgh/statuses/376756036389982208\" target=\"_blank\">September 8, 2013</a></p> </blockquote> <blockquote class=\"twitter-tweet\"> <p>fuck off you <a href=\"https://twitter.com/gabby_10\" target=\"_blank\">@gabby_10</a>, how could u touch my precious LOUIS? I WILL KILL U MUTHERFUCKER</p> <p>— Lucho García #51 (@Lois7x) <a href=\"https://twitter.com/Lois7x/statuses/376781833716760576\" target=\"_blank\">September 8, 2013</a></p> </blockquote> <p>At least one person even took things a step further, threatening indiscriminate mass murder:</p> <blockquote class=\"twitter-tweet\"> <p>If i ever see louis cry bc he's hurt or sad i will kill the entire human race by myself</p> <p>— karol(arry) (@nuttelarry) <a href=\"https://twitter.com/nuttelarry/statuses/377046130682761216\" target=\"_blank\">September 9, 2013</a></p> </blockquote> <p>This is actually just the latest incident of rabid teenyboppers attacking <a href=\"http://mashable.com/sports/\">sports</a> stars online over perceived slights against their demigod idols of auto-tuned worship, however. </p> <p>If you're scoring at home, for example, you'll recall the time not so long ago that Justin Bieber fans <a href=\"http://mashable.com/2013/05/30/justin-bieber-fans-twitter-eric-dickerson/\">unleashed a digital fury</a> upon an NFL Hall of Famer following criticism of Bieber's alleged reckless driving. But the beef goes both ways, too. Hockey fans on Twitter <a href=\"http://mashable.com/2013/07/09/justin-bieber-stabley-cup/\">flew into a collective rage</a> in July after photos surfaced of Bieber posing in quintessentially Bieber-like fashion with the Stanley Cup. </p> <p><strong><div class=\"bonus-content\">BONUS: <a href=\"http://mashable.com/2013/08/04/one-direction-bullying-office-depot-school-supplies/\">One Direction and Directioners Fuse Online Powers to Battle Bullying</a> </div></strong></p> <section class=\"gallery\" data-display-mode=\"gallery\" data-id=\"11859\" data-slide-title-pos=\"\" data-slug=\"one-directions-anti-bullying-campaign-with-office-depot\"> <header> <h1>One Direction's Anti-Bullying Campaign With Office Depot</h1> </header> <ol class=\"slides\"> <li class=\"slide\" data-content-source=\"Gallery - Video - Youtube\" data-id=\"522e25c6b589e40ced00048d\" data-skip-rerender=\"false\" data-thumb=\"http://i.amz.mshcdn.com/Un3ZihG1VmZWnvs-VprxzwDgFOI=/180x140/http%3A%2F%2Fmashable.com%2Fwp-content%2Fgallery%2Fone-directions-anti-bullying-campaign-with-office-depot%2F0Fr6eIUoB6I.jpg\"> <figure> <div class=\"aspect-16x9\"><iframe allowfullscreen=\"\" class=\"dnr\" frameborder=\"0\" src=\"http://www.youtube.com/embed/0Fr6eIUoB6I\"></iframe></div> </figure> <div class=\"meta\"> <h2 class=\"title\">1. 1D + OD Together Against Bullying </h2> <div class=\"caption\"></div> <div class=\"credit\"> Video: YouTube, <a href=\"http://www.youtube.com/channel/UCt8Iul9mAsdowXx_xrVNVbA\" target=\"_blank\">OfficialOfficeDepot</a> </div> </div> </li> <li class=\"slide\" data-content-source=\"Gallery - Video - Youtube\" data-id=\"522e25c6b589e40ced00048e\" data-skip-rerender=\"false\" data-thumb=\"http://i.amz.mshcdn.com/oOrgEGOY7kCyASO2sJEuiJmcH4Y=/180x140/http%3A%2F%2Fmashable.com%2Fwp-content%2Fgallery%2Fone-directions-anti-bullying-campaign-with-office-depot%2F2RuwAne1GRk.jpg\"> <figure> <div class=\"aspect-16x9\"><iframe allowfullscreen=\"\" class=\"dnr\" frameborder=\"0\" src=\"http://www.youtube.com/embed/2RuwAne1GRk\"></iframe></div> </figure> <div class=\"meta\"> <h2 class=\"title\">2. Harry Against Bullying </h2> <div class=\"caption\"></div> <div class=\"credit\"> Video: YouTube, <a href=\"http://www.youtube.com/channel/UCt8Iul9mAsdowXx_xrVNVbA\" target=\"_blank\">OfficialOfficeDepot</a> </div> </div> </li> <li class=\"slide\" data-content-source=\"Gallery - Video - Youtube\" data-id=\"522e25c6b589e40ced00048f\" data-skip-rerender=\"false\" data-thumb=\"http://i.amz.mshcdn.com/slMRLhuwNWBmi2WUWOsoChIkbT4=/180x140/http%3A%2F%2Fmashable.com%2Fwp-content%2Fgallery%2Fone-directions-anti-bullying-campaign-with-office-depot%2FIVQeItw5NHQ.jpg\"> <figure> <div class=\"aspect-16x9\"><iframe allowfullscreen=\"\" class=\"dnr\" frameborder=\"0\" src=\"http://www.youtube.com/embed/IVQeItw5NHQ\"></iframe></div> </figure> <div class=\"meta\"> <h2 class=\"title\">3. Zayn Against Bullying </h2> <div class=\"caption\"></div> <div class=\"credit\"> Video: YouTube, <a href=\"http://www.youtube.com/channel/UCt8Iul9mAsdowXx_xrVNVbA\" target=\"_blank\">OfficialOfficeDepot</a> </div> </div> </li> <li class=\"slide\" data-content-source=\"Gallery - Video - Youtube\" data-id=\"522e25c6b589e40ced000490\" data-skip-rerender=\"false\" data-thumb=\"http://i.amz.mshcdn.com/eVdXXGFMQcb8Dd0CZ95pp3etjs4=/180x140/http%3A%2F%2Fmashable.com%2Fwp-content%2Fgallery%2Fone-directions-anti-bullying-campaign-with-office-depot%2FL6Wdbq6frxY.jpg\"> <figure> <div class=\"aspect-16x9\"><iframe allowfullscreen=\"\" class=\"dnr\" frameborder=\"0\" src=\"http://www.youtube.com/embed/L6Wdbq6frxY\"></iframe></div> </figure> <div class=\"meta\"> <h2 class=\"title\">4. Niall Against Bullying </h2> <div class=\"caption\"></div> <div class=\"credit\"> Video: YouTube, <a href=\"http://www.youtube.com/channel/UCt8Iul9mAsdowXx_xrVNVbA\" target=\"_blank\">OfficialOfficeDepot</a> </div> </div> </li> <li class=\"slide\" data-content-source=\"Gallery - Video - Youtube\" data-id=\"522e25c6b589e40ced000491\" data-skip-rerender=\"false\" data-thumb=\"http://i.amz.mshcdn.com/-IEKxbwTTehrbTiUHsXA4gv3L4c=/180x140/http%3A%2F%2Fmashable.com%2Fwp-content%2Fgallery%2Fone-directions-anti-bullying-campaign-with-office-depot%2F6mvTafur08w.jpg\"> <figure> <div class=\"aspect-16x9\"><iframe allowfullscreen=\"\" class=\"dnr\" frameborder=\"0\" src=\"http://www.youtube.com/embed/6mvTafur08w\"></iframe></div> </figure> <div class=\"meta\"> <h2 class=\"title\">5. Louis Against Bullying </h2> <div class=\"caption\"></div> <div class=\"credit\"> Video: YouTube, <a href=\"http://www.youtube.com/channel/UCt8Iul9mAsdowXx_xrVNVbA\" target=\"_blank\">OfficialOfficeDepot</a> </div> </div> </li> <li class=\"slide\" data-content-source=\"Gallery - Video - Youtube\" data-id=\"522e25c6b589e40ced000492\" data-skip-rerender=\"false\" data-thumb=\"http://i.amz.mshcdn.com/U0yZuGwxU2fTisly0txtcIBENkg=/180x140/http%3A%2F%2Fmashable.com%2Fwp-content%2Fgallery%2Fone-directions-anti-bullying-campaign-with-office-depot%2FUlg966fRbJQ.jpg\"> <figure> <div class=\"aspect-16x9\"><iframe allowfullscreen=\"\" class=\"dnr\" frameborder=\"0\" src=\"http://www.youtube.com/embed/Ulg966fRbJQ\"></iframe></div> </figure> <div class=\"meta\"> <h2 class=\"title\">6. Liam Against Bullying </h2> <div class=\"caption\"></div> <div class=\"credit\"> Video: YouTube, <a href=\"http://www.youtube.com/channel/UCt8Iul9mAsdowXx_xrVNVbA\" target=\"_blank\">OfficialOfficeDepot</a> </div> </div> </li> </ol> </section> <p><em>Image: Ian Gavan/Getty Images for Sony Pictures</em></p> <script>      window._msla=window.loadScriptAsync||function(src,id){if(document.getElementById(id))return;var js=document.createElement('script');js.id=id;js.src=src;document.getElementsByTagName('script')[0].parentNode.insertBefore(js,fjs);}; _msla(\"//platform.twitter.com/widgets.js\",\"twitter_jssdk\");</script> </section></article><footer class=\"article-topics\"> Topics: <a href=\"/category/entertainment/\">Entertainment</a>, <a href=\"/category/music/\">Music</a>, <a href=\"/category/one-direction/\">One Direction</a>, <a href=\"/category/soccer/\">soccer</a>, <a href=\"/category/sports/\">Sports</a> </footer></body></html>\n"
     ]
    }
   ],
   "source": [
    "df = pd.read_csv('./datasets/test.csv')\n",
    "print(\"Content:\\n\",df.loc[0])\n",
    "\n",
    "Id = df.loc[:, 'Id'].to_numpy()\n",
    "X_test = df.loc[:, 'Page content'].to_numpy()\n",
    "print(X_test.shape)\n",
    "print(\"\\nId:\\n\", Id[0])\n",
    "print(\"Content:\\n\", X_test[0])"
   ]
  },
  {
   "cell_type": "code",
   "execution_count": 40,
   "metadata": {},
   "outputs": [],
   "source": [
    "y_pred = model.predict_proba(feature_selection_part3(X_test, False))[:,1]"
   ]
  },
  {
   "cell_type": "code",
   "execution_count": 39,
   "metadata": {},
   "outputs": [],
   "source": [
    "y_pred_word = word_model.predict_proba(tfidf.transform(X_test))[:,1]\n",
    "y_pred_stats = stats_model.predict_proba(feature_selection_part2(X_test))[:,1]\n",
    "propo = 0.35\n",
    "y_pred = y_pred_word*propo + y_pred_stats*(1-propo)"
   ]
  },
  {
   "cell_type": "code",
   "execution_count": 41,
   "metadata": {},
   "outputs": [
    {
     "name": "stdout",
     "output_type": "stream",
     "text": [
      "          Id  Popularity\n",
      "0      27643    0.447837\n",
      "1      27644    0.436719\n",
      "2      27645    0.439140\n",
      "3      27646    0.578224\n",
      "4      27647    0.456616\n",
      "...      ...         ...\n",
      "11842  39485    0.641587\n",
      "11843  39486    0.476370\n",
      "11844  39487    0.491440\n",
      "11845  39488    0.418514\n",
      "11846  39489    0.431437\n",
      "\n",
      "[11847 rows x 2 columns]\n"
     ]
    }
   ],
   "source": [
    "output_data = {'Id': Id, 'Popularity': y_pred}\n",
    "output_dataframe = pd.DataFrame(output_data)\n",
    "print(output_dataframe)\n",
    "\n",
    "output_dataframe.to_csv(\"./datasets/y_pred.csv\", index=None)"
   ]
  },
  {
   "cell_type": "code",
   "execution_count": 51,
   "metadata": {},
   "outputs": [
    {
     "data": {
      "image/png": "[encoded data removed]",
      "text/plain": [
       "<Figure size 640x480 with 1 Axes>"
      ]
     },
     "metadata": {},
     "output_type": "display_data"
    },
    {
     "name": "stdout",
     "output_type": "stream",
     "text": [
      "0.3585488978559971 0.7407863004889199\n"
     ]
    }
   ],
   "source": [
    "plt.plot(y_pred)\n",
    "plt.show()\n",
    "print(np.min(y_pred), np.max(y_pred))"
   ]
  },
  {
   "cell_type": "code",
   "execution_count": null,
   "metadata": {},
   "outputs": [],
   "source": [
    "'''\n",
    "          Id  Popularity\n",
    "0      27643         0.4\n",
    "1      27644         0.7\n",
    "2      27645         0.4\n",
    "3      27646         0.4\n",
    "4      27647         0.5\n",
    "...      ...         ...\n",
    "11842  39485         0.5\n",
    "11843  39486         0.5\n",
    "11844  39487         0.5\n",
    "11845  39488         0.6\n",
    "11846  39489         0.5\n",
    "\n",
    "[11847 rows x 2 columns]\n",
    "'''"
   ]
  },
  {
   "cell_type": "markdown",
   "metadata": {},
   "source": [
    "## Report"
   ]
  },
  {
   "cell_type": "markdown",
   "metadata": {},
   "source": [
    "### Dependencie & Load Data\n",
    "- Import necessary library and load csv.\n",
    "### Read & Split Data\n",
    "- Split data into X and y.\n",
    "### Feature Engineering\n",
    "- **Positive / Negative Word & Stemmer**\n",
    "    - We create lists for both positive and negative words. In addition, we create positive and negative stemmer to analyze websites' sentiment.\n",
    "- **Stop Word Stemmer**\n",
    "    - We use LancasterStemmer to tokenize selected features.\n",
    "- **All Vector Feature**\n",
    "    - Features\n",
    "        - Title\n",
    "            - Title from header.\n",
    "        - Data Channel\n",
    "            - Data-Channel from html.\n",
    "        - Author\n",
    "            - Auther name from header and only get their family name. (e.g. Clara Moskowitz => Moskowitz).\n",
    "        - Related Topics\n",
    "            - Topics from footer.\n",
    "        - Time\n",
    "            - We convert `HH:MM` to `HH * 60 + MM`, then convert into `\"morning\"`, `\"noon\"`, `\"afternoon\"` and `\"night\"`.\n",
    "        - Whether Weekend of Not\n",
    "            -  `\"weekday\"` or `\"weekend\"`.\n",
    "        - Word Count\n",
    "            - Calculate total words and convert into `\"wordshort\"`, `\"wordmedium\"` and `\"wordlong`.\n",
    "        - Video + Image Count\n",
    "            - Calculate the number of \\<img>, \\<picture>, \\<figure>, \\<video> and \\<iframe>, then convert into `\"nomedia\"`, `\"fewmedia\"` and `\"manymedia\"`.\n",
    "        - Link + Strong Header Count \n",
    "            - Calculate the number of \\<a\\> and \\<strong\\> and convert into `\"nomedia\"`, `\"fewmedia\"` and `\"manymedia\"`.\n",
    "        - Number Count\n",
    "            - Using regular expression to get the amount of numbers and convert into `\"fewstats\"`, `\"somestats\"`, `\"manystats\"` and `\"lotstats\"`.\n",
    "        - Positive and Negative Words\n",
    "            - Collect words from Positive / Negative words list in html.\n",
    "- **Feature Part 1**\n",
    "    - Features\n",
    "        - Title from `feature_selection_all()`\n",
    "        - Data Channel from `feature_selection_all()`\n",
    "        - Author from `feature_selection_all()`\n",
    "        - Related Topics from `feature_selection_all()`\n",
    "- **Feature Part 2**\n",
    "    - Features\n",
    "        - Time from `feature_selection_all()` but is number\n",
    "        - Weekend\n",
    "            - `0` or `1`\n",
    "        - Word count from `feature_selection_all()` but is number\n",
    "        - Script count\n",
    "            - Calculate the number of \\<script>\n",
    "        - Video + Image count from all but is number\n",
    "        - Link + Strong count from all but is number\n",
    "        - Number count from all but is number\n",
    "        - Positive and Negative count\n",
    "            - len(positive words) + len(negative words)\n",
    "        - Number of `\"?\"` and `\"!\"`\n",
    "        - Title length\n",
    "        - Average word length and unique word rate\n",
    "- **Feature Part 3**\n",
    "    - Features from part2\n",
    "    - Features from Johnson's part2\n",
    "### TF-IDF\n",
    "- We use `TfidfVectorizer` with preprocesser `feature_selection_all()`. However, we don't use IF-IDF in our final approach.\n",
    "### Hashing Vectorizer\n",
    "- We use `HashingVectorizer` with preprocess `feature_selection_all()`. However, we don't use Hashing Vectorizer in out final approach.\n",
    "### Model Training\n",
    "- Basically we test training two model, a `TF-IDF` one and a `feature_selection_part2()` or `feature_selection_part3()` one using different model including `RandomForestClassifier`, `XGBClassifier` and `GradientBoostingClassifier` etc. Then we combine their prediction with different propotion to get a better validation score.\n",
    "### Final Approach\n",
    "- In our final approach, we first discover that training only `feature_selection_part3()` with single model can hit better performance. After testing on many models, we choose VotingClassifier consists XGBClassifier and GradientBoostingClassifier as our final model.\n",
    "### Prediction\n",
    "- Prediction our final csv.\n"
   ]
  },
  {
   "cell_type": "markdown",
   "metadata": {},
   "source": []
  }
 ],
 "metadata": {
  "kernelspec": {
   "display_name": "DeepLearning",
   "language": "python",
   "name": "python3"
  },
  "language_info": {
   "codemirror_mode": {
    "name": "ipython",
    "version": 3
   },
   "file_extension": ".py",
   "mimetype": "text/x-python",
   "name": "python",
   "nbconvert_exporter": "python",
   "pygments_lexer": "ipython3",
   "version": "3.9.18"
  }
 },
 "nbformat": 4,
 "nbformat_minor": 2
}

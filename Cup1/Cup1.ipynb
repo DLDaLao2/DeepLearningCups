{
 "cells": [
  {
   "cell_type": "code",
   "execution_count": 304,
   "metadata": {},
   "outputs": [],
   "source": [
    "import pandas as pd\n",
    "import numpy as np\n",
    "import _pickle as pkl\n",
    "from sklearn.model_selection import train_test_split\n",
    "import re\n",
    "import os\n",
    "from bs4 import BeautifulSoup\n",
    "from collections import Counter\n",
    "from string import punctuation\n",
    "from scipy.sparse import hstack\n",
    "import nltk\n",
    "from nltk.sentiment.vader import SentimentIntensityAnalyzer\n",
    "from nltk.corpus import stopwords\n",
    "from nltk.stem.porter import PorterStemmer\n",
    "from nltk.stem.lancaster import LancasterStemmer\n",
    "from nltk import pos_tag, word_tokenize"
   ]
  },
  {
   "cell_type": "markdown",
   "metadata": {},
   "source": [
    "# Test and Train"
   ]
  },
  {
   "cell_type": "code",
   "execution_count": 305,
   "metadata": {},
   "outputs": [],
   "source": [
    "df = pd.read_csv('./datasets/train.csv')\n",
    "X = df.loc[:, 'Page content'].to_numpy()\n",
    "y = df.loc[:,'Popularity'].to_numpy()"
   ]
  },
  {
   "cell_type": "markdown",
   "metadata": {},
   "source": [
    "### Tokenizer"
   ]
  },
  {
   "cell_type": "code",
   "execution_count": 306,
   "metadata": {},
   "outputs": [],
   "source": [
    "POSITIVE_WORDS = os.path.join(os.getcwd(), 'datasets', 'positive-words.txt')\n",
    "NEGATIVE_WORDS = os.path.join(os.getcwd(), 'datasets', 'negative-words.txt')\n",
    "pos_words = []\n",
    "neg_words = []\n",
    "\n",
    "\n",
    "for line in open(POSITIVE_WORDS, 'r').readlines()[35:]:\n",
    "    word = line.rstrip()\n",
    "    pos_words.append(word)\n",
    "\n",
    "for line in open(NEGATIVE_WORDS, 'r').readlines()[35:]:\n",
    "    word = line.rstrip()\n",
    "    neg_words.append(word)"
   ]
  },
  {
   "cell_type": "code",
   "execution_count": 307,
   "metadata": {},
   "outputs": [],
   "source": [
    "stop = stopwords.words('english')\n",
    "\n",
    "def tokenizer_stem_neg(text):\n",
    "    stemmer = LancasterStemmer()\n",
    "    return [stemmer.stem(w) for w in re.split(r'\\s+', text.strip()) \\\n",
    "            if w in neg_words and re.match('[a-zA-Z]+', w)]\n",
    "\n",
    "def tokenizer_stem_pos(text):\n",
    "    stemmer = LancasterStemmer()\n",
    "    return [stemmer.stem(w) for w in re.split(r'\\s+', text.strip()) \\\n",
    "            if w in pos_words and re.match('[a-zA-Z]+', w)]\n",
    "def tokenizer_stem_nostop(text):\n",
    "    porter = PorterStemmer()\n",
    "    return [porter.stem(w) for w in re.split(r'\\s+', text.strip()) \\\n",
    "            if w not in stop and re.match('[a-zA-Z]+', w)]"
   ]
  },
  {
   "cell_type": "markdown",
   "metadata": {},
   "source": [
    "### Out of mem "
   ]
  },
  {
   "cell_type": "code",
   "execution_count": 308,
   "metadata": {},
   "outputs": [],
   "source": [
    "def get_stream(path, size):\n",
    "    for chunk in pd.read_csv(path, chunksize=size):\n",
    "        yield chunk\n",
    "batch_size = 1024\n",
    "iters = int((27643+batch_size-1)/(batch_size*2))"
   ]
  },
  {
   "cell_type": "code",
   "execution_count": 309,
   "metadata": {},
   "outputs": [],
   "source": [
    "stream = get_stream(path='./datasets/train.csv', size=batch_size)\n",
    "idx = 0\n",
    "X_train, y_train = None, None\n",
    "batch_X, batch_y = None, None\n",
    "for z in range(iters):\n",
    "    batch = next(stream)\n",
    "    if(idx==0):\n",
    "        X_train= batch['Page content']\n",
    "        y_train = batch['Popularity']\n",
    "        idx+=1\n",
    "    else:\n",
    "        X_train = np.concatenate((X_train, batch['Page content']))\n",
    "        y_train = np.concatenate((y_train, batch['Popularity']))\n",
    "    batch = next(stream)"
   ]
  },
  {
   "cell_type": "markdown",
   "metadata": {},
   "source": [
    "### Features Selection\n"
   ]
  },
  {
   "cell_type": "code",
   "execution_count": 310,
   "metadata": {},
   "outputs": [],
   "source": [
    "import math\n",
    "\n",
    "author_score =dict()\n",
    "author_num = dict()\n",
    "channel_score = dict()\n",
    "channel_num = dict()\n",
    "topic_score = dict()\n",
    "topic_num = dict()\n",
    "avg_author = 0\n",
    "avg_channel = 0\n",
    "avg_topic = 0\n",
    "\n",
    "def feature_selection_part2(data, istraining):\n",
    "    X = []\n",
    "    idx=0\n",
    "    global author_score\n",
    "    global author_num \n",
    "    global channel_score \n",
    "    global channel_num \n",
    "    global topic_score \n",
    "    global topic_num \n",
    "    global avg_author \n",
    "    global avg_channel \n",
    "    global avg_topic \n",
    "    \n",
    "    if(istraining):\n",
    "        for html in data:\n",
    "            soup = BeautifulSoup(html, 'html.parser')\n",
    "            channel = soup.find(\"article\").get(\"data-channel\")\n",
    "            if channel in channel_score:\n",
    "                channel_score[channel] += 1 if int(y[idx])==1 else  0\n",
    "                channel_num[channel] += 1\n",
    "            else : \n",
    "                channel_score[channel] = 0\n",
    "                channel_score[channel] += 1 if int(y[idx])==1 else  0\n",
    "                channel_num[channel] = 1\n",
    "            \n",
    "            topics = soup.find(\"footer\", {\"class\": 'article-topics'}).text.replace(\" Topics: \", \"\").split(\",\")\n",
    "            for topic in topics:\n",
    "                if topic in topic_score:\n",
    "                    topic_score[topic] += 1 if int(y[idx])==1 else  0\n",
    "                    topic_num[topic] += 1\n",
    "                else : \n",
    "                    topic_score[topic] = 0\n",
    "                    topic_score[topic] += 1 if int(y[idx])==1 else  0\n",
    "                    topic_num[topic] = 1\n",
    "\n",
    "\n",
    "            # Author\n",
    "            author_re = r'(?:By\\s|by\\s)?([a-zA-Z]+(\\s[A-Z][a-z]+)*)'\n",
    "            if soup.head.find(\"span\") == None:\n",
    "                continue\n",
    "            else:\n",
    "                author = re.search(author_re, soup.head.find(\"span\").text).group(1)\n",
    "                if author in author_score:\n",
    "                    author_score[author] += 1 if int(y[idx])==1 else  0\n",
    "                    author_num[author] += 1\n",
    "                else : \n",
    "                    author_score[author] = 0\n",
    "                    author_num[author] = 1\n",
    "                    author_score[author] += 1 if int(y[idx])==1 else  0\n",
    "            idx+=1\n",
    "        total_channel = 0\n",
    "        total_topic = 0\n",
    "        total_author = 0\n",
    "        for c,s in channel_score.items():\n",
    "            avg_channel+=s\n",
    "            total_channel+=channel_num[c]\n",
    "        avg_channel = avg_channel/total_channel\n",
    "\n",
    "        for c,s in topic_score.items():\n",
    "            avg_topic+=s\n",
    "            total_topic+=topic_num[c]\n",
    "        avg_topic = avg_topic/total_topic\n",
    "\n",
    "        for c,s in author_score.items():\n",
    "            avg_author+=s\n",
    "            total_author+=author_num[c]\n",
    "        avg_author = avg_author/total_author\n",
    "\n",
    "    for html in data:\n",
    "        soup = BeautifulSoup(html, 'html.parser')\n",
    "        feature_list = []\n",
    "        # Author score\n",
    "        author_re = r'(?:By\\s|by\\s)?([a-zA-Z]+(\\s[A-Z][a-z]+)*)'\n",
    "        if soup.head.find(\"span\") == None:\n",
    "            feature_list.append(0.5)\n",
    "        else:\n",
    "            author = re.search(author_re, soup.head.find(\"span\").text).group(1)\n",
    "            if author in author_score:\n",
    "                feature_list.append(author_score[author]/author_num[author])\n",
    "            else:\n",
    "                feature_list.append(0.5)\n",
    "        # Channel score\n",
    "        channel = soup.find(\"article\").get(\"data-channel\")\n",
    "        if channel in channel_score:\n",
    "            feature_list.append(channel_score[channel]/channel_num[channel])\n",
    "        else:\n",
    "            feature_list.append(0.5)\n",
    "            \n",
    "        # Topic score\n",
    "        topics = soup.find(\"footer\", {\"class\": 'article-topics'}).text.replace(\" Topics: \", \"\").split(\",\")\n",
    "        total_score = 0\n",
    "        order = 0 \n",
    "        order_denominator = 0\n",
    "        for i in range(len(topics)):\n",
    "            order_denominator += math.exp(-0.5*i)\n",
    "\n",
    "        for topic in topics:\n",
    "            order_coef = math.exp(-0.5*order)/order_denominator\n",
    "            if topic in topic_score:\n",
    "                total_score+=(topic_score[topic]/topic_num[topic])*order_coef\n",
    "            else:\n",
    "                total_score+=0.5*order_coef\n",
    "            order+=1\n",
    "        \n",
    "        feature_list.append(total_score) \n",
    "\n",
    "        # word count of title\n",
    "        title = soup.find(\"h1\", {\"class\": \"title\"}).text\n",
    "        feature_list.append(len(title))\n",
    "        # average word length and unique word rate\n",
    "        words = re.findall(r'\\w+', soup.get_text().lower())\n",
    "        if words:\n",
    "            total_words = len(words)\n",
    "            unique_words = set(words)\n",
    "            unique_word_count = len(unique_words)\n",
    "            total_length = sum(len(word) for word in words)\n",
    "            unique_rate = unique_word_count / total_words\n",
    "            average_length = total_length / len(words)\n",
    "            feature_list.append(unique_rate)\n",
    "            feature_list.append(average_length)\n",
    "        \n",
    "        # Time\n",
    "        if soup.time.text == None or soup.time.text == \"\":\n",
    "            feature_list.append(0)\n",
    "            feature_list.append(0)\n",
    "        else:\n",
    "            month = int(re.search(r'(\\d+-\\d+-\\d+)', soup.time.text).group(1).split(\"-\")[1])\n",
    "            feature_list.append(month)\n",
    "            hour = int(re.search(r'(\\d+:\\d+:\\d+)', soup.time.text).group(1)[:5].split(\":\")[0])\n",
    "            minute = int(re.search(r'(\\d+:\\d+:\\d+)', soup.time.text).group(1)[:5].split(\":\")[1])\n",
    "            time = (hour * 60 + minute-300)%1440\n",
    "            time_demarcation = 0\n",
    "            if(300<=time and time<=720):\n",
    "                time_demarcation = 1\n",
    "            elif(720<time and time<=960):\n",
    "                time_demarcation = 2\n",
    "            elif(960<time and time <=1440):\n",
    "                time_demarcation = 3\n",
    "            else:\n",
    "                time_demarcation = 4\n",
    "            feature_list.append(time_demarcation)\n",
    "\n",
    "        # Weekday\n",
    "        if soup.time.text == None or soup.time.text == \"\":\n",
    "            feature_list.append(0)\n",
    "        else:\n",
    "            weekday = soup.time.get(\"datetime\")[:3]\n",
    "            if(weekday == \"Mon\"):\n",
    "                feature_list.append(1)\n",
    "            elif(weekday == \"Tue\"):\n",
    "                feature_list.append(2)\n",
    "            elif(weekday == \"Wed\"):\n",
    "                feature_list.append(3)\n",
    "            elif(weekday == \"Thu\"):\n",
    "                feature_list.append(4)\n",
    "            elif(weekday == \"Fri\"):\n",
    "                feature_list.append(5)\n",
    "            elif(weekday==\"Sat\"):\n",
    "                feature_list.append(6)\n",
    "            elif(weekday==\"Sun\"):\n",
    "                feature_list.append(7)\n",
    "            else: feature_list.append(0)\n",
    "\n",
    "        # Word Count\n",
    "        text_p = (''.join(s.findAll(string=True))for s in soup.findAll('p'))\n",
    "        c_p = Counter((x.rstrip(punctuation).lower() for y in text_p for x in y.split()))\n",
    "        text_div = (''.join(s.findAll(string=True))for s in soup.findAll('div'))\n",
    "        c_div = Counter((x.rstrip(punctuation).lower() for y in text_div for x in y.split()))\n",
    "        total = c_div + c_p\n",
    "        #feature_list.append(len(list(total.elements())))\n",
    "\n",
    "        section = soup.find(\"section\", {\"class\": \"article-content\"})\n",
    "        word_cnt = len(list(total.elements()))\n",
    "        # Video + Image count\n",
    "        img_count = len(section.find_all(\"img\")) + len(section.find_all(\"picture\")) + len(section.find_all(\"figure\"))\n",
    "        video_count = len(section.find_all(\"video\")) + len(section.find_all(\"iframe\"))\n",
    "        media_count = img_count + video_count\n",
    "        feature_list.append(media_count/word_cnt)\n",
    "\n",
    "        # Appealing count\n",
    "        link_count = len(section.find_all(\"a\"))\n",
    "        strong_count = len(section.find_all(\"strong\"))\n",
    "        appealing_count = link_count + strong_count\n",
    "        feature_list.append(appealing_count/word_cnt)\n",
    "\n",
    "        # POS & NEG count\n",
    "        paragraph = section.find_all(\"p\")\n",
    "        pos_count = 0\n",
    "        neg_count = 0\n",
    "        q_count = 0\n",
    "        ex_count = 0\n",
    "        para_count = 0\n",
    "        content=\"\"\n",
    "        for tag in paragraph:\n",
    "            content+=tag.text\n",
    "            para_count += 1\n",
    "            pos_count += len(tokenizer_stem_pos(tag.text))\n",
    "            neg_count += len(tokenizer_stem_neg(tag.text))\n",
    "            if tag.text.find(\"?\") != -1:\n",
    "                q_count += tag.text.find(\"?\")\n",
    "            if tag.text.find(\"!\") != -1:\n",
    "                ex_count += tag.text.find(\"!\")\n",
    "        \n",
    "        feature_list.append(pos_count/word_cnt)    \n",
    "        feature_list.append(neg_count/word_cnt)\n",
    "        feature_list.append(q_count/word_cnt)\n",
    "        feature_list.append(ex_count/word_cnt)\n",
    "        feature_list.append(word_cnt/para_count)\n",
    "        analyzer = SentimentIntensityAnalyzer()\n",
    "        # Title sentiment analysis\n",
    "        sentiment_title = analyzer.polarity_scores(title)\n",
    "        feature_list.append(sentiment_title['compound'])\n",
    "        # Content sentiment analysis\n",
    "        sentiment_content = analyzer.polarity_scores(content)\n",
    "        feature_list.append(sentiment_content['compound'])\n",
    "        X.append(feature_list)\n",
    "    return np.array(X)"
   ]
  },
  {
   "cell_type": "code",
   "execution_count": 311,
   "metadata": {},
   "outputs": [],
   "source": [
    "from sklearn.linear_model import SGDClassifier\n",
    "from xgboost import XGBClassifier\n",
    "from sklearn.metrics import roc_auc_score\n",
    "from sklearn.preprocessing import LabelEncoder\n",
    "from sklearn.ensemble import RandomForestClassifier\n",
    "from sklearn.feature_extraction.text import TfidfVectorizer\n",
    "from sklearn.ensemble import GradientBoostingClassifier"
   ]
  },
  {
   "cell_type": "markdown",
   "metadata": {},
   "source": [
    "#### Split training data and validation data"
   ]
  },
  {
   "cell_type": "code",
   "execution_count": 312,
   "metadata": {},
   "outputs": [],
   "source": [
    "# X_train, X_valid, Y_train, Y_valid = train_test_split(X, y, test_size=.2)\n",
    "\n",
    "# x_train = feature_selection_part2(X_train, True)\n",
    "# x_valid = feature_selection_part2(X_valid, False)\n",
    "X_final = feature_selection_part2(X, True)"
   ]
  },
  {
   "cell_type": "markdown",
   "metadata": {},
   "source": [
    "#### Feature Importance"
   ]
  },
  {
   "cell_type": "code",
   "execution_count": 313,
   "metadata": {},
   "outputs": [],
   "source": [
    "# from sklearn.linear_model import Ridge\n",
    "# lasso = Ridge()\n",
    "# lasso.fit(x_train, Y_train)\n",
    "# #'author_score', 'channel_score', 'topic_score', \n",
    "# indexes = ['title word count', 'unique_rate',\n",
    "#            'average_word_length', 'month', 'time_demarcation', 'weekday', 'media_count'\n",
    "#            , 'appealing_count', 'pos_rate', 'neg_rate', 'q_rate','ex_rate', 'avg_para_word_cnt',\n",
    "#             'title_sentiment', 'content_sentiment']\n",
    "# coef = pd.Series(lasso.coef_,index=indexes)\n",
    "# print(coef.abs().sort_values(ascending = False))"
   ]
  },
  {
   "cell_type": "markdown",
   "metadata": {},
   "source": [
    "#### Voting model"
   ]
  },
  {
   "cell_type": "code",
   "execution_count": 323,
   "metadata": {},
   "outputs": [
    {
     "name": "stdout",
     "output_type": "stream",
     "text": [
      "Begin Word Training...\n",
      "Begin Evaluation...\n",
      "Stats train score: 0.6210291982607227\n"
     ]
    }
   ],
   "source": [
    "from sklearn.ensemble import VotingClassifier\n",
    "voter1 = XGBClassifier(n_estimators=500, learning_rate=0.01, max_depth=3)\n",
    "voter2 = GradientBoostingClassifier(n_estimators=200, learning_rate=0.01, max_depth=3, random_state=0)\n",
    "# voter3 = RandomForestClassifier(n_estimators=400, max_depth=8, max_features=0.5)\n",
    "#model = XGBClassifier(n_estimators=300, learning_rate=0.0006, max_depth=4)\n",
    "# model = GradientBoostingClassifier(n_estimators=200, learning_rate=0.01, max_depth=3, random_state=0)\n",
    "# model = VotingClassifier(estimators=[('1', voter1), ('2', voter2)], voting='soft')\n",
    "# model = RandomForestClassifier(n_estimators=400, max_depth=8, max_features=0.5)\n",
    "model_v1 = XGBClassifier(n_estimators=400, learning_rate=0.0025, max_depth=6)\n",
    "model_v3 = GradientBoostingClassifier(n_estimators=200, learning_rate=0.01, max_depth=3, random_state=0)\n",
    "\n",
    "model = VotingClassifier(estimators=[('v1', model_v1), ('v3', model_v3)], voting='soft')\n",
    "print('Begin Word Training...')\n",
    "#x_train = feature_selection_part2(X_train, True)\n",
    "y_train = LabelEncoder().fit_transform(y)\n",
    "#y_valid = LabelEncoder().fit_transform(Y_valid)\n",
    "voting = model.fit(X_final, y_train)\n",
    "pkl.dump(model, open(\"output/backup_model.pickle\", \"wb\"))\n",
    "\n",
    "print('Begin Evaluation...')\n",
    "y_pred_train = voting.predict_proba(X_final)[:,1]\n",
    "#y_pred_valid = voting.predict_proba(x_valid)[:,1]\n",
    "\n",
    "train_score = roc_auc_score(y_train, y_pred_train)\n",
    "#valid_score = roc_auc_score(y_valid, y_pred_valid)\n",
    "print(f'Stats train score: {train_score}')\n",
    "#print(f'Stats valid score: {valid_score}')"
   ]
  },
  {
   "cell_type": "markdown",
   "metadata": {},
   "source": [
    "### Prediction"
   ]
  },
  {
   "cell_type": "code",
   "execution_count": 315,
   "metadata": {},
   "outputs": [
    {
     "name": "stdout",
     "output_type": "stream",
     "text": [
      "Content:\n",
      " Id                                                          27643\n",
      "Page content    <html><head><div class=\"article-info\"><span cl...\n",
      "Name: 0, dtype: object\n",
      "(11847,)\n",
      "\n",
      "Id:\n",
      " 27643\n",
      "Content:\n",
      " <html><head><div class=\"article-info\"><span class=\"byline \"><a href=\"/author/sam-laird/\"><img alt=\"2016%2f09%2f15%2f63%2fhttpsd2mhye01h4nj2n.cloudfront.netmediazgkymde1lza2.9814b\" class=\"author_image\" src=\"http://i.amz.mshcdn.com/-qaMPB8aiQeIaoBhqlU0OLjA07A=/90x90/2016%2F09%2F15%2F63%2Fhttpsd2mhye01h4nj2n.cloudfront.netmediaZgkyMDE1LzA2.9814b.jpg\"/></a><span class=\"author_name\">By <a href=\"/author/sam-laird/\">Sam Laird</a></span><time datetime=\"Mon, 09 Sep 2013 19:47:02 +0000\">2013-09-09 19:47:02 UTC</time></span></div></head><body><h1 class=\"title\">Soccer Star Gets Twitter Death Threats After Tackling One Direction Member</h1><figure class=\"article-image\"></figure><article data-channel=\"entertainment\"><section class=\"article-content\"> <div class=\"shift-to-hero\"> <p><iframe allowfullscreen=\"\" frameborder=\"0\" height=\"360\" src=\"https://www.youtube.com/embed/8L0lUoJ2BCY?enablejsapi=1&amp;\" width=\"640\"></iframe></p> <script src=\"http://a.amz.mshcdn.com/assets/lib/aab-7ce243b38b9cc2caec816aff811d3153.js\" type=\"text/javascript\"></script> </div> <p>Note to humanity: One Direction fandom ain't nothin' to mess with. </p> <p>A British <a href=\"http://mashable.com/category/soccer/\">soccer</a> star learned this hard way over the weekend when the pop band's fanboys and fangirls brought a ruckus to his <a href=\"http://mashable.com/category/twitter/\">Twitter</a> feed, tweeting him a fusillade of death threats following an incidental run-in Sunday during a charity soccer match.</p> <div class=\"see-also\"><p>See also: <a href=\"http://mashable.com/2013/07/30/gq-one-direction-death-threats/\">GQ Gets Twitter Death Threats for One Direction Magazine Covers</a></p></div> <p>Gabriel Agbonlahor is the all-time leading goal-scorer for English Premier League side Aston Villa. He participated in a charity match honoring a former player now battling leukemia. Also playing: Louis Tomlinson, one-fifth of the British-Irish boy band <a href=\"http://mashable.com/category/one-direction/\">One Direction</a>. </p> <p>Tomlinson was dribbling the ball about midway through Sunday's match when the pro striker Agbonlahor swooped in to knock it away from the tiny amateur. A clean play, to be sure, but there was some incidental contact as well, causing Tomlinson to collapse on the grass like a wounded deer. Then he limped off and promptly vomited into his hand, <a href=\"http://www.youtube.com/watch?v=19AADH8tcBM\" target=\"_blank\">as shown here</a>. </p> <p>Tomlinson and Agbonlahor shared a moment as he left the field and all seemed fine on the pitch. On Twitter, however, things were just getting started: One Direction's fan base exploded in a fit of mass rage, threatening to end Agbonlahor in all sorts of unpleasant ways. To whit, here are just a few examples, with some mildly NSFW language:</p> <blockquote class=\"twitter-tweet\"> <p>WHOEVER PUSHED LOUIS DOWN I WILL FIND YOU AND PUSH YOU OFF THE GODDAMN EMPIRE STATE BUILDING!</p> <p>— J a m R e y e s™ (@ItsJamReyes) <a href=\"https://twitter.com/ItsJamReyes/statuses/376714629201674241\" target=\"_blank\">September 8, 2013</a></p> </blockquote> <blockquote class=\"twitter-tweet\"> <p>this is how Louis hurt his knee, I will find that guy, and kill him. <a href=\"https://t.co/3tbsGCT1bq\" target=\"_blank\">https://t.co/3tbsGCT1bq</a></p> <p>— PROUD OF LOUIS (@LatestOf1D) <a href=\"https://twitter.com/LatestOf1D/statuses/376715533560733696\" target=\"_blank\">September 8, 2013</a></p> </blockquote> <blockquote class=\"twitter-tweet\"> <p><a href=\"https://twitter.com/gabby_10\" target=\"_blank\">@gabby_10</a> You obviously need Jesus. WE WILL FUCKING FIND YOU AND KILL YOU.</p> <p>— morgan (@NiallUrBasicUgh) <a href=\"https://twitter.com/NiallUrBasicUgh/statuses/376756036389982208\" target=\"_blank\">September 8, 2013</a></p> </blockquote> <blockquote class=\"twitter-tweet\"> <p>fuck off you <a href=\"https://twitter.com/gabby_10\" target=\"_blank\">@gabby_10</a>, how could u touch my precious LOUIS? I WILL KILL U MUTHERFUCKER</p> <p>— Lucho García #51 (@Lois7x) <a href=\"https://twitter.com/Lois7x/statuses/376781833716760576\" target=\"_blank\">September 8, 2013</a></p> </blockquote> <p>At least one person even took things a step further, threatening indiscriminate mass murder:</p> <blockquote class=\"twitter-tweet\"> <p>If i ever see louis cry bc he's hurt or sad i will kill the entire human race by myself</p> <p>— karol(arry) (@nuttelarry) <a href=\"https://twitter.com/nuttelarry/statuses/377046130682761216\" target=\"_blank\">September 9, 2013</a></p> </blockquote> <p>This is actually just the latest incident of rabid teenyboppers attacking <a href=\"http://mashable.com/sports/\">sports</a> stars online over perceived slights against their demigod idols of auto-tuned worship, however. </p> <p>If you're scoring at home, for example, you'll recall the time not so long ago that Justin Bieber fans <a href=\"http://mashable.com/2013/05/30/justin-bieber-fans-twitter-eric-dickerson/\">unleashed a digital fury</a> upon an NFL Hall of Famer following criticism of Bieber's alleged reckless driving. But the beef goes both ways, too. Hockey fans on Twitter <a href=\"http://mashable.com/2013/07/09/justin-bieber-stabley-cup/\">flew into a collective rage</a> in July after photos surfaced of Bieber posing in quintessentially Bieber-like fashion with the Stanley Cup. </p> <p><strong><div class=\"bonus-content\">BONUS: <a href=\"http://mashable.com/2013/08/04/one-direction-bullying-office-depot-school-supplies/\">One Direction and Directioners Fuse Online Powers to Battle Bullying</a> </div></strong></p> <section class=\"gallery\" data-display-mode=\"gallery\" data-id=\"11859\" data-slide-title-pos=\"\" data-slug=\"one-directions-anti-bullying-campaign-with-office-depot\"> <header> <h1>One Direction's Anti-Bullying Campaign With Office Depot</h1> </header> <ol class=\"slides\"> <li class=\"slide\" data-content-source=\"Gallery - Video - Youtube\" data-id=\"522e25c6b589e40ced00048d\" data-skip-rerender=\"false\" data-thumb=\"http://i.amz.mshcdn.com/Un3ZihG1VmZWnvs-VprxzwDgFOI=/180x140/http%3A%2F%2Fmashable.com%2Fwp-content%2Fgallery%2Fone-directions-anti-bullying-campaign-with-office-depot%2F0Fr6eIUoB6I.jpg\"> <figure> <div class=\"aspect-16x9\"><iframe allowfullscreen=\"\" class=\"dnr\" frameborder=\"0\" src=\"http://www.youtube.com/embed/0Fr6eIUoB6I\"></iframe></div> </figure> <div class=\"meta\"> <h2 class=\"title\">1. 1D + OD Together Against Bullying </h2> <div class=\"caption\"></div> <div class=\"credit\"> Video: YouTube, <a href=\"http://www.youtube.com/channel/UCt8Iul9mAsdowXx_xrVNVbA\" target=\"_blank\">OfficialOfficeDepot</a> </div> </div> </li> <li class=\"slide\" data-content-source=\"Gallery - Video - Youtube\" data-id=\"522e25c6b589e40ced00048e\" data-skip-rerender=\"false\" data-thumb=\"http://i.amz.mshcdn.com/oOrgEGOY7kCyASO2sJEuiJmcH4Y=/180x140/http%3A%2F%2Fmashable.com%2Fwp-content%2Fgallery%2Fone-directions-anti-bullying-campaign-with-office-depot%2F2RuwAne1GRk.jpg\"> <figure> <div class=\"aspect-16x9\"><iframe allowfullscreen=\"\" class=\"dnr\" frameborder=\"0\" src=\"http://www.youtube.com/embed/2RuwAne1GRk\"></iframe></div> </figure> <div class=\"meta\"> <h2 class=\"title\">2. Harry Against Bullying </h2> <div class=\"caption\"></div> <div class=\"credit\"> Video: YouTube, <a href=\"http://www.youtube.com/channel/UCt8Iul9mAsdowXx_xrVNVbA\" target=\"_blank\">OfficialOfficeDepot</a> </div> </div> </li> <li class=\"slide\" data-content-source=\"Gallery - Video - Youtube\" data-id=\"522e25c6b589e40ced00048f\" data-skip-rerender=\"false\" data-thumb=\"http://i.amz.mshcdn.com/slMRLhuwNWBmi2WUWOsoChIkbT4=/180x140/http%3A%2F%2Fmashable.com%2Fwp-content%2Fgallery%2Fone-directions-anti-bullying-campaign-with-office-depot%2FIVQeItw5NHQ.jpg\"> <figure> <div class=\"aspect-16x9\"><iframe allowfullscreen=\"\" class=\"dnr\" frameborder=\"0\" src=\"http://www.youtube.com/embed/IVQeItw5NHQ\"></iframe></div> </figure> <div class=\"meta\"> <h2 class=\"title\">3. Zayn Against Bullying </h2> <div class=\"caption\"></div> <div class=\"credit\"> Video: YouTube, <a href=\"http://www.youtube.com/channel/UCt8Iul9mAsdowXx_xrVNVbA\" target=\"_blank\">OfficialOfficeDepot</a> </div> </div> </li> <li class=\"slide\" data-content-source=\"Gallery - Video - Youtube\" data-id=\"522e25c6b589e40ced000490\" data-skip-rerender=\"false\" data-thumb=\"http://i.amz.mshcdn.com/eVdXXGFMQcb8Dd0CZ95pp3etjs4=/180x140/http%3A%2F%2Fmashable.com%2Fwp-content%2Fgallery%2Fone-directions-anti-bullying-campaign-with-office-depot%2FL6Wdbq6frxY.jpg\"> <figure> <div class=\"aspect-16x9\"><iframe allowfullscreen=\"\" class=\"dnr\" frameborder=\"0\" src=\"http://www.youtube.com/embed/L6Wdbq6frxY\"></iframe></div> </figure> <div class=\"meta\"> <h2 class=\"title\">4. Niall Against Bullying </h2> <div class=\"caption\"></div> <div class=\"credit\"> Video: YouTube, <a href=\"http://www.youtube.com/channel/UCt8Iul9mAsdowXx_xrVNVbA\" target=\"_blank\">OfficialOfficeDepot</a> </div> </div> </li> <li class=\"slide\" data-content-source=\"Gallery - Video - Youtube\" data-id=\"522e25c6b589e40ced000491\" data-skip-rerender=\"false\" data-thumb=\"http://i.amz.mshcdn.com/-IEKxbwTTehrbTiUHsXA4gv3L4c=/180x140/http%3A%2F%2Fmashable.com%2Fwp-content%2Fgallery%2Fone-directions-anti-bullying-campaign-with-office-depot%2F6mvTafur08w.jpg\"> <figure> <div class=\"aspect-16x9\"><iframe allowfullscreen=\"\" class=\"dnr\" frameborder=\"0\" src=\"http://www.youtube.com/embed/6mvTafur08w\"></iframe></div> </figure> <div class=\"meta\"> <h2 class=\"title\">5. Louis Against Bullying </h2> <div class=\"caption\"></div> <div class=\"credit\"> Video: YouTube, <a href=\"http://www.youtube.com/channel/UCt8Iul9mAsdowXx_xrVNVbA\" target=\"_blank\">OfficialOfficeDepot</a> </div> </div> </li> <li class=\"slide\" data-content-source=\"Gallery - Video - Youtube\" data-id=\"522e25c6b589e40ced000492\" data-skip-rerender=\"false\" data-thumb=\"http://i.amz.mshcdn.com/U0yZuGwxU2fTisly0txtcIBENkg=/180x140/http%3A%2F%2Fmashable.com%2Fwp-content%2Fgallery%2Fone-directions-anti-bullying-campaign-with-office-depot%2FUlg966fRbJQ.jpg\"> <figure> <div class=\"aspect-16x9\"><iframe allowfullscreen=\"\" class=\"dnr\" frameborder=\"0\" src=\"http://www.youtube.com/embed/Ulg966fRbJQ\"></iframe></div> </figure> <div class=\"meta\"> <h2 class=\"title\">6. Liam Against Bullying </h2> <div class=\"caption\"></div> <div class=\"credit\"> Video: YouTube, <a href=\"http://www.youtube.com/channel/UCt8Iul9mAsdowXx_xrVNVbA\" target=\"_blank\">OfficialOfficeDepot</a> </div> </div> </li> </ol> </section> <p><em>Image: Ian Gavan/Getty Images for Sony Pictures</em></p> <script>      window._msla=window.loadScriptAsync||function(src,id){if(document.getElementById(id))return;var js=document.createElement('script');js.id=id;js.src=src;document.getElementsByTagName('script')[0].parentNode.insertBefore(js,fjs);}; _msla(\"//platform.twitter.com/widgets.js\",\"twitter_jssdk\");</script> </section></article><footer class=\"article-topics\"> Topics: <a href=\"/category/entertainment/\">Entertainment</a>, <a href=\"/category/music/\">Music</a>, <a href=\"/category/one-direction/\">One Direction</a>, <a href=\"/category/soccer/\">soccer</a>, <a href=\"/category/sports/\">Sports</a> </footer></body></html>\n"
     ]
    }
   ],
   "source": [
    "df = pd.read_csv('./datasets/test.csv')\n",
    "print(\"Content:\\n\",df.loc[0])\n",
    "\n",
    "Id = df.loc[:, 'Id'].to_numpy()\n",
    "X_test = df.loc[:, 'Page content'].to_numpy()\n",
    "print(X_test.shape)\n",
    "print(\"\\nId:\\n\", Id[0])\n",
    "print(\"Content:\\n\", X_test[0])"
   ]
  },
  {
   "cell_type": "code",
   "execution_count": 316,
   "metadata": {},
   "outputs": [],
   "source": [
    "x_test_stats = feature_selection_part2(X_test, False)"
   ]
  },
  {
   "cell_type": "code",
   "execution_count": 324,
   "metadata": {},
   "outputs": [],
   "source": [
    "pred_model = pkl.load(open(\"output/backup_model.pickle\", \"rb\"))\n",
    "\n",
    "y_pred_stats_test = voting.predict_proba(x_test_stats)[:,1]\n",
    "y_pred = np.around(y_pred_stats_test, decimals=3)"
   ]
  },
  {
   "cell_type": "code",
   "execution_count": 325,
   "metadata": {},
   "outputs": [
    {
     "data": {
      "image/png": "[encoded data removed]",
      "text/plain": [
       "<Figure size 640x480 with 1 Axes>"
      ]
     },
     "metadata": {},
     "output_type": "display_data"
    }
   ],
   "source": [
    "import matplotlib.pyplot as plt\n",
    "plt.plot(y_pred)\n",
    "plt.show()"
   ]
  },
  {
   "cell_type": "code",
   "execution_count": 326,
   "metadata": {},
   "outputs": [
    {
     "name": "stdout",
     "output_type": "stream",
     "text": [
      "          Id  Popularity\n",
      "0      27643       0.446\n",
      "1      27644       0.444\n",
      "2      27645       0.447\n",
      "3      27646       0.508\n",
      "4      27647       0.512\n",
      "...      ...         ...\n",
      "11842  39485       0.692\n",
      "11843  39486       0.537\n",
      "11844  39487       0.508\n",
      "11845  39488       0.419\n",
      "11846  39489       0.434\n",
      "\n",
      "[11847 rows x 2 columns]\n"
     ]
    }
   ],
   "source": [
    "output_data = {'Id': Id, 'Popularity': y_pred}\n",
    "output_dataframe = pd.DataFrame(output_data)\n",
    "print(output_dataframe)\n",
    "\n",
    "output_dataframe.to_csv(\"./datasets/y_pred.csv\", index=None)"
   ]
  },
  {
   "cell_type": "markdown",
   "metadata": {},
   "source": [
    "### Report\n",
    "* select more features, like author score, topic score and calculate kinds of rate like unique word rate.\n",
    "* Use Ridge to search feature importance and delete less useful features.\n",
    "* Try to use 4 single model and combine them to predict. However, the outcome is not good, I think this is because features are not idependent."
   ]
  }
 ],
 "metadata": {
  "kernelspec": {
   "display_name": "DeepLearning",
   "language": "python",
   "name": "python3"
  },
  "language_info": {
   "codemirror_mode": {
    "name": "ipython",
    "version": 3
   },
   "file_extension": ".py",
   "mimetype": "text/x-python",
   "name": "python",
   "nbconvert_exporter": "python",
   "pygments_lexer": "ipython3",
   "version": "3.11.5"
  }
 },
 "nbformat": 4,
 "nbformat_minor": 2
}

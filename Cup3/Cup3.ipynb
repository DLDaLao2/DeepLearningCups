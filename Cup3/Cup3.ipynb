{
 "cells": [
  {
   "cell_type": "code",
   "execution_count": 1,
   "metadata": {},
   "outputs": [],
   "source": [
    "from __future__ import absolute_import, division, print_function, unicode_literals\n",
    "import tensorflow as tf\n",
    "from tensorflow import keras\n",
    "from keras import layers\n",
    "import os\n",
    "os.environ['TF_CPP_MIN_LOG_LEVEL'] = '2' \n",
    "import string\n",
    "import matplotlib.pyplot as plt\n",
    "import numpy as np\n",
    "import pandas as pd\n",
    "import PIL\n",
    "import random\n",
    "import time\n",
    "from pathlib import Path\n",
    "\n",
    "import re\n",
    "from IPython import display"
   ]
  },
  {
   "cell_type": "code",
   "execution_count": 2,
   "metadata": {},
   "outputs": [
    {
     "name": "stdout",
     "output_type": "stream",
     "text": [
      "1 Physical GPUs, 1 Logical GPUs\n"
     ]
    }
   ],
   "source": [
    "gpus = tf.config.experimental.list_physical_devices('GPU')\n",
    "if gpus:\n",
    "    try:\n",
    "        # Restrict TensorFlow to only use the first GPU\n",
    "        tf.config.experimental.set_visible_devices(gpus[0], 'GPU')\n",
    "\n",
    "        # Currently, memory growth needs to be the same across GPUs\n",
    "        for gpu in gpus:\n",
    "            tf.config.experimental.set_memory_growth(gpu, True)\n",
    "        logical_gpus = tf.config.experimental.list_logical_devices('GPU')\n",
    "        print(len(gpus), \"Physical GPUs,\", len(logical_gpus), \"Logical GPUs\")\n",
    "    except RuntimeError as e:\n",
    "        # Memory growth must be set before GPUs have been initialized\n",
    "        print(e)"
   ]
  },
  {
   "cell_type": "markdown",
   "metadata": {},
   "source": [
    "### Preprocess Text"
   ]
  },
  {
   "cell_type": "code",
   "execution_count": 3,
   "metadata": {},
   "outputs": [
    {
     "name": "stdout",
     "output_type": "stream",
     "text": [
      "there are 5427 vocabularies in total\n",
      "Word to id mapping, for example: flower -> 1\n",
      "Id to word mapping, for example: 1 -> flower\n",
      "Tokens: <PAD>: 5427; <RARE>: 5428\n"
     ]
    }
   ],
   "source": [
    "dictionary_path = './dictionary'\n",
    "vocab = np.load(dictionary_path + '/vocab.npy')\n",
    "print('there are {} vocabularies in total'.format(len(vocab)))\n",
    "\n",
    "word2Id_dict = dict(np.load(dictionary_path + '/word2Id.npy'))\n",
    "id2word_dict = dict(np.load(dictionary_path + '/id2Word.npy'))\n",
    "print('Word to id mapping, for example: %s -> %s' % ('flower', word2Id_dict['flower']))\n",
    "print('Id to word mapping, for example: %s -> %s' % ('1', id2word_dict['1']))\n",
    "print('Tokens: <PAD>: %s; <RARE>: %s' % (word2Id_dict['<PAD>'], word2Id_dict['<RARE>']))"
   ]
  },
  {
   "cell_type": "code",
   "execution_count": 4,
   "metadata": {},
   "outputs": [
    {
     "name": "stdout",
     "output_type": "stream",
     "text": [
      "the flower shown has yellow anther red pistil and bright red petals.\n",
      "['9', '1', '82', '5', '11', '70', '20', '31', '3', '29', '20', '2', '5427', '5427', '5427', '5427', '5427', '5427', '5427', '5427']\n"
     ]
    }
   ],
   "source": [
    "def sent2IdList(line, MAX_SEQ_LENGTH=20):\n",
    "    MAX_SEQ_LIMIT = MAX_SEQ_LENGTH\n",
    "    padding = 0\n",
    "    \n",
    "    # data preprocessing, remove all puntuation in the texts\n",
    "    prep_line = re.sub('[%s]' % re.escape(string.punctuation), ' ', line.rstrip())\n",
    "    prep_line = prep_line.replace('-', ' ')\n",
    "    # prep_line = prep_line.replace('-', ' ') # TODO: origin line\n",
    "    prep_line = prep_line.replace('_', ' ')\n",
    "    prep_line = prep_line.replace('  ', ' ')\n",
    "    prep_line = prep_line.replace('.', '')\n",
    "    # transfrom string to char sequence\n",
    "    tokens = prep_line.split(' ')\n",
    "    tokens = [\n",
    "        tokens[i] for i in range(len(tokens))\n",
    "        if tokens[i] != ' ' and tokens[i] != ''\n",
    "    ]\n",
    "    l = len(tokens)\n",
    "    padding = MAX_SEQ_LIMIT - l\n",
    "    \n",
    "    # make sure length of each text is equal to MAX_SEQ_LENGTH, and replace the less common word with <RARE> token\n",
    "    for i in range(padding):\n",
    "        tokens.append('<PAD>')\n",
    "    # transform char sequence to id sequence\n",
    "    line = [\n",
    "        word2Id_dict[tokens[k]]\n",
    "        if tokens[k] in word2Id_dict else word2Id_dict['<RARE>']\n",
    "        for k in range(len(tokens))\n",
    "    ]\n",
    "\n",
    "    return line\n",
    "\n",
    "text = \"the flower shown has yellow anther red pistil and bright red petals.\"\n",
    "print(text)\n",
    "print(sent2IdList(text))"
   ]
  },
  {
   "cell_type": "markdown",
   "metadata": {},
   "source": [
    "### Dataset"
   ]
  },
  {
   "cell_type": "code",
   "execution_count": 5,
   "metadata": {},
   "outputs": [
    {
     "name": "stdout",
     "output_type": "stream",
     "text": [
      "There are 7370 image in training data\n"
     ]
    }
   ],
   "source": [
    "data_path = './datasets/'\n",
    "df = pd.read_pickle(data_path + '/text2ImgData.pkl')\n",
    "num_training_sample = len(df)\n",
    "n_images_train = num_training_sample\n",
    "print('There are %d image in training data' % (n_images_train))"
   ]
  },
  {
   "cell_type": "code",
   "execution_count": 6,
   "metadata": {},
   "outputs": [
    {
     "data": {
      "text/html": [
       "<div>\n",
       "<style scoped>\n",
       "    .dataframe tbody tr th:only-of-type {\n",
       "        vertical-align: middle;\n",
       "    }\n",
       "\n",
       "    .dataframe tbody tr th {\n",
       "        vertical-align: top;\n",
       "    }\n",
       "\n",
       "    .dataframe thead th {\n",
       "        text-align: right;\n",
       "    }\n",
       "</style>\n",
       "<table border=\"1\" class=\"dataframe\">\n",
       "  <thead>\n",
       "    <tr style=\"text-align: right;\">\n",
       "      <th></th>\n",
       "      <th>Captions</th>\n",
       "      <th>ImagePath</th>\n",
       "    </tr>\n",
       "    <tr>\n",
       "      <th>ID</th>\n",
       "      <th></th>\n",
       "      <th></th>\n",
       "    </tr>\n",
       "  </thead>\n",
       "  <tbody>\n",
       "    <tr>\n",
       "      <th>6734</th>\n",
       "      <td>[[9, 2, 17, 9, 1, 6, 14, 13, 18, 3, 41, 8, 11,...</td>\n",
       "      <td>./102flowers/image_06734.jpg</td>\n",
       "    </tr>\n",
       "    <tr>\n",
       "      <th>6736</th>\n",
       "      <td>[[4, 1, 5, 12, 2, 3, 11, 31, 28, 68, 106, 132,...</td>\n",
       "      <td>./102flowers/image_06736.jpg</td>\n",
       "    </tr>\n",
       "    <tr>\n",
       "      <th>6737</th>\n",
       "      <td>[[9, 2, 27, 4, 1, 6, 14, 7, 12, 19, 5427, 5427...</td>\n",
       "      <td>./102flowers/image_06737.jpg</td>\n",
       "    </tr>\n",
       "    <tr>\n",
       "      <th>6738</th>\n",
       "      <td>[[9, 1, 5, 8, 54, 16, 38, 7, 12, 116, 325, 3, ...</td>\n",
       "      <td>./102flowers/image_06738.jpg</td>\n",
       "    </tr>\n",
       "    <tr>\n",
       "      <th>6739</th>\n",
       "      <td>[[4, 12, 1, 5, 29, 11, 19, 7, 26, 70, 5427, 54...</td>\n",
       "      <td>./102flowers/image_06739.jpg</td>\n",
       "    </tr>\n",
       "  </tbody>\n",
       "</table>\n",
       "</div>"
      ],
      "text/plain": [
       "                                               Captions  \\\n",
       "ID                                                        \n",
       "6734  [[9, 2, 17, 9, 1, 6, 14, 13, 18, 3, 41, 8, 11,...   \n",
       "6736  [[4, 1, 5, 12, 2, 3, 11, 31, 28, 68, 106, 132,...   \n",
       "6737  [[9, 2, 27, 4, 1, 6, 14, 7, 12, 19, 5427, 5427...   \n",
       "6738  [[9, 1, 5, 8, 54, 16, 38, 7, 12, 116, 325, 3, ...   \n",
       "6739  [[4, 12, 1, 5, 29, 11, 19, 7, 26, 70, 5427, 54...   \n",
       "\n",
       "                         ImagePath  \n",
       "ID                                  \n",
       "6734  ./102flowers/image_06734.jpg  \n",
       "6736  ./102flowers/image_06736.jpg  \n",
       "6737  ./102flowers/image_06737.jpg  \n",
       "6738  ./102flowers/image_06738.jpg  \n",
       "6739  ./102flowers/image_06739.jpg  "
      ]
     },
     "execution_count": 6,
     "metadata": {},
     "output_type": "execute_result"
    }
   ],
   "source": [
    "df.head(5)"
   ]
  },
  {
   "cell_type": "code",
   "execution_count": 7,
   "metadata": {},
   "outputs": [],
   "source": [
    "def idList2Text(idList):\n",
    "    text = \"\"\n",
    "    for id in idList:\n",
    "        if(id == \"5427\"): break\n",
    "        elif(id == \"5428\"): text += \"[UNK] \"\n",
    "        else: text += id2word_dict[id] + ' '\n",
    "    return text.strip()"
   ]
  },
  {
   "cell_type": "code",
   "execution_count": 8,
   "metadata": {},
   "outputs": [
    {
     "name": "stderr",
     "output_type": "stream",
     "text": [
      "c:\\Users\\user\\anaconda3\\envs\\tensorflow_gpu\\lib\\site-packages\\tqdm\\auto.py:21: TqdmWarning: IProgress not found. Please update jupyter and ipywidgets. See https://ipywidgets.readthedocs.io/en/stable/user_install.html\n",
      "  from .autonotebook import tqdm as notebook_tqdm\n"
     ]
    },
    {
     "name": "stdout",
     "output_type": "stream",
     "text": [
      "Original Text: the flower shown has yellow anther red pistil and bright red petals [UNK]\n",
      "Tokenized IDs: [101, 1996, 6546, 3491, 2038, 3756, 14405, 5886, 2417, 14255, 16643, 2140, 1998, 4408, 2417, 15829, 100, 102]\n",
      "Token length: 18\n",
      "Decoded Tokens: [CLS] the flower shown has yellow anther red pistil and bright red petals [UNK] [SEP]\n"
     ]
    }
   ],
   "source": [
    "from transformers import BertTokenizer\n",
    "\n",
    "tokenizer = BertTokenizer.from_pretrained('bert-base-uncased')\n",
    "\n",
    "text = idList2Text(['9', '1', '82', '5', '11', '70', '20', '31', '3', '29', '20', '2', '5428', '5427', '5427', '5427', '5427', '5427', '5427', '5427'])\n",
    "tokens = tokenizer.encode(text, add_special_tokens=True, padding='longest')\n",
    "\n",
    "print(\"Original Text:\", text)\n",
    "print(\"Tokenized IDs:\", tokens)\n",
    "print(\"Token length:\", len(tokens))\n",
    "print(\"Decoded Tokens:\", tokenizer.decode(tokens))"
   ]
  },
  {
   "cell_type": "markdown",
   "metadata": {},
   "source": [
    "### Dataset API"
   ]
  },
  {
   "cell_type": "code",
   "execution_count": 9,
   "metadata": {},
   "outputs": [],
   "source": [
    "# in this competition, you have to generate image in size 64x64x3\n",
    "IMAGE_HEIGHT = 64\n",
    "IMAGE_WIDTH = 64\n",
    "IMAGE_CHANNEL = 3\n",
    "\n",
    "def training_data_generator(caption, image_path):\n",
    "    # load in the image according to image path\n",
    "    img = tf.io.read_file(image_path)\n",
    "    img = tf.image.decode_image(img, channels=3)\n",
    "    img = tf.image.convert_image_dtype(img, tf.float32)\n",
    "    img.set_shape([None, None, 3])\n",
    "    img = tf.image.resize(img, size=[IMAGE_HEIGHT, IMAGE_WIDTH])\n",
    "    img.set_shape([IMAGE_HEIGHT, IMAGE_WIDTH, IMAGE_CHANNEL])\n",
    "    #TODO: data augmentation and normalize value to [-1, 1]\n",
    "    img = (img * 2) - 1\n",
    "    img = tf.image.random_flip_left_right(img)\n",
    "    img = tf.image.random_brightness(img, max_delta=0.2)\n",
    "    img = tf.image.random_contrast(img, lower=0.8, upper=1.2)\n",
    "    img = tf.image.random_saturation(img, lower=0.8, upper=1.2)\n",
    "    # img = tf.image.random_hue(img, max_delta=0.2)    \n",
    "    \n",
    "    return img, caption\n",
    "\n",
    "def dataset_generator(filenames, batch_size, data_generator):\n",
    "    df = pd.read_pickle(filenames)\n",
    "\n",
    "    captions = df['Captions'].values\n",
    "    image_path = df['ImagePath'].values\n",
    "    textCaptionList = []\n",
    "    # imagePathList = []\n",
    "\n",
    "    # TODO: only choose one of descriptions to train, total descriptions is 70504\n",
    "    for i in range(len(captions)):\n",
    "        # for j in range(len(captions[i])):\n",
    "        #     textCaptionList.append(idList2Text(captions[i][j]))\n",
    "        #     imagePathList.append(imagePaths[i])\n",
    "        textCaptionList.append(idList2Text(random.choice(captions[i])))\n",
    "\n",
    "    # imagePathList = np.asarray(imagePathList)\n",
    "\n",
    "    captionList = [tokenizer.encode(text, add_special_tokens=True) for text in textCaptionList]\n",
    "    max_token_length = max(len(tokens) for tokens in captionList)\n",
    "    paddedCaptionList = tf.keras.preprocessing.sequence.pad_sequences(captionList, padding='post', maxlen=max_token_length)\n",
    "    paddedCaptionList = np.asarray(paddedCaptionList).astype(int)\n",
    "\n",
    "    # check whether padded caption has same length\n",
    "    for pad_caption in paddedCaptionList:\n",
    "        if(len(pad_caption) != max_token_length): print(len(pad_caption))\n",
    "        \n",
    "    print(f\"Dataset size: {len(paddedCaptionList)}, Caption Length: {len(paddedCaptionList[0])}\")\n",
    "    # assume that each row of `features` corresponds to the same row as `labels`.\n",
    "    assert len(paddedCaptionList) == len(image_path)\n",
    "    assert paddedCaptionList.dtype == int\n",
    "\n",
    "    dataset = tf.data.Dataset.from_tensor_slices((paddedCaptionList, image_path))\n",
    "    dataset = dataset.map(data_generator, num_parallel_calls=tf.data.experimental.AUTOTUNE)\n",
    "    dataset = dataset.shuffle(len(paddedCaptionList)).batch(batch_size, drop_remainder=True)\n",
    "    dataset = dataset.prefetch(buffer_size=tf.data.experimental.AUTOTUNE)\n",
    "\n",
    "    return dataset"
   ]
  },
  {
   "cell_type": "code",
   "execution_count": 10,
   "metadata": {},
   "outputs": [],
   "source": [
    "# # in this competition, you have to generate image in size 64x64x3\n",
    "# IMAGE_HEIGHT = 64\n",
    "# IMAGE_WIDTH = 64\n",
    "# IMAGE_CHANNEL = 3\n",
    "\n",
    "# def training_data_generator(caption, image_path):\n",
    "#     # load in the image according to image path\n",
    "#     img = tf.io.read_file(image_path)\n",
    "#     img = tf.image.decode_image(img, channels=3)\n",
    "#     img = tf.image.convert_image_dtype(img, tf.float32)\n",
    "#     img.set_shape([None, None, 3])\n",
    "#     img = tf.image.resize(img, size=[IMAGE_HEIGHT, IMAGE_WIDTH])\n",
    "#     img.set_shape([IMAGE_HEIGHT, IMAGE_WIDTH, IMAGE_CHANNEL])\n",
    "#     #TODO: data augmentation and normalize value to [-1, 1]\n",
    "#     # img = (img / 255.0) * 2 - 1\n",
    "    \n",
    "#     caption = tf.cast(caption, tf.int32)\n",
    "    \n",
    "\n",
    "#     return img, caption\n",
    "\n",
    "# def dataset_generator(filenames, batch_size, data_generator):\n",
    "#     # load the training data into two NumPy arrays\n",
    "#     df = pd.read_pickle(filenames)\n",
    "#     captions = df['Captions'].values\n",
    "#     image_path = df['ImagePath'].values\n",
    "#     caption = []\n",
    "#     # image_path = []\n",
    "#     # each image has 1 to 10 corresponding captions\n",
    "#     # we choose one of them randomly for training\n",
    "#     for i in range(len(captions)):\n",
    "#         # for j in range(len(captions[i])):\n",
    "#         #     caption.append(captions[i][j])\n",
    "#         #     image_path.append(imagePaths[i])\n",
    "#         caption.append(random.choice(captions[i]))\n",
    "        \n",
    "#     caption = np.asarray(caption)\n",
    "#     caption = caption.astype(int)\n",
    "#     # image_path = np.asarray(image_path)\n",
    "    \n",
    "#     # assume that each row of `features` corresponds to the same row as `labels`.\n",
    "#     print(len(caption), len(image_path))\n",
    "#     assert caption.shape[0] == image_path.shape[0]\n",
    "    \n",
    "#     dataset = tf.data.Dataset.from_tensor_slices((caption, image_path))\n",
    "#     dataset = dataset.map(data_generator, num_parallel_calls=tf.data.experimental.AUTOTUNE)\n",
    "#     dataset = dataset.shuffle(len(caption)).batch(batch_size, drop_remainder=True)\n",
    "#     dataset = dataset.prefetch(buffer_size=tf.data.experimental.AUTOTUNE)\n",
    "\n",
    "#     return dataset"
   ]
  },
  {
   "cell_type": "code",
   "execution_count": 11,
   "metadata": {},
   "outputs": [],
   "source": [
    "hparas = {\n",
    "    'MAX_SEQ_LENGTH': 20,                     # maximum sequence length\n",
    "    'EMBED_DIM': 256,                         # word embedding dimension\n",
    "    'VOCAB_SIZE': len(word2Id_dict),          # size of dictionary of captions\n",
    "    'RNN_HIDDEN_SIZE': 128,                   # number of RNN neurons\n",
    "    'Z_DIM': 512,                             # random noise z dimension\n",
    "    'DENSE_DIM': 256,                         # number of neurons in dense layer\n",
    "    'IMAGE_SIZE': [64, 64, 3],                # render image size\n",
    "    'BATCH_SIZE': 64,\n",
    "    'LR': 2e-4,                               # TODO: origin LR is 1e-4\n",
    "    'LR_DECAY': 0.5,\n",
    "    'BETA_1': 0.5,\n",
    "    'N_EPOCH': 300,\n",
    "    'N_SAMPLE': num_training_sample,          # size of training data\n",
    "    'CHECKPOINTS_DIR': './checkpoints/demo',  # checkpoint path\n",
    "    'PRINT_FREQ': 10,                         # printing frequency of loss\n",
    "    'CRITIC': 5                               # the number of iterations of the critic per generator iteration\n",
    "}"
   ]
  },
  {
   "cell_type": "code",
   "execution_count": 12,
   "metadata": {},
   "outputs": [
    {
     "name": "stdout",
     "output_type": "stream",
     "text": [
      "Dataset size: 7370, Caption Length: 28\n"
     ]
    }
   ],
   "source": [
    "dataset = dataset_generator(data_path + '/text2ImgData.pkl', hparas['BATCH_SIZE'], training_data_generator)"
   ]
  },
  {
   "cell_type": "code",
   "execution_count": 13,
   "metadata": {},
   "outputs": [
    {
     "name": "stdout",
     "output_type": "stream",
     "text": [
      "tf.Tensor(\n",
      "[  101  1996 17454 12380 15829  2024  4714  1998 21766 28579  1998  1996\n",
      "  2358 27245  2024  4857  1998  3756   102     0     0     0     0     0\n",
      "     0     0     0     0], shape=(28,), dtype=int32)\n",
      "[CLS] the magenta petals are tiny and ruffled and the stamen are thin and yellow [SEP] [PAD] [PAD] [PAD] [PAD] [PAD] [PAD] [PAD] [PAD] [PAD]\n"
     ]
    },
    {
     "data": {
      "image/png": "[encoded data removed]",
      "text/plain": [
       "<Figure size 640x480 with 1 Axes>"
      ]
     },
     "metadata": {},
     "output_type": "display_data"
    },
    {
     "name": "stdout",
     "output_type": "stream",
     "text": [
      "tf.Tensor(\n",
      "[  101  1996  6546  2038  5396  2422 19286  2278 15829  2007 20920  9607\n",
      "  3564  2006  1037  2200  2601  2665 21877 24598  2140   102     0     0\n",
      "     0     0     0     0], shape=(28,), dtype=int32)\n",
      "[CLS] the flower has medium light lilac petals with lavender veins sitting on a very dark green pedicel [SEP] [PAD] [PAD] [PAD] [PAD] [PAD] [PAD]\n"
     ]
    },
    {
     "data": {
      "image/png": "[encoded data removed]",
      "text/plain": [
       "<Figure size 640x480 with 1 Axes>"
      ]
     },
     "metadata": {},
     "output_type": "display_data"
    },
    {
     "name": "stdout",
     "output_type": "stream",
     "text": [
      "tf.Tensor(\n",
      "[  101  2023  6546  2038  3358  5044 15829  2007 23098  7926  1998  1037\n",
      "  5418  1997  2312 24665  8447  3436  2630  1998  2317 11867 10994  8376\n",
      "   102     0     0     0], shape=(28,), dtype=int32)\n",
      "[CLS] this flower has wing shaped petals with wavy edges and a pattern of large gradating blue and white splotches [SEP] [PAD] [PAD] [PAD]\n"
     ]
    },
    {
     "data": {
      "image/png": "[encoded data removed]",
      "text/plain": [
       "<Figure size 640x480 with 1 Axes>"
      ]
     },
     "metadata": {},
     "output_type": "display_data"
    },
    {
     "name": "stdout",
     "output_type": "stream",
     "text": [
      "tf.Tensor(\n",
      "[  101  2023  6546  2003  2417  1998  2304  1999  3609  1998  2038 15829\n",
      "  2008  2024  9242  5044  1998 21323   102     0     0     0     0     0\n",
      "     0     0     0     0], shape=(28,), dtype=int32)\n",
      "[CLS] this flower is red and black in color and has petals that are oval shaped and layered [SEP] [PAD] [PAD] [PAD] [PAD] [PAD] [PAD] [PAD] [PAD] [PAD]\n"
     ]
    },
    {
     "data": {
      "image/png": "[encoded data removed]",
      "text/plain": [
       "<Figure size 640x480 with 1 Axes>"
      ]
     },
     "metadata": {},
     "output_type": "display_data"
    },
    {
     "name": "stdout",
     "output_type": "stream",
     "text": [
      "10.669498920440674\n"
     ]
    }
   ],
   "source": [
    "# Check result\n",
    "import time\n",
    "count = 0\n",
    "start_time = time.time()\n",
    "for idx, (image_batch, caption_batch) in enumerate(dataset):\n",
    "    for image, caption in zip(image_batch, caption_batch):\n",
    "        # print(caption.numpy().decode('utf-8'))\n",
    "        print(caption)\n",
    "        print(tokenizer.decode(caption))\n",
    "        image = np.clip(image.numpy(), 0, 1)\n",
    "        plt.imshow(image)\n",
    "        plt.axis('off')\n",
    "        plt.show()\n",
    "        count += 1\n",
    "        break\n",
    "    if(count == 4): break\n",
    "end_time = time.time()\n",
    "print(end_time - start_time)"
   ]
  },
  {
   "cell_type": "markdown",
   "metadata": {},
   "source": [
    "### Text Encoder"
   ]
  },
  {
   "cell_type": "code",
   "execution_count": 14,
   "metadata": {},
   "outputs": [],
   "source": [
    "# class TextEncoder(tf.keras.Model):\n",
    "#     \"\"\"\n",
    "#     Encode text (a caption) into hidden representation\n",
    "#     input: text, which is a list of ids\n",
    "#     output: embedding, or hidden representation of input text in dimension of RNN_HIDDEN_SIZE\n",
    "#     \"\"\"\n",
    "#     def __init__(self, hparas):\n",
    "#         super(TextEncoder, self).__init__()\n",
    "#         self.hparas = hparas\n",
    "#         self.batch_size = self.hparas['BATCH_SIZE']\n",
    "        \n",
    "#         # embedding with tensorflow API\n",
    "#         self.embedding = layers.Embedding(self.hparas['VOCAB_SIZE'], self.hparas['EMBED_DIM'])\n",
    "#         # RNN, here we use GRU cell, another common RNN cell similar to LSTM\n",
    "#         self.gru = layers.GRU(self.hparas['RNN_HIDDEN_SIZE'],\n",
    "#                               return_sequences=True,\n",
    "#                               return_state=True,\n",
    "#                               recurrent_initializer='glorot_uniform')\n",
    "    \n",
    "#     def call(self, text, hidden):\n",
    "#         text = self.embedding(text)\n",
    "#         output, state = self.gru(text, initial_state = hidden)\n",
    "#         return output[:, -1, :], state\n",
    "    \n",
    "#     def initialize_hidden_state(self):\n",
    "#         return tf.zeros((self.hparas['BATCH_SIZE'], self.hparas['RNN_HIDDEN_SIZE']))"
   ]
  },
  {
   "cell_type": "code",
   "execution_count": 15,
   "metadata": {},
   "outputs": [],
   "source": [
    "from transformers import TFBertModel\n",
    "\n",
    "class TextEncoder(tf.keras.Model):\n",
    "    \"\"\"\n",
    "    Encode text (a caption) into hidden representation\n",
    "    input: text\n",
    "    output: embedding, or hidden representation of input text in dimension of RNN_HIDDEN_SIZE\n",
    "    \"\"\"\n",
    "    def __init__(self, hparas):\n",
    "        super(TextEncoder, self).__init__()\n",
    "        self.hparas = hparas\n",
    "        self.batch_size = self.hparas['BATCH_SIZE']\n",
    "        self.bert = TFBertModel.from_pretrained('bert-base-uncased')\n",
    "\n",
    "    def call(self, text_ids):\n",
    "        hidden = self.bert(text_ids)[0]\n",
    "\n",
    "        return hidden[:, 0, :]"
   ]
  },
  {
   "cell_type": "markdown",
   "metadata": {},
   "source": [
    "### GAN"
   ]
  },
  {
   "cell_type": "code",
   "execution_count": 16,
   "metadata": {},
   "outputs": [],
   "source": [
    "# TODO: modify Generator, and DCGAN architecture is different from lab\n",
    "class Generator(tf.keras.Model):\n",
    "    \"\"\"\n",
    "    Generate fake image based on given text(hidden representation) and noise z\n",
    "    input: text and noise\n",
    "    output: fake image with size 64*64*3\n",
    "    \"\"\"\n",
    "    def __init__(self, hparas):\n",
    "        super(Generator, self).__init__()\n",
    "        self.hparas = hparas\n",
    "        # x-shape\n",
    "        img_shape = self.hparas['IMAGE_SIZE']\n",
    "        xh, xw, xc = img_shape\n",
    "        z_dim = self.hparas['Z_DIM']\n",
    "        # z-shape\n",
    "        zh = xh // 4 \n",
    "        zw = xw // 4\n",
    "        self.flatten = tf.keras.layers.Flatten()\n",
    "        self.denseText = tf.keras.layers.Dense(units=self.hparas['DENSE_DIM'])\n",
    "        # self.dense1 = tf.keras.layers.Dense(units=1024)\n",
    "        self.dense1 = tf.keras.layers.Dense(units=4*4*512)\n",
    "        self.dense2 = tf.keras.layers.Dense(units=zh*zw<<8)\n",
    "        self.convT1 = tf.keras.layers.Conv2DTranspose(\n",
    "            filters = 256,\n",
    "            kernel_size = 5,\n",
    "            strides = 2,\n",
    "            padding = \"SAME\"\n",
    "        )\n",
    "        self.convT2 = tf.keras.layers.Conv2DTranspose(\n",
    "            filters = 128,\n",
    "            kernel_size = 5,\n",
    "            strides = 2,\n",
    "            padding = \"SAME\"\n",
    "        )\n",
    "        self.convT3 = tf.keras.layers.Conv2DTranspose(\n",
    "            filters = 64,\n",
    "            kernel_size = 5,\n",
    "            strides = 2,\n",
    "            padding = \"SAME\"\n",
    "        )\n",
    "        self.convT4 = tf.keras.layers.Conv2DTranspose(\n",
    "            filters = xc,\n",
    "            kernel_size = 5,\n",
    "            strides = 2,\n",
    "            padding = \"SAME\",\n",
    "            activation = keras.activations.tanh # TODO: origin sigmoid\n",
    "        )\n",
    "        self.bn1 = tf.keras.layers.BatchNormalization()\n",
    "        self.bn2 = tf.keras.layers.BatchNormalization()\n",
    "        self.bn3 = tf.keras.layers.BatchNormalization()\n",
    "        self.bn4 = tf.keras.layers.BatchNormalization()\n",
    "        self.leaky_relu = tf.keras.layers.LeakyReLU(alpha=0.2) # TODO: origin relu\n",
    "        # self.reshape = tf.keras.layers.Reshape(target_shape=(zh, zw, 256))\n",
    "        self.reshape = tf.keras.layers.Reshape(target_shape=(4, 4, 512))\n",
    "        \n",
    "    def call(self, text, noise_z):\n",
    "        text = self.flatten(text)\n",
    "        # text = self.denseText(text)\n",
    "        # text = self.leaky_relu(text)\n",
    "        \n",
    "        x = tf.concat([noise_z, text], axis=1)\n",
    "        x = self.dense1(x)\n",
    "        x = self.bn1(x)\n",
    "        x = self.leaky_relu(x)\n",
    "        # x = self.dense2(x)\n",
    "        # x = self.bn2(x)\n",
    "        # x = self.leaky_relu(x)\n",
    "        x = self.reshape(x)\n",
    "        x = self.convT1(x)\n",
    "        x = self.bn2(x)\n",
    "        x = self.leaky_relu(x)\n",
    "        x = self.convT2(x)\n",
    "        x = self.bn3(x)\n",
    "        x = self.leaky_relu(x)\n",
    "        x = self.convT3(x)\n",
    "        x = self.bn4(x)\n",
    "        x = self.leaky_relu(x)\n",
    "        x = self.convT4(x)\n",
    "    \n",
    "        return None, x # TODO: origin return logits, but it seems useless"
   ]
  },
  {
   "cell_type": "code",
   "execution_count": 17,
   "metadata": {},
   "outputs": [],
   "source": [
    "# discriminator architeture is different from lab\n",
    "class Discriminator(tf.keras.Model):\n",
    "    \"\"\"\n",
    "    Differentiate the real and fake image\n",
    "    input: image and corresponding text\n",
    "    output: labels, the real image should be 1, while the fake should be 0\n",
    "    \"\"\"\n",
    "    def __init__(self, hparas):\n",
    "        super(Discriminator, self).__init__()\n",
    "        self.hparas = hparas\n",
    "        self.flatten = tf.keras.layers.Flatten()\n",
    "        self.denseText = tf.keras.layers.Dense(units=self.hparas['DENSE_DIM'])\n",
    "        self.denseImage = tf.keras.layers.Dense(units=4*4*512)\n",
    "        self.denseCombine = tf.keras.layers.Dense(units=128)\n",
    "        self.denseOut = tf.keras.layers.Dense(1)\n",
    "        self.conv1 = tf.keras.layers.Conv2D(\n",
    "            filters = 64,\n",
    "            kernel_size = 5,\n",
    "            strides = (2, 2),\n",
    "            padding = \"SAME\",\n",
    "            input_shape = self.hparas['IMAGE_SIZE'])\n",
    "        self.conv2 = tf.keras.layers.Conv2D(\n",
    "            filters = 128,\n",
    "            kernel_size = 5,\n",
    "            strides = (2, 2),\n",
    "            padding = \"SAME\"\n",
    "        )\n",
    "        self.conv3 = tf.keras.layers.Conv2D(\n",
    "            filters = 256,\n",
    "            kernel_size = 5,\n",
    "            strides = (2, 2),\n",
    "            padding = \"SAME\"\n",
    "        )\n",
    "        self.bn1 = tf.keras.layers.BatchNormalization()\n",
    "        self.bn2 = tf.keras.layers.BatchNormalization()\n",
    "        self.bn3 = tf.keras.layers.BatchNormalization()\n",
    "        self.bn4 = tf.keras.layers.BatchNormalization()\n",
    "        self.bn5 = tf.keras.layers.BatchNormalization()\n",
    "        self.bn6 = tf.keras.layers.BatchNormalization()\n",
    "        self.leaky_relu = tf.keras.layers.LeakyReLU()\n",
    "    \n",
    "    def call(self, img, text):\n",
    "        text = self.flatten(text)\n",
    "        text = self.denseText(text)\n",
    "        text = self.bn1(text) # TODO: origin no bn\n",
    "        text = self.leaky_relu(text)\n",
    "        \n",
    "        img = self.conv1(img)\n",
    "        img = self.bn2(img) # TODO: origin no bn\n",
    "        img = self.leaky_relu(img)\n",
    "        img = self.conv2(img)\n",
    "        img = self.bn3(img)\n",
    "        img = self.leaky_relu(img)\n",
    "        img = self.conv3(img)\n",
    "        img = self.bn4(img)\n",
    "        img = self.leaky_relu(img)\n",
    "        img = self.flatten(img)\n",
    "        img = self.denseImage(img)\n",
    "        img = self.bn6(img)\n",
    "        img = self.leaky_relu(img)\n",
    "        \n",
    "        # concatenate image with paired text\n",
    "        img_text = tf.concat([img, text], axis=1)\n",
    "        img_text = self.denseCombine(img_text)\n",
    "        logits = self.denseOut(img_text)\n",
    "        output = tf.nn.sigmoid(logits)\n",
    "        \n",
    "        return logits, output"
   ]
  },
  {
   "cell_type": "code",
   "execution_count": 18,
   "metadata": {},
   "outputs": [
    {
     "name": "stderr",
     "output_type": "stream",
     "text": [
      "Some weights of the PyTorch model were not used when initializing the TF 2.0 model TFBertModel: ['cls.seq_relationship.weight', 'cls.predictions.transform.LayerNorm.bias', 'cls.predictions.transform.dense.weight', 'cls.predictions.transform.LayerNorm.weight', 'cls.predictions.transform.dense.bias', 'cls.seq_relationship.bias', 'cls.predictions.bias']\n",
      "- This IS expected if you are initializing TFBertModel from a PyTorch model trained on another task or with another architecture (e.g. initializing a TFBertForSequenceClassification model from a BertForPreTraining model).\n",
      "- This IS NOT expected if you are initializing TFBertModel from a PyTorch model that you expect to be exactly identical (e.g. initializing a TFBertForSequenceClassification model from a BertForSequenceClassification model).\n",
      "All the weights of TFBertModel were initialized from the PyTorch model.\n",
      "If your task is similar to the task the model of the checkpoint was trained on, you can already use TFBertModel for predictions without further training.\n"
     ]
    }
   ],
   "source": [
    "text_encoder = TextEncoder(hparas)\n",
    "generator = Generator(hparas)\n",
    "discriminator = Discriminator(hparas)\n",
    "\n",
    "text_encoder.trainable = False"
   ]
  },
  {
   "cell_type": "markdown",
   "metadata": {},
   "source": [
    "### Loss Function and Optimization\n"
   ]
  },
  {
   "cell_type": "code",
   "execution_count": 19,
   "metadata": {},
   "outputs": [],
   "source": [
    "# # TODO: modify loss function\n",
    "# Lambda = 10\n",
    "# def cal_gradient_penalty(real_images, fake_images, text_embed):\n",
    "#     episolon = tf.random.uniform(shape=[hparas['BATCH_SIZE'], 1, 1, 1], minval=0.0, maxval=1.0)\n",
    "#     interpolated = episolon * real_images + (1 - episolon) * fake_images\n",
    "\n",
    "#     with tf.GradientTape() as gt:\n",
    "#         gt.watch(interpolated)\n",
    "#         pred, _ = discriminator(interpolated, text_embed, training = True)\n",
    "\n",
    "#     gradient_c2 = gt.gradient(pred, interpolated)\n",
    "#     slopes = tf.sqrt(tf.reduce_sum(tf.square(gradient_c2), axis=[1, 2, 3]))\n",
    "#     gradient_penalty = tf.reduce_mean(tf.square(slopes - 1.0))\n",
    "    \n",
    "#     return gradient_penalty\n",
    "\n",
    "# # WGAN + GP\n",
    "# def discriminator_loss(real_logits, fake_logits, gp):\n",
    "#     real_loss = tf.reduce_mean(real_logits)\n",
    "#     fake_loss = tf.reduce_mean(fake_logits)\n",
    "#     total_loss = fake_loss - real_loss + Lambda * gp\n",
    "#     return total_loss\n",
    "\n",
    "# def generator_loss(fake_logits):\n",
    "#     return -tf.reduce_mean(fake_logits)"
   ]
  },
  {
   "cell_type": "code",
   "execution_count": 20,
   "metadata": {},
   "outputs": [],
   "source": [
    "# This method returns a helper function to compute cross entropy loss\n",
    "cross_entropy = tf.keras.losses.BinaryCrossentropy(from_logits=True)\n",
    "\n",
    "def discriminator_loss(real_logits, fake_logits):\n",
    "    # output value of real image should be 1\n",
    "    real_loss = cross_entropy(tf.ones_like(real_logits), real_logits)\n",
    "    # output value of fake image should be 0\n",
    "    fake_loss = cross_entropy(tf.zeros_like(fake_logits), fake_logits)\n",
    "    total_loss = real_loss + fake_loss\n",
    "    return total_loss\n",
    "\n",
    "def generator_loss(fake_output):\n",
    "    # output value of fake image should be 0\n",
    "    return cross_entropy(tf.ones_like(fake_output), fake_output)"
   ]
  },
  {
   "cell_type": "code",
   "execution_count": 21,
   "metadata": {},
   "outputs": [],
   "source": [
    "# TODO: WGAN origin optimizers: RMSProp\n",
    "generator_optimizer = keras.optimizers.Adam(hparas['LR'])\n",
    "discriminator_optimizer = keras.optimizers.SGD(hparas['LR'])\n",
    "# generator_optimizer = keras.optimizers.RMSprop(hparas['LR'])\n",
    "# discriminator_optimizer = keras.optimizers.RMSprop(hparas['LR'])\n",
    "\n",
    "# one benefit of tf.train.Checkpoint() API is we can save everything seperately\n",
    "checkpoint_dir = hparas['CHECKPOINTS_DIR']\n",
    "checkpoint_prefix = os.path.join(checkpoint_dir, \"ckpt\")\n",
    "checkpoint = tf.train.Checkpoint(generator_optimizer=generator_optimizer,\n",
    "                                 discriminator_optimizer=discriminator_optimizer,\n",
    "                                 text_encoder=text_encoder, # TODO: not sure about if we need to save bert weights\n",
    "                                 generator=generator,\n",
    "                                 discriminator=discriminator)"
   ]
  },
  {
   "cell_type": "code",
   "execution_count": 22,
   "metadata": {},
   "outputs": [],
   "source": [
    "# @tf.function\n",
    "# def train_step(real_image, caption, hidden):\n",
    "#     # random noise for generator\n",
    "#     noise = tf.random.normal(shape=[hparas['BATCH_SIZE'], hparas['Z_DIM']], mean=0.0, stddev=1.0)\n",
    "    \n",
    "#     with tf.GradientTape() as gen_tape, tf.GradientTape() as disc_tape:\n",
    "#         text_embed, hidden = text_encoder(caption, hidden)\n",
    "#         _, fake_image = generator(text_embed, noise)\n",
    "#         real_logits, real_output = discriminator(real_image, text_embed)\n",
    "#         fake_logits, fake_output = discriminator(fake_image, text_embed)\n",
    "\n",
    "#         g_loss = generator_loss(fake_logits)\n",
    "#         d_loss = discriminator_loss(real_logits, fake_logits)\n",
    "\n",
    "#     grad_g = gen_tape.gradient(g_loss, generator.trainable_variables)\n",
    "#     grad_d = disc_tape.gradient(d_loss, discriminator.trainable_variables)\n",
    "\n",
    "#     generator_optimizer.apply_gradients(zip(grad_g, generator.trainable_variables))\n",
    "#     discriminator_optimizer.apply_gradients(zip(grad_d, discriminator.trainable_variables))\n",
    "    \n",
    "#     return g_loss, d_loss"
   ]
  },
  {
   "cell_type": "code",
   "execution_count": 23,
   "metadata": {},
   "outputs": [],
   "source": [
    "# TODO: modify train step\n",
    "@tf.function\n",
    "def disc_train_step(real_image, caption):\n",
    "    # random noise for generator\n",
    "    noise = tf.random.normal(shape=[hparas['BATCH_SIZE'], hparas['Z_DIM']], mean=0.0, stddev=1.0)\n",
    "    \n",
    "    with tf.GradientTape() as disc_tape:\n",
    "        text_embed = text_encoder(caption)\n",
    "        _, fake_image = generator(text_embed, noise, training=True)\n",
    "        real_logits, real_output = discriminator(real_image, text_embed, training=True)\n",
    "        fake_logits, fake_output = discriminator(fake_image, text_embed, training=True)\n",
    "    \n",
    "        # gp = cal_gradient_penalty(real_image, fake_image, text_embed)\n",
    "        g_loss = generator_loss(fake_logits)\n",
    "        d_loss = discriminator_loss(real_logits, fake_logits)\n",
    "        # d_loss = discriminator_loss(real_logits, fake_logits, gp)\n",
    "    \n",
    "    grad_d = disc_tape.gradient(d_loss, discriminator.trainable_variables)\n",
    "    discriminator_optimizer.apply_gradients(zip(grad_d, discriminator.trainable_variables))\n",
    "    \n",
    "    # clipping\n",
    "    # for v in discriminator.trainable_variables: \n",
    "    #     v.assign(tf.clip_by_value(v, -0.01, 0.01))\n",
    "    \n",
    "    return g_loss, d_loss\n",
    "\n",
    "\n",
    "@tf.function\n",
    "def gen_train_step(real_image, caption):\n",
    "    # random noise for generator\n",
    "    noise = tf.random.normal(shape=[hparas['BATCH_SIZE'], hparas['Z_DIM']], mean=0.0, stddev=1.0)\n",
    "    \n",
    "    with tf.GradientTape() as gen_tape:\n",
    "        text_embed = text_encoder(caption)\n",
    "        _, fake_image = generator(text_embed, noise, training=True)\n",
    "        real_logits, real_output = discriminator(real_image, text_embed, training=True)\n",
    "        fake_logits, fake_output = discriminator(fake_image, text_embed, training=True)\n",
    "    \n",
    "        # gp = cal_gradient_penalty(real_image, fake_image, text_embed)\n",
    "        g_loss = generator_loss(fake_logits)\n",
    "        d_loss = discriminator_loss(real_logits, fake_logits)\n",
    "        # d_loss = discriminator_loss(real_logits, fake_logits, gp)\n",
    "        \n",
    "    grad_g = gen_tape.gradient(g_loss, generator.trainable_variables)\n",
    "    generator_optimizer.apply_gradients(zip(grad_g, generator.trainable_variables))\n",
    "    \n",
    "    return g_loss, d_loss"
   ]
  },
  {
   "cell_type": "code",
   "execution_count": 24,
   "metadata": {},
   "outputs": [],
   "source": [
    "Train = []\n",
    "for i in range(hparas['CRITIC']):\n",
    "    Train.append(disc_train_step)\n",
    "Train.append(gen_train_step)"
   ]
  },
  {
   "cell_type": "code",
   "execution_count": 25,
   "metadata": {},
   "outputs": [],
   "source": [
    "# TODO: delete hidden\n",
    "@tf.function\n",
    "def test_step(caption, noise):\n",
    "    text_embed = text_encoder(caption)\n",
    "    _, fake_image = generator(text_embed, noise)\n",
    "    return fake_image"
   ]
  },
  {
   "cell_type": "markdown",
   "metadata": {},
   "source": [
    "### Visualization"
   ]
  },
  {
   "cell_type": "code",
   "execution_count": 26,
   "metadata": {},
   "outputs": [],
   "source": [
    "def merge(images, size):\n",
    "    h, w = images.shape[1], images.shape[2]\n",
    "    img = np.zeros((h * size[0], w * size[1], 3))\n",
    "    for idx, image in enumerate(images):\n",
    "        i = idx % size[1]\n",
    "        j = idx // size[1]\n",
    "        img[j*h:j*h+h, i*w:i*w+w, :] = image\n",
    "    return img\n",
    "\n",
    "def imsave(images, size, path):\n",
    "    # getting the pixel values between [0, 1] to save it\n",
    "    return plt.imsave(path, merge(images, size)*0.5 + 0.5)\n",
    "\n",
    "def save_images(images, size, image_path):\n",
    "    return imsave(images, size, image_path)"
   ]
  },
  {
   "cell_type": "code",
   "execution_count": 27,
   "metadata": {},
   "outputs": [],
   "source": [
    "def sample_generator(caption, batch_size):\n",
    "    caption = np.asarray(caption)\n",
    "    caption = caption.astype(int)\n",
    "    dataset = tf.data.Dataset.from_tensor_slices(caption)\n",
    "    dataset = dataset.batch(batch_size)\n",
    "    return dataset"
   ]
  },
  {
   "cell_type": "code",
   "execution_count": 28,
   "metadata": {},
   "outputs": [],
   "source": [
    "# Note: this cell only work for batch_size = 64\n",
    "ni = int(np.ceil(np.sqrt(hparas['BATCH_SIZE'])))\n",
    "sample_size = hparas['BATCH_SIZE']\n",
    "sample_seed = np.random.normal(loc=0.0, scale=1.0, size=(sample_size, hparas['Z_DIM'])).astype(np.float32)\n",
    "sample_sentence = [\"the flower shown has yellow anther red pistil and bright red petals.\"] * int(sample_size/ni) + \\\n",
    "                  [\"this flower has petals that are yellow, white and purple and has dark lines\"] * int(sample_size/ni) + \\\n",
    "                  [\"the petals on this flower are white with a yellow center\"] * int(sample_size/ni) + \\\n",
    "                  [\"this flower has a lot of small round pink petals.\"] * int(sample_size/ni) + \\\n",
    "                  [\"this flower is orange in color, and has petals that are ruffled and rounded.\"] * int(sample_size/ni) + \\\n",
    "                  [\"the flower has yellow petals and the center of it is brown.\"] * int(sample_size/ni) + \\\n",
    "                  [\"this flower has petals that are blue and white.\"] * int(sample_size/ni) +\\\n",
    "                  [\"these white flowers have petals that start off white in color and end in a white towards the tips.\"] * int(sample_size/ni)\n",
    "\n",
    "for i, sent in enumerate(sample_sentence):\n",
    "    # sample_sentence[i] = sent2IdList(sent)\n",
    "    sample_sentence[i] = tokenizer.encode(sent, add_special_tokens=True)\n",
    "\n",
    "max_token_length = max(len(tokens) for tokens in sample_sentence)\n",
    "paddedCaptionList = tf.keras.preprocessing.sequence.pad_sequences(sample_sentence, padding='post', maxlen=max_token_length)\n",
    "paddedCaptionList = np.asarray(paddedCaptionList).astype(int)\n",
    "sample_sentence = sample_generator(paddedCaptionList, hparas['BATCH_SIZE'])"
   ]
  },
  {
   "cell_type": "markdown",
   "metadata": {},
   "source": [
    "### Training"
   ]
  },
  {
   "cell_type": "code",
   "execution_count": 29,
   "metadata": {},
   "outputs": [],
   "source": [
    "if not os.path.exists('samples/demo'):\n",
    "    os.makedirs('samples/demo')"
   ]
  },
  {
   "cell_type": "code",
   "execution_count": 30,
   "metadata": {},
   "outputs": [],
   "source": [
    "# TODO: modify train\n",
    "def train(dataset, epochs):\n",
    "    # hidden state of RNN\n",
    "    # hidden = text_encoder.initialize_hidden_state()\n",
    "    steps_per_epoch = int(hparas['N_SAMPLE']/hparas['BATCH_SIZE'])\n",
    "    \n",
    "    checkpoint_start_time = time.time()\n",
    "    for epoch in range(epochs):\n",
    "        g_total_loss = 0\n",
    "        d_total_loss = 0\n",
    "        start = time.time()\n",
    "        \n",
    "        count = 0\n",
    "        for image, caption in dataset:\n",
    "            # captions = [text.numpy().decode('utf-8') for text in caption]\n",
    "            # g_loss, d_loss = train_step(image, caption, hidden)\n",
    "            g_loss, d_loss = Train[count](image, caption)\n",
    "            g_total_loss += g_loss\n",
    "            d_total_loss += d_loss\n",
    "            if(count == hparas['CRITIC']): count = 0\n",
    "            else: count += 1\n",
    "            \n",
    "        time_tuple = time.localtime()\n",
    "        time_string = time.strftime(\"%m/%d/%Y, %H:%M:%S\", time_tuple)\n",
    "            \n",
    "        # if(epoch % 10 == 0):\n",
    "        print(\"Epoch {}, gen_loss: {:.4f}, disc_loss: {:.4f}\".format(epoch+1,\n",
    "                                                                    g_total_loss/steps_per_epoch,\n",
    "                                                                    d_total_loss/steps_per_epoch))\n",
    "        print('Time for epoch {} is {:.4f} sec'.format(epoch+1, time.time()-checkpoint_start_time))\n",
    "        checkpoint_start_time = time.time()\n",
    "        \n",
    "        # save the model\n",
    "        if (epoch + 1) % 50 == 0:\n",
    "            checkpoint.save(file_prefix = checkpoint_prefix)\n",
    "        \n",
    "        # visualization\n",
    "        if (epoch + 1) % hparas['PRINT_FREQ'] == 0:\n",
    "            for caption in sample_sentence:\n",
    "                fake_image = test_step(caption, sample_seed)\n",
    "            save_images(fake_image, [ni, ni], 'samples/demo/train_{:02d}.jpg'.format(epoch))"
   ]
  },
  {
   "cell_type": "code",
   "execution_count": null,
   "metadata": {},
   "outputs": [],
   "source": [
    "train(dataset, hparas['N_EPOCH'])"
   ]
  },
  {
   "cell_type": "markdown",
   "metadata": {},
   "source": [
    "### "
   ]
  }
 ],
 "metadata": {
  "kernelspec": {
   "display_name": "tensorflow_gpu",
   "language": "python",
   "name": "python3"
  },
  "language_info": {
   "codemirror_mode": {
    "name": "ipython",
    "version": 3
   },
   "file_extension": ".py",
   "mimetype": "text/x-python",
   "name": "python",
   "nbconvert_exporter": "python",
   "pygments_lexer": "ipython3",
   "version": "3.9.18"
  }
 },
 "nbformat": 4,
 "nbformat_minor": 2
}
